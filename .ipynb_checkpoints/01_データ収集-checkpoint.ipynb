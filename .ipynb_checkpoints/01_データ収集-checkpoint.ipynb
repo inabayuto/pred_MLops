{
 "cells": [
  {
   "cell_type": "markdown",
   "id": "ed976864-7b97-4610-8317-5a73adb41e9c",
   "metadata": {},
   "source": [
    "# 1 モジュールのインポート"
   ]
  },
  {
   "cell_type": "code",
   "execution_count": 150,
   "id": "e5b4a1bc-cefe-40a0-b350-8cd67b04120d",
   "metadata": {},
   "outputs": [],
   "source": [
    "from modules.prepareData import *\n",
    "import pandas as pd"
   ]
  },
  {
   "cell_type": "markdown",
   "id": "1f808f13-dc7a-4227-a396-c2204c8b90e0",
   "metadata": {},
   "source": [
    "### 1.1 モジュールの更新"
   ]
  },
  {
   "cell_type": "code",
   "execution_count": 102,
   "id": "bbda5d55-35e7-481d-9716-8962d4874c3c",
   "metadata": {},
   "outputs": [
    {
     "name": "stdout",
     "output_type": "stream",
     "text": [
      "The autoreload extension is already loaded. To reload it, use:\n",
      "  %reload_ext autoreload\n"
     ]
    }
   ],
   "source": [
    "%load_ext autoreload"
   ]
  },
  {
   "cell_type": "code",
   "execution_count": 103,
   "id": "8c6ce652-fdd7-4995-9656-cc7b09d5ac56",
   "metadata": {},
   "outputs": [],
   "source": [
    "%autoreload #既にインポートされているモジュールを更新してくれる"
   ]
  },
  {
   "cell_type": "code",
   "execution_count": 74,
   "id": "ce60ff95-6521-4ece-beaf-9602a26356f7",
   "metadata": {
    "collapsed": true,
    "jupyter": {
     "outputs_hidden": true
    },
    "tags": []
   },
   "outputs": [
    {
     "data": {
      "text/plain": [
       "array(['2018105875', '2018105258', '2018101134', '2018102791',\n",
       "       '2018101539', '2018100570', '2018102192', '2018102626',\n",
       "       '2018103582', '2018101518', '2018106100', '2018101447',\n",
       "       '2018109106', '2018106896', '2018104780', '2018100737',\n",
       "       '2018105205', '2018100974', '2018104870', '2018106453',\n",
       "       '2018100926', '2018102052', '2018103196', '2018101898',\n",
       "       '2018102542', '2018103594', '2018106609', '2018100435',\n",
       "       '2018105770', '2018100706', '2018100403', '2018105166',\n",
       "       '2018102691', '2018100708', '2018104849', '2018100066',\n",
       "       '2018103698', '2018102187', '2018106086', '2018101887',\n",
       "       '2018102272', '2018103483', '2018100537', '2018103489',\n",
       "       '2018103004', '2018102954', '2018104804', '2018105800',\n",
       "       '2018110026', '2018103204', '2018103059', '2018110105',\n",
       "       '2018106334', '2018104676', '2018102444', '2018101597',\n",
       "       '2018104222', '2019104536', '2019103120', '2019109094',\n",
       "       '2019105476', '2019103815', '2019105130', '2019102456',\n",
       "       '2019100985', '2019103276', '2019106490', '2019102467',\n",
       "       '2019106524', '2019105105', '2018103266', '2018105036',\n",
       "       '2018106496', '2018103702', '2018104311', '2018105010',\n",
       "       '2018104211', '2018100857', '2018104274', '2018101449',\n",
       "       '2018105591', '2018103492', '2018101101', '2018100955',\n",
       "       '2018106580', '2017101162', '2018102229', '2018105495',\n",
       "       '2017105400', '2017100050', '2018103529', '2018101608',\n",
       "       '2016105005', '2018105247', '2017103469', '2017101561',\n",
       "       '2017104478', '2016101241', '2017105571', '2017105117',\n",
       "       '2016104238', '2017102945', '2017105368', '2018105157',\n",
       "       '2017105874', '2018104151', '2018103736', '2018101075',\n",
       "       '2018105202', '2018101722', '2017105454', '2018104860',\n",
       "       '2018105316', '2018100600', '2018103993', '2017106020',\n",
       "       '2017106232', '2018106653', '2017110168', '2018100399',\n",
       "       '2018105521', '2017105655', '2017105402', '2018104716',\n",
       "       '2014103521', '2016103067', '2018101729', '2017101523',\n",
       "       '2016104751', '2017104059', '2017110103', '2017102105',\n",
       "       '2016110058', '2015101239', '2017101248', '2017102946',\n",
       "       '2017101943', '2018101559', '2017105060', '2015104546',\n",
       "       '2017106131', '2016110126', '2017103895', '2018105595',\n",
       "       '2016104410', '2017105198', '2013100731', '2015105451',\n",
       "       '2017105137', '2015104299', '2015105960', '2016104819',\n",
       "       '2017103020', '2016103323', '2015106499'], dtype=object)"
      ]
     },
     "execution_count": 74,
     "metadata": {},
     "output_type": "execute_result"
    }
   ],
   "source": [
    "horse_id_list = pd.read_pickle(\"data/raw/results/results_sample.pickle\")[\"horse_id\"].unique()\n",
    "horse_id_list"
   ]
  },
  {
   "cell_type": "code",
   "execution_count": 53,
   "id": "3589a1c8-b77a-4514-b884-473a2ff5b0cf",
   "metadata": {},
   "outputs": [
    {
     "data": {
      "application/vnd.jupyter.widget-view+json": {
       "model_id": "ffbff89a396a4c9993b809626a1c5587",
       "version_major": 2,
       "version_minor": 0
      },
      "text/plain": [
       "  0%|          | 0/12 [00:00<?, ?it/s]"
      ]
     },
     "metadata": {},
     "output_type": "display_data"
    },
    {
     "name": "stdout",
     "output_type": "stream",
     "text": [
      "race_id 202101010101 skipped\n",
      "race_id 202101010102 skipped\n",
      "race_id 202101010103 skipped\n",
      "race_id 202101010104 skipped\n",
      "race_id 202101010105 skipped\n",
      "race_id 202101010106 skipped\n",
      "race_id 202101010107 skipped\n",
      "race_id 202101010108 skipped\n",
      "race_id 202101010109 skipped\n",
      "race_id 202101010110 skipped\n",
      "race_id 202101010111 skipped\n",
      "race_id 202101010112 skipped\n"
     ]
    },
    {
     "data": {
      "text/plain": [
       "['data/html/race/202101010101.bin',\n",
       " 'data/html/race/202101010102.bin',\n",
       " 'data/html/race/202101010103.bin',\n",
       " 'data/html/race/202101010104.bin',\n",
       " 'data/html/race/202101010105.bin',\n",
       " 'data/html/race/202101010106.bin',\n",
       " 'data/html/race/202101010107.bin',\n",
       " 'data/html/race/202101010108.bin',\n",
       " 'data/html/race/202101010109.bin',\n",
       " 'data/html/race/202101010110.bin',\n",
       " 'data/html/race/202101010111.bin',\n",
       " 'data/html/race/202101010112.bin']"
      ]
     },
     "execution_count": 53,
     "metadata": {},
     "output_type": "execute_result"
    }
   ],
   "source": [
    "getHTMLRace(race_id_list)"
   ]
  },
  {
   "cell_type": "code",
   "execution_count": 69,
   "id": "cd92e01a-cc65-46a1-990a-f9a1bb5b3745",
   "metadata": {},
   "outputs": [
    {
     "data": {
      "application/vnd.jupyter.widget-view+json": {
       "model_id": "413a67aaafc24aa7958b8f2d8273dc2d",
       "version_major": 2,
       "version_minor": 0
      },
      "text/plain": [
       "  0%|          | 0/12 [00:00<?, ?it/s]"
      ]
     },
     "metadata": {},
     "output_type": "display_data"
    },
    {
     "data": {
      "text/html": [
       "<div>\n",
       "<style scoped>\n",
       "    .dataframe tbody tr th:only-of-type {\n",
       "        vertical-align: middle;\n",
       "    }\n",
       "\n",
       "    .dataframe tbody tr th {\n",
       "        vertical-align: top;\n",
       "    }\n",
       "\n",
       "    .dataframe thead th {\n",
       "        text-align: right;\n",
       "    }\n",
       "</style>\n",
       "<table border=\"1\" class=\"dataframe\">\n",
       "  <thead>\n",
       "    <tr style=\"text-align: right;\">\n",
       "      <th></th>\n",
       "      <th>0</th>\n",
       "      <th>1</th>\n",
       "      <th>2</th>\n",
       "      <th>3</th>\n",
       "    </tr>\n",
       "  </thead>\n",
       "  <tbody>\n",
       "    <tr>\n",
       "      <th>202101010101</th>\n",
       "      <td>単勝</td>\n",
       "      <td>9</td>\n",
       "      <td>1350</td>\n",
       "      <td>7</td>\n",
       "    </tr>\n",
       "    <tr>\n",
       "      <th>202101010101</th>\n",
       "      <td>複勝</td>\n",
       "      <td>9614</td>\n",
       "      <td>3401702190</td>\n",
       "      <td>7114</td>\n",
       "    </tr>\n",
       "    <tr>\n",
       "      <th>202101010101</th>\n",
       "      <td>枠連</td>\n",
       "      <td>3 - 5</td>\n",
       "      <td>660</td>\n",
       "      <td>2</td>\n",
       "    </tr>\n",
       "    <tr>\n",
       "      <th>202101010101</th>\n",
       "      <td>馬連</td>\n",
       "      <td>6 - 9</td>\n",
       "      <td>2580</td>\n",
       "      <td>13</td>\n",
       "    </tr>\n",
       "    <tr>\n",
       "      <th>202101010101</th>\n",
       "      <td>ワイド</td>\n",
       "      <td>6 - 99 - 146 - 14</td>\n",
       "      <td>1040145606440</td>\n",
       "      <td>147747</td>\n",
       "    </tr>\n",
       "    <tr>\n",
       "      <th>...</th>\n",
       "      <td>...</td>\n",
       "      <td>...</td>\n",
       "      <td>...</td>\n",
       "      <td>...</td>\n",
       "    </tr>\n",
       "    <tr>\n",
       "      <th>202101010112</th>\n",
       "      <td>馬連</td>\n",
       "      <td>1 - 6</td>\n",
       "      <td>11680</td>\n",
       "      <td>35</td>\n",
       "    </tr>\n",
       "    <tr>\n",
       "      <th>202101010112</th>\n",
       "      <td>ワイド</td>\n",
       "      <td>1 - 61 - 44 - 6</td>\n",
       "      <td>405097502080</td>\n",
       "      <td>425427</td>\n",
       "    </tr>\n",
       "    <tr>\n",
       "      <th>202101010112</th>\n",
       "      <td>馬単</td>\n",
       "      <td>1 → 6</td>\n",
       "      <td>27410</td>\n",
       "      <td>79</td>\n",
       "    </tr>\n",
       "    <tr>\n",
       "      <th>202101010112</th>\n",
       "      <td>三連複</td>\n",
       "      <td>1 - 4 - 6</td>\n",
       "      <td>66740</td>\n",
       "      <td>144</td>\n",
       "    </tr>\n",
       "    <tr>\n",
       "      <th>202101010112</th>\n",
       "      <td>三連単</td>\n",
       "      <td>1 → 6 → 4</td>\n",
       "      <td>488790</td>\n",
       "      <td>870</td>\n",
       "    </tr>\n",
       "  </tbody>\n",
       "</table>\n",
       "<p>95 rows × 4 columns</p>\n",
       "</div>"
      ],
      "text/plain": [
       "                0                  1              2       3\n",
       "202101010101   単勝                  9           1350       7\n",
       "202101010101   複勝               9614     3401702190    7114\n",
       "202101010101   枠連              3 - 5            660       2\n",
       "202101010101   馬連              6 - 9           2580      13\n",
       "202101010101  ワイド  6 - 99 - 146 - 14  1040145606440  147747\n",
       "...           ...                ...            ...     ...\n",
       "202101010112   馬連              1 - 6          11680      35\n",
       "202101010112  ワイド    1 - 61 - 44 - 6   405097502080  425427\n",
       "202101010112   馬単              1 → 6          27410      79\n",
       "202101010112  三連複          1 - 4 - 6          66740     144\n",
       "202101010112  三連単          1 → 6 → 4         488790     870\n",
       "\n",
       "[95 rows x 4 columns]"
      ]
     },
     "execution_count": 69,
     "metadata": {},
     "output_type": "execute_result"
    }
   ],
   "source": [
    "getRowDataReturn(html_path_list)"
   ]
  },
  {
   "cell_type": "code",
   "execution_count": 133,
   "id": "2161fbc2-95e2-4ba4-b056-cec18b6afd9b",
   "metadata": {
    "tags": []
   },
   "outputs": [
    {
     "data": {
      "application/vnd.jupyter.widget-view+json": {
       "model_id": "bc00a7d2fd194e4b9029c9dcf2561f6f",
       "version_major": 2,
       "version_minor": 0
      },
      "text/plain": [
       "  0%|          | 0/155 [00:00<?, ?it/s]"
      ]
     },
     "metadata": {},
     "output_type": "display_data"
    }
   ],
   "source": [
    "html_path_list_horse = getHTMLHorse(horse_id_list)"
   ]
  },
  {
   "cell_type": "code",
   "execution_count": 152,
   "id": "7896b806-50a1-4ccf-9f96-c1477d267a5e",
   "metadata": {},
   "outputs": [
    {
     "data": {
      "application/vnd.jupyter.widget-view+json": {
       "model_id": "100d28dc24494feebccb268b58871b48",
       "version_major": 2,
       "version_minor": 0
      },
      "text/plain": [
       "  0%|          | 0/155 [00:00<?, ?it/s]"
      ]
     },
     "metadata": {},
     "output_type": "display_data"
    }
   ],
   "source": [
    "horse_results = getRawDataHorseResults(html_path_list_horse)"
   ]
  },
  {
   "cell_type": "code",
   "execution_count": 153,
   "id": "0bcd7d50-0e24-4056-a737-85b0a151021b",
   "metadata": {},
   "outputs": [],
   "source": [
    "horse_results.to_pickle(\"data/raw/horse/horse_results_sample.pcikle\")"
   ]
  },
  {
   "cell_type": "code",
   "execution_count": 156,
   "id": "47c8a511-bf3f-4879-b2bc-bdd28ef5e3fe",
   "metadata": {
    "collapsed": true,
    "jupyter": {
     "outputs_hidden": true
    },
    "tags": []
   },
   "outputs": [
    {
     "data": {
      "application/vnd.jupyter.widget-view+json": {
       "model_id": "ced23584300d41b59250e496c0f22b47",
       "version_major": 2,
       "version_minor": 0
      },
      "text/plain": [
       "  0%|          | 0/155 [00:00<?, ?it/s]"
      ]
     },
     "metadata": {},
     "output_type": "display_data"
    },
    {
     "name": "stdout",
     "output_type": "stream",
     "text": [
      "horse_id 2018105875 skipped\n",
      "horse_id 2018105258 skipped\n",
      "horse_id 2018101134 skipped\n",
      "horse_id 2018102791 skipped\n",
      "horse_id 2018101539 skipped\n",
      "horse_id 2018100570 skipped\n",
      "horse_id 2018102192 skipped\n",
      "horse_id 2018102626 skipped\n",
      "horse_id 2018103582 skipped\n",
      "horse_id 2018101518 skipped\n",
      "horse_id 2018106100 skipped\n",
      "horse_id 2018101447 skipped\n",
      "horse_id 2018109106 skipped\n",
      "horse_id 2018106896 skipped\n",
      "horse_id 2018104780 skipped\n",
      "horse_id 2018100737 skipped\n",
      "horse_id 2018105205 skipped\n",
      "horse_id 2018100974 skipped\n",
      "horse_id 2018104870 skipped\n",
      "horse_id 2018106453 skipped\n",
      "horse_id 2018100926 skipped\n",
      "horse_id 2018102052 skipped\n",
      "horse_id 2018103196 skipped\n",
      "horse_id 2018101898 skipped\n",
      "horse_id 2018102542 skipped\n",
      "horse_id 2018103594 skipped\n",
      "horse_id 2018106609 skipped\n",
      "horse_id 2018100435 skipped\n",
      "horse_id 2018105770 skipped\n"
     ]
    },
    {
     "data": {
      "text/plain": [
       "['data/html/ped/2018105875.bin',\n",
       " 'data/html/ped/2018105258.bin',\n",
       " 'data/html/ped/2018101134.bin',\n",
       " 'data/html/ped/2018102791.bin',\n",
       " 'data/html/ped/2018101539.bin',\n",
       " 'data/html/ped/2018100570.bin',\n",
       " 'data/html/ped/2018102192.bin',\n",
       " 'data/html/ped/2018102626.bin',\n",
       " 'data/html/ped/2018103582.bin',\n",
       " 'data/html/ped/2018101518.bin',\n",
       " 'data/html/ped/2018106100.bin',\n",
       " 'data/html/ped/2018101447.bin',\n",
       " 'data/html/ped/2018109106.bin',\n",
       " 'data/html/ped/2018106896.bin',\n",
       " 'data/html/ped/2018104780.bin',\n",
       " 'data/html/ped/2018100737.bin',\n",
       " 'data/html/ped/2018105205.bin',\n",
       " 'data/html/ped/2018100974.bin',\n",
       " 'data/html/ped/2018104870.bin',\n",
       " 'data/html/ped/2018106453.bin',\n",
       " 'data/html/ped/2018100926.bin',\n",
       " 'data/html/ped/2018102052.bin',\n",
       " 'data/html/ped/2018103196.bin',\n",
       " 'data/html/ped/2018101898.bin',\n",
       " 'data/html/ped/2018102542.bin',\n",
       " 'data/html/ped/2018103594.bin',\n",
       " 'data/html/ped/2018106609.bin',\n",
       " 'data/html/ped/2018100435.bin',\n",
       " 'data/html/ped/2018105770.bin',\n",
       " 'data/html/ped/2018100706.bin',\n",
       " 'data/html/ped/2018100403.bin',\n",
       " 'data/html/ped/2018105166.bin',\n",
       " 'data/html/ped/2018102691.bin',\n",
       " 'data/html/ped/2018100708.bin',\n",
       " 'data/html/ped/2018104849.bin',\n",
       " 'data/html/ped/2018100066.bin',\n",
       " 'data/html/ped/2018103698.bin',\n",
       " 'data/html/ped/2018102187.bin',\n",
       " 'data/html/ped/2018106086.bin',\n",
       " 'data/html/ped/2018101887.bin',\n",
       " 'data/html/ped/2018102272.bin',\n",
       " 'data/html/ped/2018103483.bin',\n",
       " 'data/html/ped/2018100537.bin',\n",
       " 'data/html/ped/2018103489.bin',\n",
       " 'data/html/ped/2018103004.bin',\n",
       " 'data/html/ped/2018102954.bin',\n",
       " 'data/html/ped/2018104804.bin',\n",
       " 'data/html/ped/2018105800.bin',\n",
       " 'data/html/ped/2018110026.bin',\n",
       " 'data/html/ped/2018103204.bin',\n",
       " 'data/html/ped/2018103059.bin',\n",
       " 'data/html/ped/2018110105.bin',\n",
       " 'data/html/ped/2018106334.bin',\n",
       " 'data/html/ped/2018104676.bin',\n",
       " 'data/html/ped/2018102444.bin',\n",
       " 'data/html/ped/2018101597.bin',\n",
       " 'data/html/ped/2018104222.bin',\n",
       " 'data/html/ped/2019104536.bin',\n",
       " 'data/html/ped/2019103120.bin',\n",
       " 'data/html/ped/2019109094.bin',\n",
       " 'data/html/ped/2019105476.bin',\n",
       " 'data/html/ped/2019103815.bin',\n",
       " 'data/html/ped/2019105130.bin',\n",
       " 'data/html/ped/2019102456.bin',\n",
       " 'data/html/ped/2019100985.bin',\n",
       " 'data/html/ped/2019103276.bin',\n",
       " 'data/html/ped/2019106490.bin',\n",
       " 'data/html/ped/2019102467.bin',\n",
       " 'data/html/ped/2019106524.bin',\n",
       " 'data/html/ped/2019105105.bin',\n",
       " 'data/html/ped/2018103266.bin',\n",
       " 'data/html/ped/2018105036.bin',\n",
       " 'data/html/ped/2018106496.bin',\n",
       " 'data/html/ped/2018103702.bin',\n",
       " 'data/html/ped/2018104311.bin',\n",
       " 'data/html/ped/2018105010.bin',\n",
       " 'data/html/ped/2018104211.bin',\n",
       " 'data/html/ped/2018100857.bin',\n",
       " 'data/html/ped/2018104274.bin',\n",
       " 'data/html/ped/2018101449.bin',\n",
       " 'data/html/ped/2018105591.bin',\n",
       " 'data/html/ped/2018103492.bin',\n",
       " 'data/html/ped/2018101101.bin',\n",
       " 'data/html/ped/2018100955.bin',\n",
       " 'data/html/ped/2018106580.bin',\n",
       " 'data/html/ped/2017101162.bin',\n",
       " 'data/html/ped/2018102229.bin',\n",
       " 'data/html/ped/2018105495.bin',\n",
       " 'data/html/ped/2017105400.bin',\n",
       " 'data/html/ped/2017100050.bin',\n",
       " 'data/html/ped/2018103529.bin',\n",
       " 'data/html/ped/2018101608.bin',\n",
       " 'data/html/ped/2016105005.bin',\n",
       " 'data/html/ped/2018105247.bin',\n",
       " 'data/html/ped/2017103469.bin',\n",
       " 'data/html/ped/2017101561.bin',\n",
       " 'data/html/ped/2017104478.bin',\n",
       " 'data/html/ped/2016101241.bin',\n",
       " 'data/html/ped/2017105571.bin',\n",
       " 'data/html/ped/2017105117.bin',\n",
       " 'data/html/ped/2016104238.bin',\n",
       " 'data/html/ped/2017102945.bin',\n",
       " 'data/html/ped/2017105368.bin',\n",
       " 'data/html/ped/2018105157.bin',\n",
       " 'data/html/ped/2017105874.bin',\n",
       " 'data/html/ped/2018104151.bin',\n",
       " 'data/html/ped/2018103736.bin',\n",
       " 'data/html/ped/2018101075.bin',\n",
       " 'data/html/ped/2018105202.bin',\n",
       " 'data/html/ped/2018101722.bin',\n",
       " 'data/html/ped/2017105454.bin',\n",
       " 'data/html/ped/2018104860.bin',\n",
       " 'data/html/ped/2018105316.bin',\n",
       " 'data/html/ped/2018100600.bin',\n",
       " 'data/html/ped/2018103993.bin',\n",
       " 'data/html/ped/2017106020.bin',\n",
       " 'data/html/ped/2017106232.bin',\n",
       " 'data/html/ped/2018106653.bin',\n",
       " 'data/html/ped/2017110168.bin',\n",
       " 'data/html/ped/2018100399.bin',\n",
       " 'data/html/ped/2018105521.bin',\n",
       " 'data/html/ped/2017105655.bin',\n",
       " 'data/html/ped/2017105402.bin',\n",
       " 'data/html/ped/2018104716.bin',\n",
       " 'data/html/ped/2014103521.bin',\n",
       " 'data/html/ped/2016103067.bin',\n",
       " 'data/html/ped/2018101729.bin',\n",
       " 'data/html/ped/2017101523.bin',\n",
       " 'data/html/ped/2016104751.bin',\n",
       " 'data/html/ped/2017104059.bin',\n",
       " 'data/html/ped/2017110103.bin',\n",
       " 'data/html/ped/2017102105.bin',\n",
       " 'data/html/ped/2016110058.bin',\n",
       " 'data/html/ped/2015101239.bin',\n",
       " 'data/html/ped/2017101248.bin',\n",
       " 'data/html/ped/2017102946.bin',\n",
       " 'data/html/ped/2017101943.bin',\n",
       " 'data/html/ped/2018101559.bin',\n",
       " 'data/html/ped/2017105060.bin',\n",
       " 'data/html/ped/2015104546.bin',\n",
       " 'data/html/ped/2017106131.bin',\n",
       " 'data/html/ped/2016110126.bin',\n",
       " 'data/html/ped/2017103895.bin',\n",
       " 'data/html/ped/2018105595.bin',\n",
       " 'data/html/ped/2016104410.bin',\n",
       " 'data/html/ped/2017105198.bin',\n",
       " 'data/html/ped/2013100731.bin',\n",
       " 'data/html/ped/2015105451.bin',\n",
       " 'data/html/ped/2017105137.bin',\n",
       " 'data/html/ped/2015104299.bin',\n",
       " 'data/html/ped/2015105960.bin',\n",
       " 'data/html/ped/2016104819.bin',\n",
       " 'data/html/ped/2017103020.bin',\n",
       " 'data/html/ped/2016103323.bin',\n",
       " 'data/html/ped/2015106499.bin']"
      ]
     },
     "execution_count": 156,
     "metadata": {},
     "output_type": "execute_result"
    }
   ],
   "source": [
    "getHTMLPed(horse_id_list)"
   ]
  },
  {
   "cell_type": "code",
   "execution_count": 163,
   "id": "4edde8d5-8ff5-4dd2-9f0e-2293b46177a1",
   "metadata": {},
   "outputs": [],
   "source": [
    "def getRawDataPeds(html_path_list: list):\n",
    "    \"\"\"\n",
    "    horseページのhtmlを受け取って、馬の過去成績DataFrameに変換する関数\n",
    "    \"\"\"\n",
    "    peds = {}\n",
    "    for html_path in tqdm(html_path_list):\n",
    "        with open(html_path,  'rb') as f:\n",
    "            html =  f.read()\n",
    "            \n",
    "            df =  pd.read_html(html)[0]\n",
    "            \n",
    "            #重複を削除して1列のSeries型データに直す\n",
    "            generations = {}\n",
    "            \n",
    "            # 正規表現「肯定後読み」\n",
    "            # あるパターンの後にある文字列を抜き出す\n",
    "            horse_id = re.findall('(?<=horse/)\\d+', html_path)[0]\n",
    "            \n",
    "            for i in reversed(range(5)):\n",
    "                generations[i] = df[i]\n",
    "                df.drop([i], axis=1, inplace=True)\n",
    "                df = df.drop_duplicates()\n",
    "            ped = pd.concat([generations[i] for i in range(5)]).rename(horse_id)\n",
    "\n",
    "            peds[horse_id] = ped.reset_index(drop=True)\n",
    "                \n",
    "            df.index = [horse_id] * len(df)\n",
    "            peds[horse_id] =  df\n",
    "           \n",
    "    #pd.DataFrame型にして一つのデータにまとめる\n",
    "    peds_df = pd.concat([peds[key] for key in peds])\n",
    "    return peds_df"
   ]
  },
  {
   "cell_type": "code",
   "execution_count": 161,
   "id": "6882154a-0dfb-4667-aac7-01733b9bfb0f",
   "metadata": {},
   "outputs": [],
   "source": [
    "import glob\n",
    "html_path_list_peds = glob.glob(\"data/html/ped/*.bin\")"
   ]
  },
  {
   "cell_type": "code",
   "execution_count": 162,
   "id": "02412d64-6b55-4f44-a1b0-78bd409ba71f",
   "metadata": {},
   "outputs": [
    {
     "data": {
      "application/vnd.jupyter.widget-view+json": {
       "model_id": "d3955530834244c6921ec447eb9de064",
       "version_major": 2,
       "version_minor": 0
      },
      "text/plain": [
       "  0%|          | 0/2 [00:00<?, ?it/s]"
      ]
     },
     "metadata": {},
     "output_type": "display_data"
    },
    {
     "ename": "UnboundLocalError",
     "evalue": "local variable 'horse_id' referenced before assignment",
     "output_type": "error",
     "traceback": [
      "\u001b[0;31m---------------------------------------------------------------------------\u001b[0m",
      "\u001b[0;31mUnboundLocalError\u001b[0m                         Traceback (most recent call last)",
      "\u001b[0;32m<ipython-input-162-e27b2bebe720>\u001b[0m in \u001b[0;36m<module>\u001b[0;34m\u001b[0m\n\u001b[0;32m----> 1\u001b[0;31m \u001b[0mgetRawDataPeds\u001b[0m\u001b[0;34m(\u001b[0m\u001b[0mhtml_path_list_peds\u001b[0m\u001b[0;34m[\u001b[0m\u001b[0;34m:\u001b[0m\u001b[0;36m2\u001b[0m\u001b[0;34m]\u001b[0m\u001b[0;34m)\u001b[0m\u001b[0;34m\u001b[0m\u001b[0;34m\u001b[0m\u001b[0m\n\u001b[0m",
      "\u001b[0;32m<ipython-input-158-18ce7f086e26>\u001b[0m in \u001b[0;36mgetRawDataPeds\u001b[0;34m(html_path_list)\u001b[0m\n\u001b[1;32m     16\u001b[0m                 \u001b[0mdf\u001b[0m\u001b[0;34m.\u001b[0m\u001b[0mdrop\u001b[0m\u001b[0;34m(\u001b[0m\u001b[0;34m[\u001b[0m\u001b[0mi\u001b[0m\u001b[0;34m]\u001b[0m\u001b[0;34m,\u001b[0m \u001b[0maxis\u001b[0m\u001b[0;34m=\u001b[0m\u001b[0;36m1\u001b[0m\u001b[0;34m,\u001b[0m \u001b[0minplace\u001b[0m\u001b[0;34m=\u001b[0m\u001b[0;32mTrue\u001b[0m\u001b[0;34m)\u001b[0m\u001b[0;34m\u001b[0m\u001b[0;34m\u001b[0m\u001b[0m\n\u001b[1;32m     17\u001b[0m                 \u001b[0mdf\u001b[0m \u001b[0;34m=\u001b[0m \u001b[0mdf\u001b[0m\u001b[0;34m.\u001b[0m\u001b[0mdrop_duplicates\u001b[0m\u001b[0;34m(\u001b[0m\u001b[0;34m)\u001b[0m\u001b[0;34m\u001b[0m\u001b[0;34m\u001b[0m\u001b[0m\n\u001b[0;32m---> 18\u001b[0;31m             \u001b[0mped\u001b[0m \u001b[0;34m=\u001b[0m \u001b[0mpd\u001b[0m\u001b[0;34m.\u001b[0m\u001b[0mconcat\u001b[0m\u001b[0;34m(\u001b[0m\u001b[0;34m[\u001b[0m\u001b[0mgenerations\u001b[0m\u001b[0;34m[\u001b[0m\u001b[0mi\u001b[0m\u001b[0;34m]\u001b[0m \u001b[0;32mfor\u001b[0m \u001b[0mi\u001b[0m \u001b[0;32min\u001b[0m \u001b[0mrange\u001b[0m\u001b[0;34m(\u001b[0m\u001b[0;36m5\u001b[0m\u001b[0;34m)\u001b[0m\u001b[0;34m]\u001b[0m\u001b[0;34m)\u001b[0m\u001b[0;34m.\u001b[0m\u001b[0mrename\u001b[0m\u001b[0;34m(\u001b[0m\u001b[0mhorse_id\u001b[0m\u001b[0;34m)\u001b[0m\u001b[0;34m\u001b[0m\u001b[0;34m\u001b[0m\u001b[0m\n\u001b[0m\u001b[1;32m     19\u001b[0m \u001b[0;34m\u001b[0m\u001b[0m\n\u001b[1;32m     20\u001b[0m             \u001b[0mpeds\u001b[0m\u001b[0;34m[\u001b[0m\u001b[0mhorse_id\u001b[0m\u001b[0;34m]\u001b[0m \u001b[0;34m=\u001b[0m \u001b[0mped\u001b[0m\u001b[0;34m.\u001b[0m\u001b[0mreset_index\u001b[0m\u001b[0;34m(\u001b[0m\u001b[0mdrop\u001b[0m\u001b[0;34m=\u001b[0m\u001b[0;32mTrue\u001b[0m\u001b[0;34m)\u001b[0m\u001b[0;34m\u001b[0m\u001b[0;34m\u001b[0m\u001b[0m\n",
      "\u001b[0;31mUnboundLocalError\u001b[0m: local variable 'horse_id' referenced before assignment"
     ]
    }
   ],
   "source": [
    "getRawDataPeds(html_path_list_peds[:2])"
   ]
  },
  {
   "cell_type": "code",
   "execution_count": 16,
   "id": "734b8ec8-f84f-4cad-befc-86b5ba2f6166",
   "metadata": {},
   "outputs": [],
   "source": [
    "race_info.to_pickle(\"data/raw/race_info/race_info_sample.pickle\")"
   ]
  }
 ],
 "metadata": {
  "kernelspec": {
   "display_name": "Python 3",
   "language": "python",
   "name": "python3"
  },
  "language_info": {
   "codemirror_mode": {
    "name": "ipython",
    "version": 3
   },
   "file_extension": ".py",
   "mimetype": "text/x-python",
   "name": "python",
   "nbconvert_exporter": "python",
   "pygments_lexer": "ipython3",
   "version": "3.8.2"
  }
 },
 "nbformat": 4,
 "nbformat_minor": 5
}
