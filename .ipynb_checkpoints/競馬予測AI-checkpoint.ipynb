{
 "cells": [
  {
   "cell_type": "markdown",
   "id": "2f6bedc9-649b-41ec-b734-d8412bea3bc9",
   "metadata": {
    "tags": []
   },
   "source": [
    "# 1 競馬予測"
   ]
  },
  {
   "cell_type": "code",
   "execution_count": 3,
   "id": "d3b87947-4164-44fc-ac39-0988e648fe2d",
   "metadata": {},
   "outputs": [],
   "source": [
    "# ライブラリのインポート\n",
    "import pandas as pd\n",
    "import numpy as np\n",
    "import datetime\n",
    "from tqdm.notebook import tqdm\n",
    "from sklearn.metrics import roc_auc_score\n",
    "from sklearn.preprocessing import LabelEncoder\n",
    "from sklearn.model_selection import train_test_split\n",
    "from sklearn.linear_model import LogisticRegression\n",
    "import lightgbm as lgb\n",
    "import requests\n",
    "from bs4 import BeautifulSoup\n",
    "import time\n",
    "from tqdm.notebook import tqdm\n",
    "import re\n",
    "from urllib.request import urlopen\n",
    "from itertools import combinations\n",
    "from itertools import permutations\n",
    "import matplotlib.pyplot as plt"
   ]
  },
  {
   "cell_type": "code",
   "execution_count": 4,
   "id": "62eaf7f9-1864-4d1d-b607-cc90e91e6fd9",
   "metadata": {},
   "outputs": [],
   "source": [
    "# race_idをスクレイピング\n",
    "def scrape_race_results(race_id_list, pre_race_results={}):\n",
    "    race_results = pre_race_results.copy()\n",
    "    #tqdmはどの程度for文が読み込めたか確認する\n",
    "    for race_id in tqdm(race_id_list):\n",
    "        if race_id in race_results.keys():\n",
    "             continue\n",
    "        try:\n",
    "            url = \"https://db.netkeiba.com/race/\" + race_id\n",
    "            #keyをrace_idとする\n",
    "            race_results[race_id] = pd.read_html(url)[0]\n",
    "            time.sleep(1)\n",
    "        except:\n",
    "            break\n",
    "    return race_results"
   ]
  },
  {
   "cell_type": "code",
   "execution_count": 4,
   "id": "69bca4a1-0f65-43fe-8c38-03153f4782d6",
   "metadata": {},
   "outputs": [],
   "source": [
    "# race_id_listを作成\n",
    "race_id_list = []\n",
    "for place in range(1, 11, 1):\n",
    "    for kai in range(1, 6, 1):\n",
    "        for day in range(1, 9, 1):\n",
    "            for r in range(1, 13, 1):\n",
    "                race_id = \"2020\" + str(place).zfill(2) + str(kai).zfill(2) + str(day).zfill(2) + str(r).zfill(2)\n",
    "                race_id_list.append(race_id)"
   ]
  },
  {
   "cell_type": "code",
   "execution_count": 5,
   "id": "be8ecec0-737c-41b4-b45c-ebfe25d6d728",
   "metadata": {},
   "outputs": [
    {
     "data": {
      "text/plain": [
       "4800"
      ]
     },
     "execution_count": 5,
     "metadata": {},
     "output_type": "execute_result"
    }
   ],
   "source": [
    "len(race_id_list)"
   ]
  },
  {
   "cell_type": "code",
   "execution_count": 21,
   "id": "21eb5615-078d-4476-8591-470bb2db236b",
   "metadata": {},
   "outputs": [],
   "source": [
    "# データの読み込み\n",
    "results = pd.read_pickle(\"results.pickle\")"
   ]
  },
  {
   "cell_type": "markdown",
   "id": "26f6817d-bae9-4a2a-b515-9e17bf079e30",
   "metadata": {
    "tags": []
   },
   "source": [
    "# 2 データ整形・前処理"
   ]
  },
  {
   "cell_type": "code",
   "execution_count": 37,
   "id": "ebc5a75d-2bdb-43f8-896f-b2d4e8c7f9a2",
   "metadata": {},
   "outputs": [],
   "source": [
    "# 正規表現を使ってデータを加工\n",
    "# 前処理の関数\n",
    "def preprocessing(results):\n",
    "    \n",
    "    #copyしないと元にresultsのデータも変換してしまう\n",
    "    df = results.copy()\n",
    "    #着順が数字以外の文字列を取り除く\n",
    "    df = df[~(df[\"着順\"].astype(str).str.contains(\"\\D\"))]\n",
    "    # 着順を整数型に変換\n",
    "    df[\"着順\"] = df[\"着順\"].astype(int)\n",
    "    \n",
    "    #性齢を性と年齢に分ける\n",
    "    df[\"性\"] = df[\"性齢\"].map(lambda x: str(x)[0])\n",
    "    df[\"年齢\"] = df[\"性齢\"].map(lambda x: str(x)[1:])\n",
    "    \n",
    "    # 年齢を整数型に直す\n",
    "    df[\"年齢\"] = df[\"年齢\"].astype(int)\n",
    "    \n",
    "    #馬体重を体重体重変化に分ける\n",
    "    #expand=Trueで複数列に分割\n",
    "    df[\"体重\"] = df[\"馬体重\"].str.split(\"(\", expand = True)[0].astype(int)\n",
    "    df[\"体重変化\"] = df[\"馬体重\"].str.split(\"(\", expand = True)[1].str[:-1].astype(int)\n",
    "    \n",
    "    #データをint、floatに変換\n",
    "    df[\"単勝\"] = df[\"単勝\"].astype(float)\n",
    "    \n",
    "     # データの削除\n",
    "    df.drop([\"タイム\", \"着差\", \"調教師\", \"性齢\", \"馬体重\"], axis = 1, inplace = True)\n",
    "    \n",
    "    return df"
   ]
  },
  {
   "cell_type": "code",
   "execution_count": 35,
   "id": "e5cdba7c-aab1-48cb-8a63-56c0e35e7382",
   "metadata": {},
   "outputs": [],
   "source": [
    "results = preprocessing(results)"
   ]
  },
  {
   "cell_type": "markdown",
   "id": "74d7adad-019c-4ac0-af1c-2d479ba4d2a9",
   "metadata": {
    "tags": []
   },
   "source": [
    "# 3 ロジスティック回帰で競馬予測"
   ]
  },
  {
   "cell_type": "code",
   "execution_count": 38,
   "id": "71e50b0e-86ea-433f-b5b1-e578020efbc4",
   "metadata": {},
   "outputs": [
    {
     "name": "stdout",
     "output_type": "stream",
     "text": [
      "<class 'pandas.core.frame.DataFrame'>\n",
      "Index: 43239 entries, 202001010101 to 202010020812\n",
      "Data columns (total 12 columns):\n",
      " #   Column  Non-Null Count  Dtype  \n",
      "---  ------  --------------  -----  \n",
      " 0   着順      43239 non-null  int64  \n",
      " 1   枠番      43239 non-null  int64  \n",
      " 2   馬番      43239 non-null  int64  \n",
      " 3   馬名      43239 non-null  object \n",
      " 4   斤量      43239 non-null  float64\n",
      " 5   騎手      43239 non-null  object \n",
      " 6   単勝      43239 non-null  float64\n",
      " 7   人気      43239 non-null  float64\n",
      " 8   性       43239 non-null  object \n",
      " 9   年齢      43239 non-null  int64  \n",
      " 10  体重      43239 non-null  int64  \n",
      " 11  体重変化    43239 non-null  int64  \n",
      "dtypes: float64(3), int64(6), object(3)\n",
      "memory usage: 4.3+ MB\n"
     ]
    }
   ],
   "source": [
    "results.info()"
   ]
  },
  {
   "cell_type": "code",
   "execution_count": 43,
   "id": "73039151-554a-4055-a26b-1da949905d38",
   "metadata": {},
   "outputs": [],
   "source": [
    "# 着順を1~3位と4位以下に分ける\n",
    "clip_rank = lambda x: x if x<4 else 4\n",
    "\n",
    "results[\"rank\"] = results[\"着順\"].map(clip_rank)"
   ]
  },
  {
   "cell_type": "code",
   "execution_count": 44,
   "id": "424eaf31-675a-40ce-92f0-3b2229692516",
   "metadata": {},
   "outputs": [
    {
     "data": {
      "text/plain": [
       "牡    23246\n",
       "牝    17773\n",
       "セ     2220\n",
       "Name: 性, dtype: int64"
      ]
     },
     "execution_count": 44,
     "metadata": {},
     "output_type": "execute_result"
    }
   ],
   "source": [
    "results[\"性\"].value_counts()"
   ]
  },
  {
   "cell_type": "code",
   "execution_count": 46,
   "id": "95e59457-497d-4611-bd54-20ac78e63f0c",
   "metadata": {},
   "outputs": [],
   "source": [
    "results.drop([\"着順\", \"馬名\"], axis = 1, inplace=True)"
   ]
  },
  {
   "cell_type": "code",
   "execution_count": 47,
   "id": "a57576c6-33f3-4702-a349-c1804817099a",
   "metadata": {},
   "outputs": [],
   "source": [
    "# ダミー変数化\n",
    "results_d = pd.get_dummies(results)"
   ]
  },
  {
   "cell_type": "code",
   "execution_count": 49,
   "id": "ae4478a2-fd8f-4d90-ac40-3f5210620cef",
   "metadata": {},
   "outputs": [
    {
     "data": {
      "text/html": [
       "<div>\n",
       "<style scoped>\n",
       "    .dataframe tbody tr th:only-of-type {\n",
       "        vertical-align: middle;\n",
       "    }\n",
       "\n",
       "    .dataframe tbody tr th {\n",
       "        vertical-align: top;\n",
       "    }\n",
       "\n",
       "    .dataframe thead th {\n",
       "        text-align: right;\n",
       "    }\n",
       "</style>\n",
       "<table border=\"1\" class=\"dataframe\">\n",
       "  <thead>\n",
       "    <tr style=\"text-align: right;\">\n",
       "      <th></th>\n",
       "      <th>枠番</th>\n",
       "      <th>馬番</th>\n",
       "      <th>斤量</th>\n",
       "      <th>単勝</th>\n",
       "      <th>人気</th>\n",
       "      <th>年齢</th>\n",
       "      <th>体重</th>\n",
       "      <th>体重変化</th>\n",
       "      <th>rank</th>\n",
       "      <th>騎手_シュタル</th>\n",
       "      <th>...</th>\n",
       "      <th>騎手_鮫島克也</th>\n",
       "      <th>騎手_鮫島克駿</th>\n",
       "      <th>騎手_鮫島良太</th>\n",
       "      <th>騎手_鴨宮祥行</th>\n",
       "      <th>騎手_黒岩悠</th>\n",
       "      <th>騎手_黛弘人</th>\n",
       "      <th>騎手_Ｍ．デム</th>\n",
       "      <th>性_セ</th>\n",
       "      <th>性_牝</th>\n",
       "      <th>性_牡</th>\n",
       "    </tr>\n",
       "  </thead>\n",
       "  <tbody>\n",
       "    <tr>\n",
       "      <th>202001010101</th>\n",
       "      <td>6</td>\n",
       "      <td>6</td>\n",
       "      <td>54.0</td>\n",
       "      <td>16.0</td>\n",
       "      <td>3.0</td>\n",
       "      <td>2</td>\n",
       "      <td>438</td>\n",
       "      <td>4</td>\n",
       "      <td>1</td>\n",
       "      <td>0</td>\n",
       "      <td>...</td>\n",
       "      <td>0</td>\n",
       "      <td>0</td>\n",
       "      <td>0</td>\n",
       "      <td>0</td>\n",
       "      <td>0</td>\n",
       "      <td>0</td>\n",
       "      <td>0</td>\n",
       "      <td>0</td>\n",
       "      <td>1</td>\n",
       "      <td>0</td>\n",
       "    </tr>\n",
       "    <tr>\n",
       "      <th>202001010101</th>\n",
       "      <td>2</td>\n",
       "      <td>2</td>\n",
       "      <td>54.0</td>\n",
       "      <td>1.9</td>\n",
       "      <td>2.0</td>\n",
       "      <td>2</td>\n",
       "      <td>510</td>\n",
       "      <td>0</td>\n",
       "      <td>2</td>\n",
       "      <td>0</td>\n",
       "      <td>...</td>\n",
       "      <td>0</td>\n",
       "      <td>0</td>\n",
       "      <td>0</td>\n",
       "      <td>0</td>\n",
       "      <td>0</td>\n",
       "      <td>0</td>\n",
       "      <td>0</td>\n",
       "      <td>0</td>\n",
       "      <td>0</td>\n",
       "      <td>1</td>\n",
       "    </tr>\n",
       "    <tr>\n",
       "      <th>202001010101</th>\n",
       "      <td>3</td>\n",
       "      <td>3</td>\n",
       "      <td>54.0</td>\n",
       "      <td>1.8</td>\n",
       "      <td>1.0</td>\n",
       "      <td>2</td>\n",
       "      <td>482</td>\n",
       "      <td>-6</td>\n",
       "      <td>3</td>\n",
       "      <td>0</td>\n",
       "      <td>...</td>\n",
       "      <td>0</td>\n",
       "      <td>0</td>\n",
       "      <td>0</td>\n",
       "      <td>0</td>\n",
       "      <td>0</td>\n",
       "      <td>0</td>\n",
       "      <td>0</td>\n",
       "      <td>0</td>\n",
       "      <td>0</td>\n",
       "      <td>1</td>\n",
       "    </tr>\n",
       "    <tr>\n",
       "      <th>202001010101</th>\n",
       "      <td>1</td>\n",
       "      <td>1</td>\n",
       "      <td>52.0</td>\n",
       "      <td>22.2</td>\n",
       "      <td>4.0</td>\n",
       "      <td>2</td>\n",
       "      <td>442</td>\n",
       "      <td>0</td>\n",
       "      <td>4</td>\n",
       "      <td>0</td>\n",
       "      <td>...</td>\n",
       "      <td>0</td>\n",
       "      <td>0</td>\n",
       "      <td>0</td>\n",
       "      <td>0</td>\n",
       "      <td>0</td>\n",
       "      <td>0</td>\n",
       "      <td>0</td>\n",
       "      <td>0</td>\n",
       "      <td>1</td>\n",
       "      <td>0</td>\n",
       "    </tr>\n",
       "    <tr>\n",
       "      <th>202001010101</th>\n",
       "      <td>4</td>\n",
       "      <td>4</td>\n",
       "      <td>54.0</td>\n",
       "      <td>55.7</td>\n",
       "      <td>5.0</td>\n",
       "      <td>2</td>\n",
       "      <td>426</td>\n",
       "      <td>-8</td>\n",
       "      <td>4</td>\n",
       "      <td>0</td>\n",
       "      <td>...</td>\n",
       "      <td>0</td>\n",
       "      <td>0</td>\n",
       "      <td>0</td>\n",
       "      <td>0</td>\n",
       "      <td>0</td>\n",
       "      <td>0</td>\n",
       "      <td>0</td>\n",
       "      <td>0</td>\n",
       "      <td>0</td>\n",
       "      <td>1</td>\n",
       "    </tr>\n",
       "    <tr>\n",
       "      <th>...</th>\n",
       "      <td>...</td>\n",
       "      <td>...</td>\n",
       "      <td>...</td>\n",
       "      <td>...</td>\n",
       "      <td>...</td>\n",
       "      <td>...</td>\n",
       "      <td>...</td>\n",
       "      <td>...</td>\n",
       "      <td>...</td>\n",
       "      <td>...</td>\n",
       "      <td>...</td>\n",
       "      <td>...</td>\n",
       "      <td>...</td>\n",
       "      <td>...</td>\n",
       "      <td>...</td>\n",
       "      <td>...</td>\n",
       "      <td>...</td>\n",
       "      <td>...</td>\n",
       "      <td>...</td>\n",
       "      <td>...</td>\n",
       "      <td>...</td>\n",
       "    </tr>\n",
       "    <tr>\n",
       "      <th>202010020812</th>\n",
       "      <td>1</td>\n",
       "      <td>1</td>\n",
       "      <td>57.0</td>\n",
       "      <td>6.5</td>\n",
       "      <td>4.0</td>\n",
       "      <td>4</td>\n",
       "      <td>476</td>\n",
       "      <td>-2</td>\n",
       "      <td>4</td>\n",
       "      <td>0</td>\n",
       "      <td>...</td>\n",
       "      <td>0</td>\n",
       "      <td>0</td>\n",
       "      <td>0</td>\n",
       "      <td>0</td>\n",
       "      <td>0</td>\n",
       "      <td>0</td>\n",
       "      <td>0</td>\n",
       "      <td>0</td>\n",
       "      <td>0</td>\n",
       "      <td>1</td>\n",
       "    </tr>\n",
       "    <tr>\n",
       "      <th>202010020812</th>\n",
       "      <td>8</td>\n",
       "      <td>14</td>\n",
       "      <td>57.0</td>\n",
       "      <td>19.8</td>\n",
       "      <td>8.0</td>\n",
       "      <td>4</td>\n",
       "      <td>522</td>\n",
       "      <td>-8</td>\n",
       "      <td>4</td>\n",
       "      <td>0</td>\n",
       "      <td>...</td>\n",
       "      <td>0</td>\n",
       "      <td>0</td>\n",
       "      <td>0</td>\n",
       "      <td>0</td>\n",
       "      <td>0</td>\n",
       "      <td>0</td>\n",
       "      <td>0</td>\n",
       "      <td>0</td>\n",
       "      <td>0</td>\n",
       "      <td>1</td>\n",
       "    </tr>\n",
       "    <tr>\n",
       "      <th>202010020812</th>\n",
       "      <td>8</td>\n",
       "      <td>15</td>\n",
       "      <td>57.0</td>\n",
       "      <td>75.0</td>\n",
       "      <td>14.0</td>\n",
       "      <td>5</td>\n",
       "      <td>510</td>\n",
       "      <td>0</td>\n",
       "      <td>4</td>\n",
       "      <td>0</td>\n",
       "      <td>...</td>\n",
       "      <td>0</td>\n",
       "      <td>0</td>\n",
       "      <td>0</td>\n",
       "      <td>0</td>\n",
       "      <td>0</td>\n",
       "      <td>0</td>\n",
       "      <td>0</td>\n",
       "      <td>0</td>\n",
       "      <td>0</td>\n",
       "      <td>1</td>\n",
       "    </tr>\n",
       "    <tr>\n",
       "      <th>202010020812</th>\n",
       "      <td>2</td>\n",
       "      <td>3</td>\n",
       "      <td>55.0</td>\n",
       "      <td>46.1</td>\n",
       "      <td>10.0</td>\n",
       "      <td>4</td>\n",
       "      <td>488</td>\n",
       "      <td>-12</td>\n",
       "      <td>4</td>\n",
       "      <td>0</td>\n",
       "      <td>...</td>\n",
       "      <td>0</td>\n",
       "      <td>0</td>\n",
       "      <td>0</td>\n",
       "      <td>0</td>\n",
       "      <td>0</td>\n",
       "      <td>0</td>\n",
       "      <td>0</td>\n",
       "      <td>0</td>\n",
       "      <td>1</td>\n",
       "      <td>0</td>\n",
       "    </tr>\n",
       "    <tr>\n",
       "      <th>202010020812</th>\n",
       "      <td>7</td>\n",
       "      <td>13</td>\n",
       "      <td>52.0</td>\n",
       "      <td>24.7</td>\n",
       "      <td>9.0</td>\n",
       "      <td>3</td>\n",
       "      <td>468</td>\n",
       "      <td>2</td>\n",
       "      <td>4</td>\n",
       "      <td>0</td>\n",
       "      <td>...</td>\n",
       "      <td>0</td>\n",
       "      <td>0</td>\n",
       "      <td>0</td>\n",
       "      <td>0</td>\n",
       "      <td>0</td>\n",
       "      <td>0</td>\n",
       "      <td>0</td>\n",
       "      <td>0</td>\n",
       "      <td>1</td>\n",
       "      <td>0</td>\n",
       "    </tr>\n",
       "  </tbody>\n",
       "</table>\n",
       "<p>43239 rows × 186 columns</p>\n",
       "</div>"
      ],
      "text/plain": [
       "              枠番  馬番    斤量    単勝    人気  年齢   体重  体重変化  rank  騎手_シュタル  ...  \\\n",
       "202001010101   6   6  54.0  16.0   3.0   2  438     4     1        0  ...   \n",
       "202001010101   2   2  54.0   1.9   2.0   2  510     0     2        0  ...   \n",
       "202001010101   3   3  54.0   1.8   1.0   2  482    -6     3        0  ...   \n",
       "202001010101   1   1  52.0  22.2   4.0   2  442     0     4        0  ...   \n",
       "202001010101   4   4  54.0  55.7   5.0   2  426    -8     4        0  ...   \n",
       "...           ..  ..   ...   ...   ...  ..  ...   ...   ...      ...  ...   \n",
       "202010020812   1   1  57.0   6.5   4.0   4  476    -2     4        0  ...   \n",
       "202010020812   8  14  57.0  19.8   8.0   4  522    -8     4        0  ...   \n",
       "202010020812   8  15  57.0  75.0  14.0   5  510     0     4        0  ...   \n",
       "202010020812   2   3  55.0  46.1  10.0   4  488   -12     4        0  ...   \n",
       "202010020812   7  13  52.0  24.7   9.0   3  468     2     4        0  ...   \n",
       "\n",
       "              騎手_鮫島克也  騎手_鮫島克駿  騎手_鮫島良太  騎手_鴨宮祥行  騎手_黒岩悠  騎手_黛弘人  騎手_Ｍ．デム  \\\n",
       "202001010101        0        0        0        0       0       0        0   \n",
       "202001010101        0        0        0        0       0       0        0   \n",
       "202001010101        0        0        0        0       0       0        0   \n",
       "202001010101        0        0        0        0       0       0        0   \n",
       "202001010101        0        0        0        0       0       0        0   \n",
       "...               ...      ...      ...      ...     ...     ...      ...   \n",
       "202010020812        0        0        0        0       0       0        0   \n",
       "202010020812        0        0        0        0       0       0        0   \n",
       "202010020812        0        0        0        0       0       0        0   \n",
       "202010020812        0        0        0        0       0       0        0   \n",
       "202010020812        0        0        0        0       0       0        0   \n",
       "\n",
       "              性_セ  性_牝  性_牡  \n",
       "202001010101    0    1    0  \n",
       "202001010101    0    0    1  \n",
       "202001010101    0    0    1  \n",
       "202001010101    0    1    0  \n",
       "202001010101    0    0    1  \n",
       "...           ...  ...  ...  \n",
       "202010020812    0    0    1  \n",
       "202010020812    0    0    1  \n",
       "202010020812    0    0    1  \n",
       "202010020812    0    1    0  \n",
       "202010020812    0    1    0  \n",
       "\n",
       "[43239 rows x 186 columns]"
      ]
     },
     "execution_count": 49,
     "metadata": {},
     "output_type": "execute_result"
    }
   ],
   "source": [
    "results_d"
   ]
  },
  {
   "cell_type": "code",
   "execution_count": 55,
   "id": "5550b432-55f1-49e3-a91e-69262161aaeb",
   "metadata": {},
   "outputs": [],
   "source": [
    "X = results_d.drop([\"rank\"], axis=1)\n",
    "y = results_d[\"rank\"]\n",
    "\n",
    "# stratifyは目的変数のデータを均等に分ける様に指示する\n",
    "X_train, X_test, y_train, y_test = train_test_split(\n",
    "    X, y, stratify=y,test_size=0.3, random_state=0)"
   ]
  },
  {
   "cell_type": "code",
   "execution_count": 58,
   "id": "bd04e5a6-149c-42e3-8a93-f92213346419",
   "metadata": {},
   "outputs": [
    {
     "name": "stderr",
     "output_type": "stream",
     "text": [
      "/Users/inabahayato/Downloads/anaconda3/anaconda3/lib/python3.8/site-packages/sklearn/linear_model/_logistic.py:814: ConvergenceWarning: lbfgs failed to converge (status=1):\n",
      "STOP: TOTAL NO. of ITERATIONS REACHED LIMIT.\n",
      "\n",
      "Increase the number of iterations (max_iter) or scale the data as shown in:\n",
      "    https://scikit-learn.org/stable/modules/preprocessing.html\n",
      "Please also refer to the documentation for alternative solver options:\n",
      "    https://scikit-learn.org/stable/modules/linear_model.html#logistic-regression\n",
      "  n_iter_i = _check_optimize_result(\n"
     ]
    },
    {
     "data": {
      "text/plain": [
       "LogisticRegression()"
      ]
     },
     "execution_count": 58,
     "metadata": {},
     "output_type": "execute_result"
    }
   ],
   "source": [
    "# モデルの学習\n",
    "model = LogisticRegression()\n",
    "model.fit(X_train, y_train)"
   ]
  },
  {
   "cell_type": "code",
   "execution_count": 59,
   "id": "81707a09-bd1d-4010-a1fc-42c87c308414",
   "metadata": {},
   "outputs": [
    {
     "name": "stdout",
     "output_type": "stream",
     "text": [
      "0.7832953381570688 0.7833024976873265\n"
     ]
    }
   ],
   "source": [
    "print(model.score(X_train, y_train), model.score(X_test, y_test))"
   ]
  },
  {
   "cell_type": "code",
   "execution_count": 66,
   "id": "cea2978c-5a34-4b25-b5be-d479e35d7f49",
   "metadata": {},
   "outputs": [],
   "source": [
    "# 不均衡データの処理\n",
    "# アンダーサンプリング\n",
    "from imblearn.under_sampling import RandomUnderSampler\n",
    "\n",
    "\n",
    "rank_1 = y_train.value_counts()[1]\n",
    "rank_2 = y_train.value_counts()[2]\n",
    "rank_3 = y_train.value_counts()[3]\n",
    "\n",
    "rus = RandomUnderSampler(\n",
    "    #ratio={1: rank_1, 2: rank_2, 3: rank_3, 4: rank_1},\n",
    "    sampling_strategy={1: rank_1, 2: rank_2, 3: rank_3, 4: rank_1},\n",
    "    random_state=71)"
   ]
  },
  {
   "cell_type": "code",
   "execution_count": 67,
   "id": "be65122e-a43b-4554-9aff-8ccf17ce5306",
   "metadata": {},
   "outputs": [],
   "source": [
    "X_train_rus, y_train_rus = rus.fit_resample(X_train.values, y_train.values)"
   ]
  },
  {
   "cell_type": "code",
   "execution_count": 68,
   "id": "f45206cf-ccec-4994-8d48-ef1226d5c971",
   "metadata": {},
   "outputs": [
    {
     "name": "stderr",
     "output_type": "stream",
     "text": [
      "/Users/inabahayato/Downloads/anaconda3/anaconda3/lib/python3.8/site-packages/sklearn/linear_model/_logistic.py:814: ConvergenceWarning: lbfgs failed to converge (status=1):\n",
      "STOP: TOTAL NO. of ITERATIONS REACHED LIMIT.\n",
      "\n",
      "Increase the number of iterations (max_iter) or scale the data as shown in:\n",
      "    https://scikit-learn.org/stable/modules/preprocessing.html\n",
      "Please also refer to the documentation for alternative solver options:\n",
      "    https://scikit-learn.org/stable/modules/linear_model.html#logistic-regression\n",
      "  n_iter_i = _check_optimize_result(\n"
     ]
    },
    {
     "data": {
      "text/plain": [
       "LogisticRegression()"
      ]
     },
     "execution_count": 68,
     "metadata": {},
     "output_type": "execute_result"
    }
   ],
   "source": [
    "# モデルの学習\n",
    "model = LogisticRegression()\n",
    "model.fit(X_train_rus, y_train_rus)"
   ]
  },
  {
   "cell_type": "code",
   "execution_count": 69,
   "id": "9bcddcda-6d90-4930-8c43-aecffc1165c5",
   "metadata": {},
   "outputs": [
    {
     "name": "stdout",
     "output_type": "stream",
     "text": [
      "0.5530445699937225 0.5399321615787851\n"
     ]
    },
    {
     "name": "stderr",
     "output_type": "stream",
     "text": [
      "/Users/inabahayato/Downloads/anaconda3/anaconda3/lib/python3.8/site-packages/sklearn/base.py:443: UserWarning: X has feature names, but LogisticRegression was fitted without feature names\n",
      "  warnings.warn(\n",
      "/Users/inabahayato/Downloads/anaconda3/anaconda3/lib/python3.8/site-packages/sklearn/base.py:443: UserWarning: X has feature names, but LogisticRegression was fitted without feature names\n",
      "  warnings.warn(\n"
     ]
    }
   ],
   "source": [
    "print(model.score(X_train, y_train), model.score(X_test, y_test))"
   ]
  },
  {
   "cell_type": "code",
   "execution_count": 70,
   "id": "5efdefad-8dfe-402f-93f8-0eb6fd847426",
   "metadata": {},
   "outputs": [
    {
     "name": "stderr",
     "output_type": "stream",
     "text": [
      "/Users/inabahayato/Downloads/anaconda3/anaconda3/lib/python3.8/site-packages/sklearn/base.py:443: UserWarning: X has feature names, but LogisticRegression was fitted without feature names\n",
      "  warnings.warn(\n"
     ]
    }
   ],
   "source": [
    "y_pred = model.predict(X_test)"
   ]
  },
  {
   "cell_type": "code",
   "execution_count": 74,
   "id": "97627234-6ddc-4a53-9469-40b82031d77f",
   "metadata": {},
   "outputs": [],
   "source": [
    "pred_df = pd.DataFrame({\"pred\": y_pred, \"actual\": y_test})"
   ]
  },
  {
   "cell_type": "code",
   "execution_count": 78,
   "id": "6e4e33ce-0769-4c5a-8880-787d329d33e8",
   "metadata": {},
   "outputs": [
    {
     "data": {
      "text/plain": [
       "4    1561\n",
       "1     586\n",
       "2     522\n",
       "3     389\n",
       "Name: actual, dtype: int64"
      ]
     },
     "execution_count": 78,
     "metadata": {},
     "output_type": "execute_result"
    }
   ],
   "source": [
    "# 予測結果の確認\n",
    "pred_df[pred_df[\"pred\"]== 1][\"actual\"].value_counts()"
   ]
  },
  {
   "cell_type": "code",
   "execution_count": 79,
   "id": "cf02bb91-b2f0-40a4-ba79-300baa95cbc9",
   "metadata": {},
   "outputs": [
    {
     "data": {
      "text/plain": [
       "3058"
      ]
     },
     "execution_count": 79,
     "metadata": {},
     "output_type": "execute_result"
    }
   ],
   "source": [
    "len(pred_df[pred_df[\"pred\"] == 1])"
   ]
  },
  {
   "cell_type": "code",
   "execution_count": 89,
   "id": "1c15cd7e-82b1-45c5-9fe7-f397639bdec0",
   "metadata": {},
   "outputs": [
    {
     "data": {
      "text/plain": [
       "人気        -0.118424\n",
       "年齢        -0.023081\n",
       "斤量        -0.016158\n",
       "枠番        -0.006977\n",
       "単勝        -0.004905\n",
       "             ...   \n",
       "騎手_松山弘平    0.002564\n",
       "騎手_福永祐一    0.002893\n",
       "体重         0.003576\n",
       "騎手_ルメール    0.003979\n",
       "騎手_川田将雅    0.004568\n",
       "Length: 185, dtype: float64"
      ]
     },
     "execution_count": 89,
     "metadata": {},
     "output_type": "execute_result"
    }
   ],
   "source": [
    "# 回帰係数の確認\n",
    "coefs = pd.Series(model.coef_[0], index = X.columns).sort_values()\n",
    "coefs "
   ]
  },
  {
   "cell_type": "code",
   "execution_count": 92,
   "id": "73e6b176-d34e-43b8-ac63-5941a15a6607",
   "metadata": {},
   "outputs": [
    {
     "data": {
      "text/plain": [
       "4    227\n",
       "1    156\n",
       "2    103\n",
       "3     58\n",
       "Name: rank, dtype: int64"
      ]
     },
     "execution_count": 92,
     "metadata": {},
     "output_type": "execute_result"
    }
   ],
   "source": [
    "results[results[\"騎手\"] == \"川田将雅\"][\"rank\"].value_counts()"
   ]
  },
  {
   "cell_type": "code",
   "execution_count": 93,
   "id": "cbdd083c-3e42-4e59-a410-b45b80c958a1",
   "metadata": {},
   "outputs": [
    {
     "data": {
      "text/plain": [
       "枠番     -0.006977\n",
       "馬番      0.002074\n",
       "斤量     -0.016158\n",
       "単勝     -0.004905\n",
       "人気     -0.118424\n",
       "年齢     -0.023081\n",
       "体重      0.003576\n",
       "体重変化   -0.003654\n",
       "dtype: float64"
      ]
     },
     "execution_count": 93,
     "metadata": {},
     "output_type": "execute_result"
    }
   ],
   "source": [
    "# 騎手以外の確認\n",
    "coefs[[\"枠番\", \"馬番\", \"斤量\", \"単勝\", \"人気\", \"年齢\", \"体重\", \"体重変化\"]]"
   ]
  },
  {
   "cell_type": "markdown",
   "id": "e03aeb7e-2d30-4cee-bafd-58234855b1a1",
   "metadata": {
    "tags": []
   },
   "source": [
    "# 4 ランダムフォレストで競馬予測"
   ]
  },
  {
   "cell_type": "code",
   "execution_count": 48,
   "id": "df1a072d-616c-4060-b645-d7197340ef7a",
   "metadata": {},
   "outputs": [],
   "source": [
    "def scrape_race_info(race_id_list):\n",
    "    race_infos = {}\n",
    "    for race_id in tqdm(race_id_list):\n",
    "        try:\n",
    "            url = \"https://db.netkeiba.com/race/\" + race_id\n",
    "            html = requests.get(url)\n",
    "            html.encoding = \"EUC-JP\"\n",
    "            soup = BeautifulSoup(html.text, \"html.parser\")\n",
    "    \n",
    "            texts = soup.find(\"div\", attrs = {\"class\": \"data_intro\"}).find_all(\"p\")[0].text + \\\n",
    "                soup.find(\"div\", attrs = {\"class\": \"data_intro\"}).find_all(\"p\")[1].text\n",
    "            info = re.findall(r'\\w+', texts)\n",
    "            info_dict = {}\n",
    "            for text in info:\n",
    "                if text in [\"芝\", \"ダート\"]:\n",
    "                    info_dict[\"race_type\"] = text\n",
    "                if \"障\" in text:\n",
    "                    info_dict[\"race_type\"] = \"障害\"\n",
    "                if \"m\" in text:\n",
    "                    info_dict[\"coures_len\"] = re.findall(r'\\d+', text)[0]\n",
    "                if text in [\"良\",\"稍重\",\"　重\",\"　不良\"]:\n",
    "                    info_dict[\"ground_state\"] = text\n",
    "                if text in [\"曇\", \"晴\", \"雨\", \"小雨\", \"小雪\", \"雪\"]:\n",
    "                    info_dict[\"weather\"] = text\n",
    "                if \"年\" in text:\n",
    "                    info_dict[\"date\"] = text\n",
    "            race_infos[race_id] = info_dict\n",
    "            time.sleep(1)\n",
    "        except IndexError:\n",
    "            continue\n",
    "        except Exception as e:\n",
    "            print(e)\n",
    "            break\n",
    "    return race_infos  "
   ]
  },
  {
   "cell_type": "code",
   "execution_count": 153,
   "id": "ab73bad0-34d5-422a-9b5d-8b33f60962e7",
   "metadata": {},
   "outputs": [],
   "source": [
    "# resultsを取得\n",
    "results = pd.read_pickle(\"results.pickle\")"
   ]
  },
  {
   "cell_type": "code",
   "execution_count": 154,
   "id": "01d754cb-c30a-4ba1-a44e-f27cd091a1fb",
   "metadata": {},
   "outputs": [],
   "source": [
    "# race_infosの取得\n",
    "race_infos = pd.read_pickle(\"race_infos.pickle\")"
   ]
  },
  {
   "cell_type": "code",
   "execution_count": 155,
   "id": "fc8a3af9-4907-4ec1-bd2d-bfa5b21c09cb",
   "metadata": {},
   "outputs": [],
   "source": [
    "# データの統合\n",
    "results_addinfo = results.merge(race_infos, left_index=True, right_index=True, how=\"inner\")"
   ]
  },
  {
   "cell_type": "code",
   "execution_count": 445,
   "id": "82c17deb-c211-498c-a3d5-dad47bd9218e",
   "metadata": {},
   "outputs": [],
   "source": [
    "# date列の処理を追加した前処理の関数\n",
    "def preprocessing(results):\n",
    "    \n",
    "    #copyしないと元にresultsのデータも変換してしまう\n",
    "    df = results.copy()\n",
    "    #着順が数字以外の文字列を取り除く\n",
    "    df = df[~(df[\"着順\"].astype(str).str.contains(\"\\D\"))]\n",
    "    # 着順を整数型に変換\n",
    "    df[\"着順\"] = df[\"着順\"].astype(int)\n",
    "    \n",
    "    #性齢を性と年齢に分ける\n",
    "    df[\"性\"] = df[\"性齢\"].map(lambda x: str(x)[0])\n",
    "    df[\"年齢\"] = df[\"性齢\"].map(lambda x: str(x)[1:])\n",
    "    \n",
    "    # 年齢を整数型に直す\n",
    "    df[\"年齢\"] = df[\"年齢\"].astype(int)\n",
    "    \n",
    "    #馬体重を体重体重変化に分ける\n",
    "    #expand=Trueで複数列に分割\n",
    "    df[\"体重\"] = df[\"馬体重\"].str.split(\"(\", expand = True)[0].astype(int)\n",
    "    df[\"体重変化\"] = df[\"馬体重\"].str.split(\"(\", expand = True)[1].str[:-1].astype(int)\n",
    "    \n",
    "    #データをint、floatに変換\n",
    "    df[\"単勝\"] = df[\"単勝\"].astype(float)\n",
    "    \n",
    "     # データの削除\n",
    "    df.drop([\"タイム\", \"着差\", \"調教師\", \"性齢\", \"馬体重\", \"馬名\", \"騎手\"], axis = 1, inplace = True)\n",
    "    \n",
    "    df[\"date\"] = pd.to_datetime(df[\"date\"], format=\"%Y年%m月%d日\")\n",
    "    \n",
    "    return df"
   ]
  },
  {
   "cell_type": "code",
   "execution_count": 157,
   "id": "711031e0-96be-4be5-9321-f177da05d832",
   "metadata": {},
   "outputs": [],
   "source": [
    "results_p = preprocessing(results_addinfo)"
   ]
  },
  {
   "cell_type": "code",
   "execution_count": 396,
   "id": "07ba2222-bdb6-47c7-9ba5-fbf0946f70f5",
   "metadata": {},
   "outputs": [],
   "source": [
    "# データの分割\n",
    "def split_data(df, test_size=0.3):\n",
    "    sorted_id_list = df.sort_values(\"date\").index.unique()\n",
    "    train_id_list = sorted_id_list[: round(len(sorted_id_list) * (1 - test_size))]\n",
    "    test_id_list = sorted_id_list[round(len(sorted_id_list) * (1 - test_size)) :]\n",
    "    train = df.loc[train_id_list].drop([\"date\"], axis =1 )\n",
    "    test = df.loc[test_id_list].drop([\"date\"], axis =1 )\n",
    "    return train, test"
   ]
  },
  {
   "cell_type": "code",
   "execution_count": 159,
   "id": "926745b2-76e2-4d4f-ae35-c17c60cce404",
   "metadata": {},
   "outputs": [],
   "source": [
    "# モデルの作成\n",
    "results_p.drop([\"馬名\"], axis=1, inplace=True)\n",
    "results_d = pd.get_dummies(results_p)\n",
    "results_d[\"rank\"] = results_d[\"着順\"].map(lambda x: x if x < 4 else 4)\n",
    "train, test = split_data(results_d, test_size=0.3)\n",
    "X_train = train.drop([\"着順\", \"date\", \"rank\"], axis=1)\n",
    "y_train = train[\"rank\"]\n",
    "X_test = test.drop([\"着順\", \"date\", \"rank\"], axis=1)\n",
    "y_test = test[\"rank\"]"
   ]
  },
  {
   "cell_type": "code",
   "execution_count": 160,
   "id": "1eb80bc5-b68b-46db-a363-4e4eacc9bc7f",
   "metadata": {},
   "outputs": [],
   "source": [
    "#アンダーサンプリング\n",
    "from imblearn.under_sampling import RandomUnderSampler\n",
    "\n",
    "rank_1 = train[\"rank\"].value_counts()[1]\n",
    "rank_2 = train[\"rank\"].value_counts()[2]\n",
    "rank_3 = train[\"rank\"].value_counts()[3]\n",
    "rus = RandomUnderSampler(\n",
    "    sampling_strategy={1: rank_1, 2: rank_2, 3: rank_3, 4: rank_1}, random_state=71\n",
    ")"
   ]
  },
  {
   "cell_type": "code",
   "execution_count": 162,
   "id": "71df838d-94d9-48c6-af4e-f19461c28ac3",
   "metadata": {},
   "outputs": [],
   "source": [
    "X_train_rus, y_train_rus = rus.fit_resample(X_train.values, y_train.values)"
   ]
  },
  {
   "cell_type": "code",
   "execution_count": 164,
   "id": "cc3c5296-03da-4f3c-8a4e-a54626c7908f",
   "metadata": {},
   "outputs": [
    {
     "name": "stderr",
     "output_type": "stream",
     "text": [
      "/Users/inabahayato/Downloads/anaconda3/anaconda3/lib/python3.8/site-packages/sklearn/base.py:443: UserWarning: X has feature names, but RandomForestClassifier was fitted without feature names\n",
      "  warnings.warn(\n",
      "/Users/inabahayato/Downloads/anaconda3/anaconda3/lib/python3.8/site-packages/sklearn/base.py:443: UserWarning: X has feature names, but RandomForestClassifier was fitted without feature names\n",
      "  warnings.warn(\n"
     ]
    },
    {
     "name": "stdout",
     "output_type": "stream",
     "text": [
      "0.7164371346477757 0.5383487654320988\n"
     ]
    }
   ],
   "source": [
    "#ランダムフォレストによる予測\n",
    "from sklearn.ensemble import RandomForestClassifier\n",
    "\n",
    "clf = RandomForestClassifier(random_state=0)\n",
    "clf.fit(X_train_rus, y_train_rus)\n",
    "print(clf.score(X_train, y_train), clf.score(X_test, y_test))"
   ]
  },
  {
   "cell_type": "code",
   "execution_count": 169,
   "id": "59296103-6342-4528-b06d-a2763ce2a151",
   "metadata": {},
   "outputs": [
    {
     "data": {
      "text/html": [
       "<div>\n",
       "<style scoped>\n",
       "    .dataframe tbody tr th:only-of-type {\n",
       "        vertical-align: middle;\n",
       "    }\n",
       "\n",
       "    .dataframe tbody tr th {\n",
       "        vertical-align: top;\n",
       "    }\n",
       "\n",
       "    .dataframe thead th {\n",
       "        text-align: right;\n",
       "    }\n",
       "</style>\n",
       "<table border=\"1\" class=\"dataframe\">\n",
       "  <thead>\n",
       "    <tr style=\"text-align: right;\">\n",
       "      <th></th>\n",
       "      <th>着順</th>\n",
       "      <th>枠番</th>\n",
       "      <th>馬番</th>\n",
       "      <th>斤量</th>\n",
       "      <th>騎手</th>\n",
       "      <th>単勝</th>\n",
       "      <th>人気</th>\n",
       "      <th>coures_len</th>\n",
       "      <th>weather</th>\n",
       "      <th>race_type</th>\n",
       "      <th>ground_state</th>\n",
       "      <th>date</th>\n",
       "      <th>性</th>\n",
       "      <th>年齢</th>\n",
       "      <th>体重</th>\n",
       "      <th>体重変化</th>\n",
       "    </tr>\n",
       "  </thead>\n",
       "  <tbody>\n",
       "    <tr>\n",
       "      <th>202001010101</th>\n",
       "      <td>1</td>\n",
       "      <td>6</td>\n",
       "      <td>6</td>\n",
       "      <td>54.0</td>\n",
       "      <td>横山武史</td>\n",
       "      <td>16.0</td>\n",
       "      <td>3.0</td>\n",
       "      <td>1800</td>\n",
       "      <td>曇</td>\n",
       "      <td>芝</td>\n",
       "      <td>良</td>\n",
       "      <td>2020-07-25</td>\n",
       "      <td>牝</td>\n",
       "      <td>2</td>\n",
       "      <td>438</td>\n",
       "      <td>4</td>\n",
       "    </tr>\n",
       "    <tr>\n",
       "      <th>202001010101</th>\n",
       "      <td>2</td>\n",
       "      <td>2</td>\n",
       "      <td>2</td>\n",
       "      <td>54.0</td>\n",
       "      <td>ルメール</td>\n",
       "      <td>1.9</td>\n",
       "      <td>2.0</td>\n",
       "      <td>1800</td>\n",
       "      <td>曇</td>\n",
       "      <td>芝</td>\n",
       "      <td>良</td>\n",
       "      <td>2020-07-25</td>\n",
       "      <td>牡</td>\n",
       "      <td>2</td>\n",
       "      <td>510</td>\n",
       "      <td>0</td>\n",
       "    </tr>\n",
       "    <tr>\n",
       "      <th>202001010101</th>\n",
       "      <td>3</td>\n",
       "      <td>3</td>\n",
       "      <td>3</td>\n",
       "      <td>54.0</td>\n",
       "      <td>池添謙一</td>\n",
       "      <td>1.8</td>\n",
       "      <td>1.0</td>\n",
       "      <td>1800</td>\n",
       "      <td>曇</td>\n",
       "      <td>芝</td>\n",
       "      <td>良</td>\n",
       "      <td>2020-07-25</td>\n",
       "      <td>牡</td>\n",
       "      <td>2</td>\n",
       "      <td>482</td>\n",
       "      <td>-6</td>\n",
       "    </tr>\n",
       "    <tr>\n",
       "      <th>202001010101</th>\n",
       "      <td>4</td>\n",
       "      <td>1</td>\n",
       "      <td>1</td>\n",
       "      <td>52.0</td>\n",
       "      <td>亀田温心</td>\n",
       "      <td>22.2</td>\n",
       "      <td>4.0</td>\n",
       "      <td>1800</td>\n",
       "      <td>曇</td>\n",
       "      <td>芝</td>\n",
       "      <td>良</td>\n",
       "      <td>2020-07-25</td>\n",
       "      <td>牝</td>\n",
       "      <td>2</td>\n",
       "      <td>442</td>\n",
       "      <td>0</td>\n",
       "    </tr>\n",
       "    <tr>\n",
       "      <th>202001010101</th>\n",
       "      <td>5</td>\n",
       "      <td>4</td>\n",
       "      <td>4</td>\n",
       "      <td>54.0</td>\n",
       "      <td>藤岡康太</td>\n",
       "      <td>55.7</td>\n",
       "      <td>5.0</td>\n",
       "      <td>1800</td>\n",
       "      <td>曇</td>\n",
       "      <td>芝</td>\n",
       "      <td>良</td>\n",
       "      <td>2020-07-25</td>\n",
       "      <td>牡</td>\n",
       "      <td>2</td>\n",
       "      <td>426</td>\n",
       "      <td>-8</td>\n",
       "    </tr>\n",
       "  </tbody>\n",
       "</table>\n",
       "</div>"
      ],
      "text/plain": [
       "              着順  枠番  馬番    斤量    騎手    単勝   人気 coures_len weather race_type  \\\n",
       "202001010101   1   6   6  54.0  横山武史  16.0  3.0       1800       曇         芝   \n",
       "202001010101   2   2   2  54.0  ルメール   1.9  2.0       1800       曇         芝   \n",
       "202001010101   3   3   3  54.0  池添謙一   1.8  1.0       1800       曇         芝   \n",
       "202001010101   4   1   1  52.0  亀田温心  22.2  4.0       1800       曇         芝   \n",
       "202001010101   5   4   4  54.0  藤岡康太  55.7  5.0       1800       曇         芝   \n",
       "\n",
       "             ground_state       date  性  年齢   体重  体重変化  \n",
       "202001010101            良 2020-07-25  牝   2  438     4  \n",
       "202001010101            良 2020-07-25  牡   2  510     0  \n",
       "202001010101            良 2020-07-25  牡   2  482    -6  \n",
       "202001010101            良 2020-07-25  牝   2  442     0  \n",
       "202001010101            良 2020-07-25  牡   2  426    -8  "
      ]
     },
     "execution_count": 169,
     "metadata": {},
     "output_type": "execute_result"
    }
   ],
   "source": [
    "results_p.head()"
   ]
  },
  {
   "cell_type": "code",
   "execution_count": 170,
   "id": "6e9ebee0-2b7e-424f-899c-cc29b15add1f",
   "metadata": {},
   "outputs": [],
   "source": [
    "results_d[\"rank\"] = results_d[\"rank\"].map(lambda x: 1 if x<4 else 0)"
   ]
  },
  {
   "cell_type": "code",
   "execution_count": 171,
   "id": "e9aad097-9508-45ae-b519-ba63c6e40735",
   "metadata": {},
   "outputs": [
    {
     "data": {
      "text/plain": [
       "0    33869\n",
       "1     9370\n",
       "Name: rank, dtype: int64"
      ]
     },
     "execution_count": 171,
     "metadata": {},
     "output_type": "execute_result"
    }
   ],
   "source": [
    "results_d[\"rank\"].value_counts()"
   ]
  },
  {
   "cell_type": "code",
   "execution_count": 173,
   "id": "4359a7ce-6149-4d0a-b1e2-6572d028d8ad",
   "metadata": {},
   "outputs": [],
   "source": [
    "train, test = split_data(results_d, test_size=0.3)"
   ]
  },
  {
   "cell_type": "code",
   "execution_count": 183,
   "id": "973943c1-5dc0-4d38-9223-a64ec0e463e7",
   "metadata": {},
   "outputs": [],
   "source": [
    "# 訓練データとテストデータの分割\n",
    "X_train = train.drop([\"着順\", \"date\", \"rank\"], axis=1)\n",
    "y_train = train[\"rank\"]\n",
    "X_test = test.drop([\"着順\", \"date\", \"rank\"], axis=1)\n",
    "y_test = test[\"rank\"]"
   ]
  },
  {
   "cell_type": "code",
   "execution_count": 186,
   "id": "2b8e6568-218b-4912-9456-0f4738080299",
   "metadata": {},
   "outputs": [
    {
     "data": {
      "text/plain": [
       "RandomForestClassifier(random_state=100)"
      ]
     },
     "execution_count": 186,
     "metadata": {},
     "output_type": "execute_result"
    }
   ],
   "source": [
    "rf = RandomForestClassifier(random_state=100)\n",
    "rf.fit(X_train_rus, y_train_rus)"
   ]
  },
  {
   "cell_type": "code",
   "execution_count": 192,
   "id": "71600a2c-219b-4551-b1ec-2880a8839cfe",
   "metadata": {},
   "outputs": [
    {
     "name": "stderr",
     "output_type": "stream",
     "text": [
      "/Users/inabahayato/Downloads/anaconda3/anaconda3/lib/python3.8/site-packages/sklearn/base.py:443: UserWarning: X has feature names, but RandomForestClassifier was fitted without feature names\n",
      "  warnings.warn(\n"
     ]
    }
   ],
   "source": [
    "y_pred = rf.predict_proba(X_test)[:,1]"
   ]
  },
  {
   "cell_type": "code",
   "execution_count": 195,
   "id": "241f2aa3-d985-4872-851d-827da08c25be",
   "metadata": {},
   "outputs": [
    {
     "data": {
      "image/png": "[encoded data removed]",
      "text/plain": [
       "<Figure size 460.8x403.2 with 1 Axes>"
      ]
     },
     "metadata": {},
     "output_type": "display_data"
    }
   ],
   "source": [
    "#ROC曲線の表示\n",
    "from sklearn.metrics import roc_curve, roc_auc_score\n",
    "import matplotlib.pyplot as plt\n",
    "from jupyterthemes import jtplot\n",
    "jtplot.style(theme=\"monokai\")\n",
    "\n",
    "fpr, tpr, thresholds = roc_curve(y_test, y_pred) #thresholas=閾値\n",
    "plt.plot(fpr, tpr, marker=\"o\")\n",
    "plt.xlabel(\"Flase positive rate\")\n",
    "plt.ylabel(\"True positive rate\")\n",
    "plt.grid()\n",
    "plt.show()"
   ]
  },
  {
   "cell_type": "markdown",
   "id": "726915bc-3387-47e7-b4b4-2b07d66f930d",
   "metadata": {},
   "source": [
    "横軸は実際は0なのに1と予測した数、縦軸の実際1と予測できた数を表している割合。\n",
    "\n",
    "AUCはroc曲線の下側の面積を求める。"
   ]
  },
  {
   "cell_type": "code",
   "execution_count": 196,
   "id": "1517d193-b470-467e-9610-6d92e30c1f7e",
   "metadata": {},
   "outputs": [
    {
     "data": {
      "text/plain": [
       "0.7233922653126333"
      ]
     },
     "execution_count": 196,
     "metadata": {},
     "output_type": "execute_result"
    }
   ],
   "source": [
    "roc_auc_score(y_test, y_pred)"
   ]
  },
  {
   "cell_type": "code",
   "execution_count": 199,
   "id": "079f6d97-e79d-4ffd-873d-808586c662e0",
   "metadata": {},
   "outputs": [
    {
     "name": "stderr",
     "output_type": "stream",
     "text": [
      "/Users/inabahayato/Downloads/anaconda3/anaconda3/lib/python3.8/site-packages/sklearn/base.py:443: UserWarning: X has feature names, but RandomForestClassifier was fitted without feature names\n",
      "  warnings.warn(\n"
     ]
    },
    {
     "data": {
      "text/plain": [
       "0.5170363365246332"
      ]
     },
     "execution_count": 199,
     "metadata": {},
     "output_type": "execute_result"
    }
   ],
   "source": [
    "# 訓練データで学習\n",
    "y_pred_train = rf.predict_proba(X_train)[:,1]\n",
    "roc_auc_score(y_train, y_pred_train)"
   ]
  },
  {
   "cell_type": "code",
   "execution_count": 200,
   "id": "00cc86a8-9fad-4ee0-a368-bdeda618c086",
   "metadata": {},
   "outputs": [
    {
     "data": {
      "image/png": "[encoded data removed]",
      "text/plain": [
       "<Figure size 460.8x403.2 with 1 Axes>"
      ]
     },
     "metadata": {},
     "output_type": "display_data"
    }
   ],
   "source": [
    "fpr, tpr, thresholds = roc_curve(y_train, y_pred_train) #thresholas=閾値\n",
    "plt.plot(fpr, tpr, marker=\"o\")\n",
    "plt.xlabel(\"Flase positive rate\")\n",
    "plt.ylabel(\"True positive rate\")\n",
    "plt.grid()\n",
    "plt.show()"
   ]
  },
  {
   "cell_type": "code",
   "execution_count": 214,
   "id": "05958077-8791-4db2-a311-4d23092bc3a7",
   "metadata": {},
   "outputs": [],
   "source": [
    "# パラメータチューニング\n",
    "params = {\n",
    "    \"min_samples_split\":600,\n",
    "    \"max_depth\":None,#木の深さを設定\n",
    "    \"n_estimators\":100, #決定木の数を指定\n",
    "    \"criterion\": \"entropy\",\n",
    "    \"class_weight\": \"balanced\",\n",
    "    \"random_state\":100\n",
    "}"
   ]
  },
  {
   "cell_type": "code",
   "execution_count": 215,
   "id": "4f4d3d7a-1194-4ef0-9bec-01d387041780",
   "metadata": {},
   "outputs": [
    {
     "name": "stderr",
     "output_type": "stream",
     "text": [
      "/Users/inabahayato/Downloads/anaconda3/anaconda3/lib/python3.8/site-packages/sklearn/base.py:443: UserWarning: X has feature names, but RandomForestClassifier was fitted without feature names\n",
      "  warnings.warn(\n",
      "/Users/inabahayato/Downloads/anaconda3/anaconda3/lib/python3.8/site-packages/sklearn/base.py:443: UserWarning: X has feature names, but RandomForestClassifier was fitted without feature names\n",
      "  warnings.warn(\n"
     ]
    },
    {
     "name": "stdout",
     "output_type": "stream",
     "text": [
      "0.7769577784254924\n",
      "0.7828611654203423\n"
     ]
    }
   ],
   "source": [
    "rf = RandomForestClassifier(**params)\n",
    "rf.fit(X_train_rus, y_train_rus)\n",
    "y_pred_train = rf.predict_proba(X_train)[:, 1]\n",
    "y_pred = rf.predict_proba(X_test)[:, 1]\n",
    "print(roc_auc_score(y_train, y_pred_train))\n",
    "print(roc_auc_score(y_test, y_pred))"
   ]
  },
  {
   "cell_type": "code",
   "execution_count": 222,
   "id": "84e5220f-5753-43cd-ba8c-f48ec2dba969",
   "metadata": {},
   "outputs": [
    {
     "data": {
      "text/html": [
       "<div>\n",
       "<style scoped>\n",
       "    .dataframe tbody tr th:only-of-type {\n",
       "        vertical-align: middle;\n",
       "    }\n",
       "\n",
       "    .dataframe tbody tr th {\n",
       "        vertical-align: top;\n",
       "    }\n",
       "\n",
       "    .dataframe thead th {\n",
       "        text-align: right;\n",
       "    }\n",
       "</style>\n",
       "<table border=\"1\" class=\"dataframe\">\n",
       "  <thead>\n",
       "    <tr style=\"text-align: right;\">\n",
       "      <th></th>\n",
       "      <th>features</th>\n",
       "      <th>importance</th>\n",
       "    </tr>\n",
       "  </thead>\n",
       "  <tbody>\n",
       "    <tr>\n",
       "      <th>3</th>\n",
       "      <td>単勝</td>\n",
       "      <td>0.394185</td>\n",
       "    </tr>\n",
       "    <tr>\n",
       "      <th>4</th>\n",
       "      <td>人気</td>\n",
       "      <td>0.313774</td>\n",
       "    </tr>\n",
       "    <tr>\n",
       "      <th>6</th>\n",
       "      <td>体重</td>\n",
       "      <td>0.016861</td>\n",
       "    </tr>\n",
       "    <tr>\n",
       "      <th>82</th>\n",
       "      <td>騎手_川田将雅</td>\n",
       "      <td>0.016258</td>\n",
       "    </tr>\n",
       "    <tr>\n",
       "      <th>1</th>\n",
       "      <td>馬番</td>\n",
       "      <td>0.012048</td>\n",
       "    </tr>\n",
       "    <tr>\n",
       "      <th>13</th>\n",
       "      <td>騎手_ルメール</td>\n",
       "      <td>0.011451</td>\n",
       "    </tr>\n",
       "    <tr>\n",
       "      <th>7</th>\n",
       "      <td>体重変化</td>\n",
       "      <td>0.011313</td>\n",
       "    </tr>\n",
       "    <tr>\n",
       "      <th>2</th>\n",
       "      <td>斤量</td>\n",
       "      <td>0.009830</td>\n",
       "    </tr>\n",
       "    <tr>\n",
       "      <th>5</th>\n",
       "      <td>年齢</td>\n",
       "      <td>0.008299</td>\n",
       "    </tr>\n",
       "    <tr>\n",
       "      <th>166</th>\n",
       "      <td>騎手_野中悠太</td>\n",
       "      <td>0.006477</td>\n",
       "    </tr>\n",
       "    <tr>\n",
       "      <th>0</th>\n",
       "      <td>枠番</td>\n",
       "      <td>0.005973</td>\n",
       "    </tr>\n",
       "    <tr>\n",
       "      <th>112</th>\n",
       "      <td>騎手_武士沢友</td>\n",
       "      <td>0.005317</td>\n",
       "    </tr>\n",
       "    <tr>\n",
       "      <th>135</th>\n",
       "      <td>騎手_石川裕紀</td>\n",
       "      <td>0.004089</td>\n",
       "    </tr>\n",
       "    <tr>\n",
       "      <th>138</th>\n",
       "      <td>騎手_福永祐一</td>\n",
       "      <td>0.004067</td>\n",
       "    </tr>\n",
       "    <tr>\n",
       "      <th>150</th>\n",
       "      <td>騎手_菊沢一樹</td>\n",
       "      <td>0.003579</td>\n",
       "    </tr>\n",
       "    <tr>\n",
       "      <th>114</th>\n",
       "      <td>騎手_武豊</td>\n",
       "      <td>0.003245</td>\n",
       "    </tr>\n",
       "    <tr>\n",
       "      <th>11</th>\n",
       "      <td>騎手_マーフィ</td>\n",
       "      <td>0.002983</td>\n",
       "    </tr>\n",
       "    <tr>\n",
       "      <th>117</th>\n",
       "      <td>騎手_江田照男</td>\n",
       "      <td>0.002946</td>\n",
       "    </tr>\n",
       "    <tr>\n",
       "      <th>120</th>\n",
       "      <td>騎手_津村明秀</td>\n",
       "      <td>0.002884</td>\n",
       "    </tr>\n",
       "    <tr>\n",
       "      <th>109</th>\n",
       "      <td>騎手_横山典弘</td>\n",
       "      <td>0.002696</td>\n",
       "    </tr>\n",
       "  </tbody>\n",
       "</table>\n",
       "</div>"
      ],
      "text/plain": [
       "    features  importance\n",
       "3         単勝    0.394185\n",
       "4         人気    0.313774\n",
       "6         体重    0.016861\n",
       "82   騎手_川田将雅    0.016258\n",
       "1         馬番    0.012048\n",
       "13   騎手_ルメール    0.011451\n",
       "7       体重変化    0.011313\n",
       "2         斤量    0.009830\n",
       "5         年齢    0.008299\n",
       "166  騎手_野中悠太    0.006477\n",
       "0         枠番    0.005973\n",
       "112  騎手_武士沢友    0.005317\n",
       "135  騎手_石川裕紀    0.004089\n",
       "138  騎手_福永祐一    0.004067\n",
       "150  騎手_菊沢一樹    0.003579\n",
       "114    騎手_武豊    0.003245\n",
       "11   騎手_マーフィ    0.002983\n",
       "117  騎手_江田照男    0.002946\n",
       "120  騎手_津村明秀    0.002884\n",
       "109  騎手_横山典弘    0.002696"
      ]
     },
     "execution_count": 222,
     "metadata": {},
     "output_type": "execute_result"
    }
   ],
   "source": [
    "# 特徴量の重要度を表示\n",
    "\n",
    "importances = pd.DataFrame(\n",
    "    {\"features\": X_train.columns, \"importance\": rf.feature_importances_}\n",
    ")\n",
    "\n",
    "importances.sort_values(\"importance\", ascending=False)[:20]"
   ]
  },
  {
   "cell_type": "markdown",
   "id": "a89a3506-8c34-4365-baa3-8a5f88b7f4cc",
   "metadata": {
    "jp-MarkdownHeadingCollapsed": true,
    "tags": []
   },
   "source": [
    "# 5 LightGBMによる予測モデル作成"
   ]
  },
  {
   "cell_type": "code",
   "execution_count": 229,
   "id": "fc75cfbc-bd3b-4cc6-a388-48552ac6c1a3",
   "metadata": {},
   "outputs": [
    {
     "name": "stdout",
     "output_type": "stream",
     "text": [
      "0.80747227294466\n",
      "0.8104155931754837\n"
     ]
    },
    {
     "data": {
      "text/html": [
       "<div>\n",
       "<style scoped>\n",
       "    .dataframe tbody tr th:only-of-type {\n",
       "        vertical-align: middle;\n",
       "    }\n",
       "\n",
       "    .dataframe tbody tr th {\n",
       "        vertical-align: top;\n",
       "    }\n",
       "\n",
       "    .dataframe thead th {\n",
       "        text-align: right;\n",
       "    }\n",
       "</style>\n",
       "<table border=\"1\" class=\"dataframe\">\n",
       "  <thead>\n",
       "    <tr style=\"text-align: right;\">\n",
       "      <th></th>\n",
       "      <th>features</th>\n",
       "      <th>importance</th>\n",
       "    </tr>\n",
       "  </thead>\n",
       "  <tbody>\n",
       "    <tr>\n",
       "      <th>3</th>\n",
       "      <td>単勝</td>\n",
       "      <td>126</td>\n",
       "    </tr>\n",
       "    <tr>\n",
       "      <th>6</th>\n",
       "      <td>体重</td>\n",
       "      <td>23</td>\n",
       "    </tr>\n",
       "    <tr>\n",
       "      <th>4</th>\n",
       "      <td>人気</td>\n",
       "      <td>17</td>\n",
       "    </tr>\n",
       "    <tr>\n",
       "      <th>2</th>\n",
       "      <td>斤量</td>\n",
       "      <td>11</td>\n",
       "    </tr>\n",
       "    <tr>\n",
       "      <th>7</th>\n",
       "      <td>体重変化</td>\n",
       "      <td>8</td>\n",
       "    </tr>\n",
       "    <tr>\n",
       "      <th>12</th>\n",
       "      <td>騎手_ミナリク</td>\n",
       "      <td>7</td>\n",
       "    </tr>\n",
       "    <tr>\n",
       "      <th>52</th>\n",
       "      <td>騎手_大庭和弥</td>\n",
       "      <td>5</td>\n",
       "    </tr>\n",
       "    <tr>\n",
       "      <th>58</th>\n",
       "      <td>騎手_富田暁</td>\n",
       "      <td>4</td>\n",
       "    </tr>\n",
       "    <tr>\n",
       "      <th>91</th>\n",
       "      <td>騎手_木幡初也</td>\n",
       "      <td>4</td>\n",
       "    </tr>\n",
       "    <tr>\n",
       "      <th>1</th>\n",
       "      <td>馬番</td>\n",
       "      <td>4</td>\n",
       "    </tr>\n",
       "    <tr>\n",
       "      <th>0</th>\n",
       "      <td>枠番</td>\n",
       "      <td>4</td>\n",
       "    </tr>\n",
       "    <tr>\n",
       "      <th>169</th>\n",
       "      <td>騎手_長岡禎仁</td>\n",
       "      <td>3</td>\n",
       "    </tr>\n",
       "    <tr>\n",
       "      <th>92</th>\n",
       "      <td>騎手_木幡巧也</td>\n",
       "      <td>3</td>\n",
       "    </tr>\n",
       "    <tr>\n",
       "      <th>184</th>\n",
       "      <td>coures_len_1200</td>\n",
       "      <td>3</td>\n",
       "    </tr>\n",
       "    <tr>\n",
       "      <th>5</th>\n",
       "      <td>年齢</td>\n",
       "      <td>2</td>\n",
       "    </tr>\n",
       "    <tr>\n",
       "      <th>62</th>\n",
       "      <td>騎手_小林凌大</td>\n",
       "      <td>2</td>\n",
       "    </tr>\n",
       "    <tr>\n",
       "      <th>64</th>\n",
       "      <td>騎手_小牧太</td>\n",
       "      <td>1</td>\n",
       "    </tr>\n",
       "    <tr>\n",
       "      <th>85</th>\n",
       "      <td>騎手_幸英明</td>\n",
       "      <td>1</td>\n",
       "    </tr>\n",
       "    <tr>\n",
       "      <th>89</th>\n",
       "      <td>騎手_服部寿希</td>\n",
       "      <td>1</td>\n",
       "    </tr>\n",
       "    <tr>\n",
       "      <th>234</th>\n",
       "      <td>race_type_ダート</td>\n",
       "      <td>1</td>\n",
       "    </tr>\n",
       "  </tbody>\n",
       "</table>\n",
       "</div>"
      ],
      "text/plain": [
       "            features  importance\n",
       "3                 単勝         126\n",
       "6                 体重          23\n",
       "4                 人気          17\n",
       "2                 斤量          11\n",
       "7               体重変化           8\n",
       "12           騎手_ミナリク           7\n",
       "52           騎手_大庭和弥           5\n",
       "58            騎手_富田暁           4\n",
       "91           騎手_木幡初也           4\n",
       "1                 馬番           4\n",
       "0                 枠番           4\n",
       "169          騎手_長岡禎仁           3\n",
       "92           騎手_木幡巧也           3\n",
       "184  coures_len_1200           3\n",
       "5                 年齢           2\n",
       "62           騎手_小林凌大           2\n",
       "64            騎手_小牧太           1\n",
       "85            騎手_幸英明           1\n",
       "89           騎手_服部寿希           1\n",
       "234    race_type_ダート           1"
      ]
     },
     "execution_count": 229,
     "metadata": {},
     "output_type": "execute_result"
    }
   ],
   "source": [
    "import lightgbm as lgb\n",
    "\n",
    "# lightgbmのパラメータチューニング\n",
    "params = {\n",
    "    \"num_leaves\":4,#決定木の葉っぱの数を指定\n",
    "    \"n_estimators\":80, #決定木の数を指定\n",
    "#     \"min_data_in_leaf\": , #一つの葉っぱに含まれるデータの数の最小値を指定\n",
    "    \"class_weight\": \"balanced\", #不均衡データ\n",
    "    \"random_state\": 100\n",
    "    \n",
    "}\n",
    "\n",
    "\n",
    "lgb_clf = lgb.LGBMClassifier(**params)\n",
    "lgb_clf.fit(X_train.values, y_train.values)\n",
    "y_pred_train = lgb_clf.predict_proba(X_train)[:, 1]\n",
    "y_pred = lgb_clf.predict_proba(X_test)[:, 1]\n",
    "print(roc_auc_score(y_train, y_pred_train))\n",
    "print(roc_auc_score(y_test, y_pred))\n",
    "\n",
    "#変数の重要度の表示\n",
    "importances = pd.DataFrame(\n",
    "    {\"features\": X_train.columns, \"importance\": lgb_clf.feature_importances_}\n",
    ")\n",
    "importances.sort_values(\"importance\", ascending=False)[:20]"
   ]
  },
  {
   "cell_type": "markdown",
   "id": "c773e66b-da60-40fe-9609-671ab0e4bdda",
   "metadata": {
    "jp-MarkdownHeadingCollapsed": true,
    "tags": []
   },
   "source": [
    "# 6 過去のレースデータを取得"
   ]
  },
  {
   "cell_type": "code",
   "execution_count": 247,
   "id": "42809284-884f-4539-a947-f4725be22dad",
   "metadata": {},
   "outputs": [],
   "source": [
    "# race_idをunique取り出す\n",
    "race_id_list = results.index.unique()"
   ]
  },
  {
   "cell_type": "code",
   "execution_count": 248,
   "id": "25c22bbd-58c4-4fa0-bed4-c7e882571469",
   "metadata": {},
   "outputs": [],
   "source": [
    "def scrape_race_results_hj(race_id_list, pre_race_results = []):\n",
    "    race_results = pre_race_results\n",
    "    race_results = {}\n",
    "    for race_id in tqdm(race_id_list):\n",
    "        if race_id in race_results.keys():\n",
    "            continue\n",
    "        try:\n",
    "            url = \"https://db.netkeiba.com/race/\" + race_id\n",
    "            df = pd.read_html(url)[0]\n",
    "            \n",
    "            \n",
    "            #horse_idとjockey_idをスクレイピング\n",
    "            html = requests.get(url)\n",
    "            html.encoding = \"EUC-JP\"\n",
    "            soup = BeautifulSoup(html.text, \"html.parser\")\n",
    "            \n",
    "            #horse_id\n",
    "            horse_id_list = []\n",
    "            horse_a_list = \\\n",
    "            soup.find(\"table\", attrs = {\"summary\": \"レース結果\"}).find_all(\"a\", attrs = {\"href\": re.compile(\"^/horse\")})\n",
    "            for a in horse_a_list:\n",
    "                # 正規表現を使って数字だけを取り出す\n",
    "                horse_id = re.findall(\"\\d+\", a[\"href\"])\n",
    "                horse_id_list.append(horse_id[0])\n",
    "            \n",
    "            \n",
    "            #jockey_id\n",
    "            jockey_id_list = []\n",
    "            jockey_a_list = \\\n",
    "            soup.find(\"table\", attrs = {\"summary\": \"レース結果\"}).find_all(\"a\", attrs = {\"href\": re.compile(\"^/jockey\")})\n",
    "            for a in jockey_a_list:\n",
    "                # 正規表現を使って数字だけを取り出す\n",
    "                jockey_id = re.findall(\"\\d+\", a[\"href\"])\n",
    "                jockey_id_list.append(jockey_id[0])\n",
    "            \n",
    "            df[\"horse_id\"] = horse_id_list\n",
    "            df[\"jockey_id\"] = jockey_id_list\n",
    "            race_results[race_id] = df\n",
    "            time.sleep(1)\n",
    "            \n",
    "        except IndexError:\n",
    "            continue\n",
    "        except:\n",
    "            break\n",
    "    return race_results"
   ]
  },
  {
   "cell_type": "code",
   "execution_count": 286,
   "id": "9afba180-026b-4e30-afff-7790b07ad191",
   "metadata": {},
   "outputs": [],
   "source": [
    "# データの読み込み\n",
    "race_results_df = pd.read_pickle(\"results_new.pickle\")"
   ]
  },
  {
   "cell_type": "code",
   "execution_count": 287,
   "id": "825f261e-939e-4ec5-8c5c-dc98b399b48c",
   "metadata": {},
   "outputs": [],
   "source": [
    "#race_infosをmerge\n",
    "results = race_results_df.merge(race_infos, left_index=True,\n",
    "    right_index=True, how='left')"
   ]
  },
  {
   "cell_type": "code",
   "execution_count": 252,
   "id": "e3d305c2-28fd-4a87-8a4d-7ad6efe5ff76",
   "metadata": {},
   "outputs": [
    {
     "data": {
      "text/plain": [
       "11389"
      ]
     },
     "execution_count": 252,
     "metadata": {},
     "output_type": "execute_result"
    }
   ],
   "source": [
    "# horse_id_listの長さを確認\n",
    "horse_id_list = results_new[\"horse_id\"].unique()\n",
    "len(horse_id_list)"
   ]
  },
  {
   "cell_type": "code",
   "execution_count": null,
   "id": "0179e607-ab1b-4029-a5fc-36ce1e6ea9c1",
   "metadata": {},
   "outputs": [],
   "source": [
    "def scrape_horse_results(horse_id_list):\n",
    "    #horse_idをkeyにしてDataFrame型を格納\n",
    "    horse_results = {}\n",
    "    for horse_id in tqdm(horse_id_list):\n",
    "        try:\n",
    "            url = 'https://db.netkeiba.com/horse/' + horse_id\n",
    "            df = pd.read_html(url)[3]\n",
    "            #受賞歴がある馬の場合、3番目に受賞歴テーブルが来るため、4番目のデータを取得する\n",
    "            if df.columns[0]=='受賞歴':\n",
    "                df = pd.read_html(url)[4]\n",
    "            horse_results[horse_id] = df\n",
    "            time.sleep(1)\n",
    "        except IndexError:\n",
    "            continue\n",
    "        except Exception as e:\n",
    "            print(e)\n",
    "            break\n",
    "        except:\n",
    "            break\n",
    "    \n",
    "    return horse_results"
   ]
  },
  {
   "cell_type": "code",
   "execution_count": 259,
   "id": "1e1a5368-a349-4e8d-9713-cfa31dadc530",
   "metadata": {},
   "outputs": [],
   "source": [
    "# データの読み込み\n",
    "horse_results = pd.read_pickle(\"horse_results.pickle\")"
   ]
  },
  {
   "cell_type": "markdown",
   "id": "39eca4d6-d0ff-48ae-97e1-858dc6dcc8b7",
   "metadata": {
    "jp-MarkdownHeadingCollapsed": true,
    "tags": []
   },
   "source": [
    "# 6.1. HorseResultsクラス"
   ]
  },
  {
   "cell_type": "code",
   "execution_count": 12,
   "id": "70d94f3c-d472-4295-882b-79be1095b550",
   "metadata": {
    "tags": []
   },
   "outputs": [],
   "source": [
    "class HorseResults:\n",
    "    def __init__(self, horse_results):\n",
    "        self.horse_results = horse_results[[\"日付\", \"着順\", \"賞金\"]]\n",
    "        self.preprocessing()\n",
    "        \n",
    "    def preprocessing(self):\n",
    "        \n",
    "        #copyしないと元にresultsのデータも変換してしまう\n",
    "        df = self.horse_results.copy()\n",
    "        \n",
    "        #着順に数字以外の文字列が含まれているものを取り除く\n",
    "        df[\"着順\"] = pd.to_numeric(df[\"着順\"],errors=\"coerce\")\n",
    "        df.dropna(subset=[\"着順\"], inplace = True)\n",
    "        df[\"着順\"] = df[\"着順\"].astype(int)\n",
    "        \n",
    "        \n",
    "        df[\"date\"] = pd.to_datetime(df[\"日付\"])\n",
    "        df.drop([\"日付\"], axis = 1, inplace=True)\n",
    "        \n",
    "        #賞金をNaNを0で埋める\n",
    "        df[\"賞金\"].fillna(0, inplace=True)\n",
    "        \n",
    "        self.horse_results = df\n",
    "        \n",
    "    def average(self, horse_id_list, date, n_samples=\"all\"):\n",
    "        target_df = hr.horse_results.loc[horse_id_list]\n",
    "        \n",
    "        #過去何走分走るか指定\n",
    "        if n_samples == \"all\":\n",
    "            filtered_df = target_df[target_df[\"date\"] < date]\n",
    "            \n",
    "        elif n_samples > 0:\n",
    "            filtered_df = target_df[target_df['date'] < date].\\\n",
    "                sort_values('date', ascending=False).groupby(level=0).head(n_samples)\n",
    "        else:\n",
    "            raise Exception(\"n_samples must be >0\")\n",
    "        \n",
    "        average = filtered_df.groupby(level=0)[['着順', '賞金']].mean()\n",
    "        return average.rename(columns={'着順':'着順_{}R'.format(n_samples), '賞金':'賞金_{}R'.format(n_samples)})\n",
    "    \n",
    "    def merge(self, results, date, n_samples=\"all\"):\n",
    "        df = results[results[\"date\"] == date]\n",
    "        horse_id_list = df[\"horse_id\"]\n",
    "        merged_df = df.merge(self.average(horse_id_list, date, n_samples),\n",
    "                            left_on =\"horse_id\", right_index=True, how=\"left\")\n",
    "        return merged_df\n",
    "    \n",
    "     #全ての日付に対してmergeを行う関数\n",
    "    def merge_all(self, results, n_samples=\"all\"):\n",
    "        date_list = results[\"date\"].unique()\n",
    "        merged_df = pd.concat([self.merge(results, date, n_samples) for date in tqdm(date_list)])\n",
    "        return merged_df"
   ]
  },
  {
   "cell_type": "code",
   "execution_count": 372,
   "id": "05d1e9e8-ef26-480d-abc0-565f1efb6888",
   "metadata": {},
   "outputs": [],
   "source": [
    "hr = HorseResults(horse_results)"
   ]
  },
  {
   "cell_type": "code",
   "execution_count": 374,
   "id": "189dfc39-7391-4fe2-9734-cd28bbc8d841",
   "metadata": {},
   "outputs": [
    {
     "data": {
      "application/vnd.jupyter.widget-view+json": {
       "model_id": "765c0ba12d0d496894c76763f2faa946",
       "version_major": 2,
       "version_minor": 0
      },
      "text/plain": [
       "  0%|          | 0/104 [00:00<?, ?it/s]"
      ]
     },
     "metadata": {},
     "output_type": "display_data"
    },
    {
     "data": {
      "text/html": [
       "<div>\n",
       "<style scoped>\n",
       "    .dataframe tbody tr th:only-of-type {\n",
       "        vertical-align: middle;\n",
       "    }\n",
       "\n",
       "    .dataframe tbody tr th {\n",
       "        vertical-align: top;\n",
       "    }\n",
       "\n",
       "    .dataframe thead th {\n",
       "        text-align: right;\n",
       "    }\n",
       "</style>\n",
       "<table border=\"1\" class=\"dataframe\">\n",
       "  <thead>\n",
       "    <tr style=\"text-align: right;\">\n",
       "      <th></th>\n",
       "      <th>着順</th>\n",
       "      <th>枠番</th>\n",
       "      <th>馬番</th>\n",
       "      <th>馬名</th>\n",
       "      <th>斤量</th>\n",
       "      <th>騎手</th>\n",
       "      <th>単勝</th>\n",
       "      <th>人気</th>\n",
       "      <th>horse_id</th>\n",
       "      <th>jockey_id</th>\n",
       "      <th>...</th>\n",
       "      <th>weather</th>\n",
       "      <th>race_type</th>\n",
       "      <th>ground_state</th>\n",
       "      <th>date</th>\n",
       "      <th>性</th>\n",
       "      <th>年齢</th>\n",
       "      <th>体重</th>\n",
       "      <th>体重変化</th>\n",
       "      <th>着順_5R</th>\n",
       "      <th>賞金_5R</th>\n",
       "    </tr>\n",
       "  </thead>\n",
       "  <tbody>\n",
       "    <tr>\n",
       "      <th>202001010101</th>\n",
       "      <td>1</td>\n",
       "      <td>6</td>\n",
       "      <td>6</td>\n",
       "      <td>ウインルーア</td>\n",
       "      <td>54.0</td>\n",
       "      <td>横山武史</td>\n",
       "      <td>16.0</td>\n",
       "      <td>3.0</td>\n",
       "      <td>2018101626</td>\n",
       "      <td>01170</td>\n",
       "      <td>...</td>\n",
       "      <td>曇</td>\n",
       "      <td>芝</td>\n",
       "      <td>良</td>\n",
       "      <td>2020-07-25</td>\n",
       "      <td>牝</td>\n",
       "      <td>2</td>\n",
       "      <td>438</td>\n",
       "      <td>4</td>\n",
       "      <td>11.0</td>\n",
       "      <td>0.0</td>\n",
       "    </tr>\n",
       "    <tr>\n",
       "      <th>202001010101</th>\n",
       "      <td>2</td>\n",
       "      <td>2</td>\n",
       "      <td>2</td>\n",
       "      <td>アークライト</td>\n",
       "      <td>54.0</td>\n",
       "      <td>ルメール</td>\n",
       "      <td>1.9</td>\n",
       "      <td>2.0</td>\n",
       "      <td>2018105193</td>\n",
       "      <td>05339</td>\n",
       "      <td>...</td>\n",
       "      <td>曇</td>\n",
       "      <td>芝</td>\n",
       "      <td>良</td>\n",
       "      <td>2020-07-25</td>\n",
       "      <td>牡</td>\n",
       "      <td>2</td>\n",
       "      <td>510</td>\n",
       "      <td>0</td>\n",
       "      <td>2.0</td>\n",
       "      <td>280.0</td>\n",
       "    </tr>\n",
       "    <tr>\n",
       "      <th>202001010101</th>\n",
       "      <td>3</td>\n",
       "      <td>3</td>\n",
       "      <td>3</td>\n",
       "      <td>ギャラントウォリア</td>\n",
       "      <td>54.0</td>\n",
       "      <td>池添謙一</td>\n",
       "      <td>1.8</td>\n",
       "      <td>1.0</td>\n",
       "      <td>2018104800</td>\n",
       "      <td>01032</td>\n",
       "      <td>...</td>\n",
       "      <td>曇</td>\n",
       "      <td>芝</td>\n",
       "      <td>良</td>\n",
       "      <td>2020-07-25</td>\n",
       "      <td>牡</td>\n",
       "      <td>2</td>\n",
       "      <td>482</td>\n",
       "      <td>-6</td>\n",
       "      <td>2.0</td>\n",
       "      <td>280.0</td>\n",
       "    </tr>\n",
       "  </tbody>\n",
       "</table>\n",
       "<p>3 rows × 21 columns</p>\n",
       "</div>"
      ],
      "text/plain": [
       "              着順  枠番  馬番         馬名    斤量    騎手    単勝   人気    horse_id  \\\n",
       "202001010101   1   6   6     ウインルーア  54.0  横山武史  16.0  3.0  2018101626   \n",
       "202001010101   2   2   2     アークライト  54.0  ルメール   1.9  2.0  2018105193   \n",
       "202001010101   3   3   3  ギャラントウォリア  54.0  池添謙一   1.8  1.0  2018104800   \n",
       "\n",
       "             jockey_id  ... weather race_type ground_state       date  性 年齢  \\\n",
       "202001010101     01170  ...       曇         芝            良 2020-07-25  牝  2   \n",
       "202001010101     05339  ...       曇         芝            良 2020-07-25  牡  2   \n",
       "202001010101     01032  ...       曇         芝            良 2020-07-25  牡  2   \n",
       "\n",
       "               体重  体重変化  着順_5R  賞金_5R  \n",
       "202001010101  438     4   11.0    0.0  \n",
       "202001010101  510     0    2.0  280.0  \n",
       "202001010101  482    -6    2.0  280.0  \n",
       "\n",
       "[3 rows x 21 columns]"
      ]
     },
     "execution_count": 374,
     "metadata": {},
     "output_type": "execute_result"
    }
   ],
   "source": [
    "results_5r = hr.merge_all(results_p, n_samples=5)\n",
    "results_5r.head(3)"
   ]
  },
  {
   "cell_type": "markdown",
   "id": "5916c739-e255-46a1-9546-7aa1028d0a40",
   "metadata": {
    "jp-MarkdownHeadingCollapsed": true,
    "tags": []
   },
   "source": [
    "# 6.2 精度比較"
   ]
  },
  {
   "cell_type": "code",
   "execution_count": 376,
   "id": "851766fd-104e-44ef-a5dd-5634d0f00ca7",
   "metadata": {},
   "outputs": [],
   "source": [
    "results_5r['rank'] = results_5r['着順'].map(lambda x: 1 if x<4 else 0)\n",
    "results_5r.drop(['着順', '騎手', 'horse_id', '馬名'], axis=1, inplace=True)\n",
    "results_d = pd.get_dummies(results_5r)"
   ]
  },
  {
   "cell_type": "code",
   "execution_count": 397,
   "id": "7c81f75b-a986-48fe-906e-3b967384e578",
   "metadata": {},
   "outputs": [],
   "source": [
    "#訓練データとテストデータに分ける\n",
    "train, test = split_data(results_d)\n",
    "train.head()\n",
    "X_train = train.drop(['rank'], axis=1)\n",
    "y_train = train['rank']\n",
    "X_test = test.drop(['rank'], axis=1)\n",
    "y_test = test['rank']"
   ]
  },
  {
   "cell_type": "code",
   "execution_count": 398,
   "id": "0e06cf9c-a017-435a-b22b-2a6873281712",
   "metadata": {},
   "outputs": [
    {
     "name": "stdout",
     "output_type": "stream",
     "text": [
      "0.8081726864644024\n",
      "0.8100385420484034\n"
     ]
    }
   ],
   "source": [
    "#LightGBMで学習\n",
    "import lightgbm as lgb\n",
    "from sklearn.metrics import roc_auc_score\n",
    "\n",
    "params = {\n",
    "    \"num_leaves\": 4,\n",
    "    \"n_estimators\": 80,\n",
    "    #'min_data_in_leaf': 15,\n",
    "    \"class_weight\": \"balanced\",\n",
    "    \"random_state\": 100,\n",
    "}\n",
    "\n",
    "lgb_clf = lgb.LGBMClassifier(**params)\n",
    "lgb_clf.fit(X_train.values, y_train.values)\n",
    "y_pred_train = lgb_clf.predict_proba(X_train)[:, 1]\n",
    "y_pred = lgb_clf.predict_proba(X_test)[:, 1]\n",
    "print(roc_auc_score(y_train, y_pred_train))\n",
    "print(roc_auc_score(y_test, y_pred))"
   ]
  },
  {
   "cell_type": "code",
   "execution_count": 399,
   "id": "582fc767-e877-40b5-a74b-b2e06d958c71",
   "metadata": {},
   "outputs": [
    {
     "data": {
      "text/html": [
       "<div>\n",
       "<style scoped>\n",
       "    .dataframe tbody tr th:only-of-type {\n",
       "        vertical-align: middle;\n",
       "    }\n",
       "\n",
       "    .dataframe tbody tr th {\n",
       "        vertical-align: top;\n",
       "    }\n",
       "\n",
       "    .dataframe thead th {\n",
       "        text-align: right;\n",
       "    }\n",
       "</style>\n",
       "<table border=\"1\" class=\"dataframe\">\n",
       "  <thead>\n",
       "    <tr style=\"text-align: right;\">\n",
       "      <th></th>\n",
       "      <th>features</th>\n",
       "      <th>importance</th>\n",
       "    </tr>\n",
       "  </thead>\n",
       "  <tbody>\n",
       "    <tr>\n",
       "      <th>3</th>\n",
       "      <td>単勝</td>\n",
       "      <td>126</td>\n",
       "    </tr>\n",
       "    <tr>\n",
       "      <th>6</th>\n",
       "      <td>体重</td>\n",
       "      <td>20</td>\n",
       "    </tr>\n",
       "    <tr>\n",
       "      <th>9</th>\n",
       "      <td>賞金_5R</td>\n",
       "      <td>18</td>\n",
       "    </tr>\n",
       "    <tr>\n",
       "      <th>4</th>\n",
       "      <td>人気</td>\n",
       "      <td>13</td>\n",
       "    </tr>\n",
       "    <tr>\n",
       "      <th>2</th>\n",
       "      <td>斤量</td>\n",
       "      <td>9</td>\n",
       "    </tr>\n",
       "    <tr>\n",
       "      <th>7</th>\n",
       "      <td>体重変化</td>\n",
       "      <td>9</td>\n",
       "    </tr>\n",
       "    <tr>\n",
       "      <th>52</th>\n",
       "      <td>jockey_id_01061</td>\n",
       "      <td>5</td>\n",
       "    </tr>\n",
       "    <tr>\n",
       "      <th>168</th>\n",
       "      <td>jockey_id_05517</td>\n",
       "      <td>5</td>\n",
       "    </tr>\n",
       "    <tr>\n",
       "      <th>8</th>\n",
       "      <td>着順_5R</td>\n",
       "      <td>4</td>\n",
       "    </tr>\n",
       "    <tr>\n",
       "      <th>128</th>\n",
       "      <td>jockey_id_01168</td>\n",
       "      <td>4</td>\n",
       "    </tr>\n",
       "    <tr>\n",
       "      <th>114</th>\n",
       "      <td>jockey_id_01153</td>\n",
       "      <td>3</td>\n",
       "    </tr>\n",
       "    <tr>\n",
       "      <th>0</th>\n",
       "      <td>枠番</td>\n",
       "      <td>2</td>\n",
       "    </tr>\n",
       "    <tr>\n",
       "      <th>185</th>\n",
       "      <td>coures_len_1200</td>\n",
       "      <td>2</td>\n",
       "    </tr>\n",
       "    <tr>\n",
       "      <th>136</th>\n",
       "      <td>jockey_id_01177</td>\n",
       "      <td>2</td>\n",
       "    </tr>\n",
       "    <tr>\n",
       "      <th>1</th>\n",
       "      <td>馬番</td>\n",
       "      <td>2</td>\n",
       "    </tr>\n",
       "    <tr>\n",
       "      <th>242</th>\n",
       "      <td>性_牡</td>\n",
       "      <td>2</td>\n",
       "    </tr>\n",
       "    <tr>\n",
       "      <th>132</th>\n",
       "      <td>jockey_id_01172</td>\n",
       "      <td>1</td>\n",
       "    </tr>\n",
       "    <tr>\n",
       "      <th>86</th>\n",
       "      <td>jockey_id_01119</td>\n",
       "      <td>1</td>\n",
       "    </tr>\n",
       "    <tr>\n",
       "      <th>105</th>\n",
       "      <td>jockey_id_01142</td>\n",
       "      <td>1</td>\n",
       "    </tr>\n",
       "    <tr>\n",
       "      <th>37</th>\n",
       "      <td>jockey_id_01029</td>\n",
       "      <td>1</td>\n",
       "    </tr>\n",
       "  </tbody>\n",
       "</table>\n",
       "</div>"
      ],
      "text/plain": [
       "            features  importance\n",
       "3                 単勝         126\n",
       "6                 体重          20\n",
       "9              賞金_5R          18\n",
       "4                 人気          13\n",
       "2                 斤量           9\n",
       "7               体重変化           9\n",
       "52   jockey_id_01061           5\n",
       "168  jockey_id_05517           5\n",
       "8              着順_5R           4\n",
       "128  jockey_id_01168           4\n",
       "114  jockey_id_01153           3\n",
       "0                 枠番           2\n",
       "185  coures_len_1200           2\n",
       "136  jockey_id_01177           2\n",
       "1                 馬番           2\n",
       "242              性_牡           2\n",
       "132  jockey_id_01172           1\n",
       "86   jockey_id_01119           1\n",
       "105  jockey_id_01142           1\n",
       "37   jockey_id_01029           1"
      ]
     },
     "execution_count": 399,
     "metadata": {},
     "output_type": "execute_result"
    }
   ],
   "source": [
    "#変数の重要度を出力\n",
    "importances = pd.DataFrame(\n",
    "    {\"features\": X_train.columns, \"importance\": lgb_clf.feature_importances_}\n",
    ")\n",
    "importances.sort_values(\"importance\", ascending=False)[:20] #jupyterで出力"
   ]
  },
  {
   "cell_type": "markdown",
   "id": "70e068f3-2566-485b-b928-b40ff2b810f6",
   "metadata": {
    "jp-MarkdownHeadingCollapsed": true,
    "tags": []
   },
   "source": [
    "# 7 払い戻しデータのスクレイピング"
   ]
  },
  {
   "cell_type": "code",
   "execution_count": 30,
   "id": "99951bbf-29a6-48fd-ac57-163d63f27029",
   "metadata": {},
   "outputs": [],
   "source": [
    "from urllib.request import urlopen\n",
    "\n",
    "def scrape_return_tables(race_id_list, pre_return_tables={}):\n",
    "    return_tables = pre_return_tables\n",
    "    for race_id in tqdm(race_id_list):\n",
    "        try:\n",
    "            url = \"https://db.netkeiba.com/race/\" + race_id\n",
    "            \n",
    "            #普通にスクレイピングすると複勝やワイドなどが区切られないで繋がってしまう。\n",
    "            #そのため、改行コードを文字列brに変換して後でsplitする\n",
    "            f = urlopen(url)\n",
    "            html = f.read()\n",
    "            html = html.replace(b'<br />', b'br')\n",
    "            dfs = pd.read_html(html)\n",
    "\n",
    "            #dfsの1番目に単勝〜馬連、2番目にワイド〜三連単がある\n",
    "            df = pd.concat([dfs[1], dfs[2]])\n",
    "\n",
    "            df.index = [race_id] * len(df)\n",
    "            return_tables[race_id] = df\n",
    "            time.sleep(1)\n",
    "        except IndexError:\n",
    "            continue\n",
    "        except Exception as e: #捕捉できるエラーは原因がわかるようにprintしてからbreak\n",
    "            print(e)\n",
    "            break\n",
    "        except:\n",
    "            break\n",
    "    return return_tables"
   ]
  },
  {
   "cell_type": "code",
   "execution_count": 401,
   "id": "98f21640-4384-466e-81d9-4b1cd71f415a",
   "metadata": {},
   "outputs": [
    {
     "data": {
      "text/html": [
       "<div>\n",
       "<style scoped>\n",
       "    .dataframe tbody tr th:only-of-type {\n",
       "        vertical-align: middle;\n",
       "    }\n",
       "\n",
       "    .dataframe tbody tr th {\n",
       "        vertical-align: top;\n",
       "    }\n",
       "\n",
       "    .dataframe thead th {\n",
       "        text-align: right;\n",
       "    }\n",
       "</style>\n",
       "<table border=\"1\" class=\"dataframe\">\n",
       "  <thead>\n",
       "    <tr style=\"text-align: right;\">\n",
       "      <th></th>\n",
       "      <th>0</th>\n",
       "      <th>1</th>\n",
       "      <th>2</th>\n",
       "      <th>3</th>\n",
       "    </tr>\n",
       "  </thead>\n",
       "  <tbody>\n",
       "    <tr>\n",
       "      <th>0</th>\n",
       "      <td>単勝</td>\n",
       "      <td>6</td>\n",
       "      <td>1600</td>\n",
       "      <td>3</td>\n",
       "    </tr>\n",
       "    <tr>\n",
       "      <th>1</th>\n",
       "      <td>複勝</td>\n",
       "      <td>62</td>\n",
       "      <td>490130</td>\n",
       "      <td>42</td>\n",
       "    </tr>\n",
       "    <tr>\n",
       "      <th>2</th>\n",
       "      <td>馬連</td>\n",
       "      <td>2 - 6</td>\n",
       "      <td>1410</td>\n",
       "      <td>4</td>\n",
       "    </tr>\n",
       "  </tbody>\n",
       "</table>\n",
       "</div>"
      ],
      "text/plain": [
       "    0      1       2   3\n",
       "0  単勝      6    1600   3\n",
       "1  複勝     62  490130  42\n",
       "2  馬連  2 - 6    1410   4"
      ]
     },
     "execution_count": 401,
     "metadata": {},
     "output_type": "execute_result"
    }
   ],
   "source": [
    "import pandas as pd \n",
    "\n",
    "url = \"https://db.netkeiba.com/race/202001010101\" \n",
    "pd.read_html(url)[1]"
   ]
  },
  {
   "cell_type": "code",
   "execution_count": 406,
   "id": "e0de709d-258a-47f6-becc-62ce3a7d64f6",
   "metadata": {},
   "outputs": [],
   "source": [
    "f = urlopen(url)\n",
    "html = f.read()\n",
    "html =  html.replace(b'<br />', b'br')"
   ]
  },
  {
   "cell_type": "code",
   "execution_count": 408,
   "id": "24041854-14f5-41d8-9092-ed3af6fac950",
   "metadata": {},
   "outputs": [
    {
     "data": {
      "text/html": [
       "<div>\n",
       "<style scoped>\n",
       "    .dataframe tbody tr th:only-of-type {\n",
       "        vertical-align: middle;\n",
       "    }\n",
       "\n",
       "    .dataframe tbody tr th {\n",
       "        vertical-align: top;\n",
       "    }\n",
       "\n",
       "    .dataframe thead th {\n",
       "        text-align: right;\n",
       "    }\n",
       "</style>\n",
       "<table border=\"1\" class=\"dataframe\">\n",
       "  <thead>\n",
       "    <tr style=\"text-align: right;\">\n",
       "      <th></th>\n",
       "      <th>0</th>\n",
       "      <th>1</th>\n",
       "      <th>2</th>\n",
       "      <th>3</th>\n",
       "    </tr>\n",
       "  </thead>\n",
       "  <tbody>\n",
       "    <tr>\n",
       "      <th>0</th>\n",
       "      <td>単勝</td>\n",
       "      <td>6</td>\n",
       "      <td>1600</td>\n",
       "      <td>3</td>\n",
       "    </tr>\n",
       "    <tr>\n",
       "      <th>1</th>\n",
       "      <td>複勝</td>\n",
       "      <td>6br2</td>\n",
       "      <td>490br130</td>\n",
       "      <td>4br2</td>\n",
       "    </tr>\n",
       "    <tr>\n",
       "      <th>2</th>\n",
       "      <td>馬連</td>\n",
       "      <td>2 - 6</td>\n",
       "      <td>1410</td>\n",
       "      <td>4</td>\n",
       "    </tr>\n",
       "  </tbody>\n",
       "</table>\n",
       "</div>"
      ],
      "text/plain": [
       "    0      1         2     3\n",
       "0  単勝      6      1600     3\n",
       "1  複勝   6br2  490br130  4br2\n",
       "2  馬連  2 - 6      1410     4"
      ]
     },
     "execution_count": 408,
     "metadata": {},
     "output_type": "execute_result"
    }
   ],
   "source": [
    "pd.read_html(html)[1]"
   ]
  },
  {
   "cell_type": "code",
   "execution_count": 411,
   "id": "5e62e353-4d4c-403d-b17a-78b8ebb33090",
   "metadata": {},
   "outputs": [],
   "source": [
    "results_p\n",
    "train, test = split_data(results_p)"
   ]
  },
  {
   "cell_type": "code",
   "execution_count": 414,
   "id": "ed1e5235-95ad-48c6-a2f1-b99e43660bf8",
   "metadata": {},
   "outputs": [
    {
     "data": {
      "text/plain": [
       "Index(['202001010101', '202001010102', '202001010103', '202001010104',\n",
       "       '202001010105', '202001010106', '202001010107', '202001010108',\n",
       "       '202001010109', '202001010110',\n",
       "       ...\n",
       "       '202010020803', '202010020804', '202010020805', '202010020806',\n",
       "       '202010020807', '202010020808', '202010020809', '202010020810',\n",
       "       '202010020811', '202010020812'],\n",
       "      dtype='object', length=3120)"
      ]
     },
     "execution_count": 414,
     "metadata": {},
     "output_type": "execute_result"
    }
   ],
   "source": [
    "raceid_list = test.index.unique()\n",
    "race_id_list"
   ]
  },
  {
   "cell_type": "code",
   "execution_count": 415,
   "id": "0c3c10d8-b5f9-4dc3-a6e9-071617aece19",
   "metadata": {},
   "outputs": [],
   "source": [
    "# データの読み込み\n",
    "return_tables = pd.read_pickle(\"return_tables.pickle\")"
   ]
  },
  {
   "cell_type": "markdown",
   "id": "ecf8384f-615e-4b0b-bb45-829497f0f4dd",
   "metadata": {
    "jp-MarkdownHeadingCollapsed": true,
    "tags": []
   },
   "source": [
    "# 7.1 Return クラス"
   ]
  },
  {
   "cell_type": "code",
   "execution_count": 697,
   "id": "00d4c6cd-d12e-4209-b290-6fa8d4f7370d",
   "metadata": {},
   "outputs": [],
   "source": [
    "class Return:\n",
    "    def __init__(self, return_tables):\n",
    "        self.return_tables = return_tables\n",
    "            \n",
    "    @property #関数を変数みたいな形で使用できる\n",
    "    def fukusho(self):\n",
    "        fukusho = self.return_tables[self.return_tables[0] == \"複勝\"][[1, 2]]\n",
    "        wins = fukusho[1].str.split('br', expand=True)[[0,1,2]]\n",
    "        wins.columns = [\"win_0\", \"win_1\", \"win_2\"]\n",
    "        \n",
    "        returns = fukusho[2].str.split('br', expand=True)[[0,1,2]]\n",
    "        returns.columns = ['return_0', 'return_1', 'return_2']\n",
    "        \n",
    "        df = pd.concat([wins, returns], axis=1)\n",
    "        for column in df.columns:\n",
    "            df[column] = df[column].str.replace(\",\", \"\")\n",
    "        \n",
    "        return df.fillna(0).astype(int)\n",
    "    \n",
    "    @property #関数を変数みたいな形で使用できる\n",
    "    def tansho(self):\n",
    "        tansho = self.return_tables[self.return_tables[0] == \"単勝\"][[1, 2]]\n",
    "        tansho.columns = [\"win\", \"return\"]\n",
    "        \n",
    "        for column in tansho.columns:\n",
    "            tansho[column] = pd.to_numeric(tansho[column], errors=\"coerce\")      \n",
    "        return tansho"
   ]
  },
  {
   "cell_type": "code",
   "execution_count": 696,
   "id": "7d3c3dbc-c60d-4259-85d3-63f1eb01e745",
   "metadata": {},
   "outputs": [],
   "source": [
    "rt = Return(return_tables)"
   ]
  },
  {
   "cell_type": "code",
   "execution_count": 698,
   "id": "f294c37e-2f7b-498b-a582-fb47ed523fb1",
   "metadata": {},
   "outputs": [
    {
     "name": "stdout",
     "output_type": "stream",
     "text": [
      "<class 'pandas.core.frame.DataFrame'>\n",
      "Index: 936 entries, 202010020706 to 202006050803\n",
      "Data columns (total 2 columns):\n",
      " #   Column  Non-Null Count  Dtype  \n",
      "---  ------  --------------  -----  \n",
      " 0   win     933 non-null    float64\n",
      " 1   return  933 non-null    float64\n",
      "dtypes: float64(2)\n",
      "memory usage: 21.9+ KB\n"
     ]
    }
   ],
   "source": [
    "rt.tansho.info()"
   ]
  },
  {
   "cell_type": "code",
   "execution_count": 699,
   "id": "ebe6a4ab-cbae-4459-b0f6-0b3383c36331",
   "metadata": {},
   "outputs": [
    {
     "name": "stdout",
     "output_type": "stream",
     "text": [
      "<class 'pandas.core.frame.DataFrame'>\n",
      "Index: 936 entries, 202010020706 to 202006050803\n",
      "Data columns (total 6 columns):\n",
      " #   Column    Non-Null Count  Dtype\n",
      "---  ------    --------------  -----\n",
      " 0   win_0     936 non-null    int64\n",
      " 1   win_1     936 non-null    int64\n",
      " 2   win_2     936 non-null    int64\n",
      " 3   return_0  936 non-null    int64\n",
      " 4   return_1  936 non-null    int64\n",
      " 5   return_2  936 non-null    int64\n",
      "dtypes: int64(6)\n",
      "memory usage: 51.2+ KB\n"
     ]
    }
   ],
   "source": [
    "rt.fukusho.info()"
   ]
  },
  {
   "cell_type": "markdown",
   "id": "9071a84e-fae5-4d5b-bc77-5ad788240a4f",
   "metadata": {
    "jp-MarkdownHeadingCollapsed": true,
    "tags": []
   },
   "source": [
    "# 7.2 ModelEvaluatorクラス"
   ]
  },
  {
   "cell_type": "code",
   "execution_count": 700,
   "id": "1b750b5b-5c53-462a-8fc7-e4ecbeab6c21",
   "metadata": {},
   "outputs": [],
   "source": [
    "# モデル評価クラス\n",
    "class ModelEvaluator:\n",
    "    def __init__(self, model, return_tables, std=True):\n",
    "        self.model = model\n",
    "        self.fukusho = Return(return_tables).fukusho\n",
    "        self.tansho = Return(return_tables).tansho\n",
    "        self.std = std\n",
    "        \n",
    "    def predict_proba(self, X):\n",
    "        proba = pd.Series(self.model.predict_proba(X)[:, 1], index=X.index)\n",
    "        if self.std:\n",
    "            standard_scaler = lambda x: (x - x.mean()) / x.std()\n",
    "            proba = proba.groupby(level=0).transform(standard_scaler)\n",
    "            proba = (proba - proba.min()) / (proba.max() - proba.min())\n",
    "        return proba\n",
    "    \n",
    "    def predict(self, X, threshold=0.5):\n",
    "        y_pred = self.predict_proba(X)\n",
    "        return [0 if p<threshold else 1 for p in y_pred]\n",
    "    \n",
    "    def score(self, y_true, X):\n",
    "        return roc_auc_score(y_true, self.predict_proba(X))\n",
    "    \n",
    "    def feature_importances(self, X, n_display=20):\n",
    "        importances = pd.DataFrame({\"features\":X_train.columns, \n",
    "                                    \"importance\":lgb_clf.feature_importances_})\n",
    "        \n",
    "        return importances.sort_values(\"importance\", ascending=False)[:n_display]\n",
    "    \n",
    "    def pred_table(self, X, threshold=0.5, bet_only=True):\n",
    "        pred_table = X.copy()[['馬番']] #DateFrame型で取り出す\n",
    "        pred_table['pred'] = self.predict(X, threshold)\n",
    "        if bet_only:\n",
    "            return pred_table[pred_table['pred']==1]['馬番']\n",
    "        else:\n",
    "            return pred_table\n",
    "        \n",
    "    def fukusho_return(self, X, threshold=0.5):\n",
    "        pred_table = self.pred_table(X, threshold)\n",
    "        n_bets = len(pred_table)\n",
    "        money = - 100 * n_bets\n",
    "        df = self.fukusho.copy()\n",
    "        df = df.merge(pred_table, left_index=True, right_index = True, how=\"left\")\n",
    "        for i in range(3):\n",
    "            money += df[df[\"win_{}\".format(i)] == df[\"馬番\"]][\"return_{}\".format(i)].sum()\n",
    "        return n_bets, money\n",
    "    \n",
    "    def tansho_return(self, X, threshold=0.5):\n",
    "        pred_table = self.pred_table(X, threshold)\n",
    "        n_bets = len(pred_table)\n",
    "        money = -100 * n_bets\n",
    "        df = self.tansho.copy()\n",
    "        df = df.merge(pred_table, left_index=True, right_index=True, how='left')\n",
    "        money += df[df['win']==df['馬番']]['return'].sum()\n",
    "        return n_bets, money    "
   ]
  },
  {
   "cell_type": "code",
   "execution_count": 701,
   "id": "2bf45bb5-d5fd-482a-990f-764377fd726a",
   "metadata": {},
   "outputs": [],
   "source": [
    "me = ModelEvaluator(lgb_clf, return_tables)"
   ]
  },
  {
   "cell_type": "code",
   "execution_count": 702,
   "id": "a802c603-f602-4742-a58f-c08d0ab0cf47",
   "metadata": {},
   "outputs": [
    {
     "data": {
      "text/plain": [
       "(5747, -137670)"
      ]
     },
     "execution_count": 702,
     "metadata": {},
     "output_type": "execute_result"
    }
   ],
   "source": [
    "me.fukusho_return(X_test)"
   ]
  },
  {
   "cell_type": "code",
   "execution_count": 621,
   "id": "05d67918-c638-4fd9-820e-19bac7a1a905",
   "metadata": {},
   "outputs": [
    {
     "data": {
      "text/plain": [
       "(5231, -88940.0)"
      ]
     },
     "execution_count": 621,
     "metadata": {},
     "output_type": "execute_result"
    }
   ],
   "source": [
    "me.tansho_return(X_test)"
   ]
  },
  {
   "cell_type": "code",
   "execution_count": 490,
   "id": "117a57c1-c5ca-40d5-96ab-916cdfb90551",
   "metadata": {},
   "outputs": [
    {
     "data": {
      "application/vnd.jupyter.widget-view+json": {
       "model_id": "b7eb1b404d1a479e848f2c38b7a7d926",
       "version_major": 2,
       "version_minor": 0
      },
      "text/plain": [
       "  0%|          | 0/100 [00:00<?, ?it/s]"
      ]
     },
     "metadata": {},
     "output_type": "display_data"
    }
   ],
   "source": [
    "gain = {}\n",
    "n_samples = 100\n",
    "for i in tqdm(range(n_samples)):\n",
    "    threshold = i / n_samples\n",
    "    gain[threshold] = me.fukusho_return(X_test, threshold)"
   ]
  },
  {
   "cell_type": "markdown",
   "id": "50e22a16-6c00-45ac-be6c-68c59f3cf51d",
   "metadata": {
    "jp-MarkdownHeadingCollapsed": true,
    "tags": []
   },
   "source": [
    "# 8 出馬表のスクレイピング"
   ]
  },
  {
   "cell_type": "code",
   "execution_count": 499,
   "id": "3d31564b-7d12-4fd9-88fd-5daf1a9ef0d6",
   "metadata": {},
   "outputs": [],
   "source": [
    "# ライブラリのインポート\n",
    "from selenium.webdriver import Chrome, ChromeOptions\n",
    "import chromedriver_binary"
   ]
  },
  {
   "cell_type": "code",
   "execution_count": 526,
   "id": "bb9becae-82b7-4fee-b06e-8420bd824e4f",
   "metadata": {},
   "outputs": [],
   "source": [
    "import time\n",
    "import re\n",
    "\n",
    "class ShutubaTable:\n",
    "    def __init__(self):\n",
    "        self.shutuba_table = pd.DataFrame()\n",
    "    \n",
    "    def scrape_shutuba_table(self, race_id_list):\n",
    "        options = ChromeOptions()\n",
    "        driver = Chrome(options=options)\n",
    "        for race_id in tqdm(race_id_list):\n",
    "            url = 'https://race.netkeiba.com/race/shutuba.html?race_id=' + race_id\n",
    "            driver.get(url)\n",
    "            elements = driver.find_elements_by_class_name('HorseList')\n",
    "            for element in elements:\n",
    "                tds = element.find_elements_by_tag_name('td')\n",
    "                row = []\n",
    "                for td in tds:\n",
    "                    row.append(td.text)\n",
    "                    if td.get_attribute('class') in ['HorseInfo', 'Jockey']:\n",
    "                        href = td.find_element_by_tag_name('a').get_attribute('href')\n",
    "                        row.append(re.findall(r'\\d+', href)[0])\n",
    "                self.shutuba_table = self.shutuba_table.append(pd.Series(row, name=race_id))\n",
    "            time.sleep(1)\n",
    "        driver.close()\n",
    "     \n",
    "    def preprocessing(self):\n",
    "        df = self.shutuba_table.copy()\n",
    "        df = df[[0,1,3,4,5,6,7,8,10,11,12]]\n",
    "        df.columns = ['枠番', '馬番', '馬名', 'horse_id', '性齢', '斤量', '騎手', 'jockey_id',\n",
    "                      '馬体重', '単勝', '人気']\n",
    "        self.shutuba_table = df   \n",
    "        \n",
    "    def merge_horse_results(self, horse_results, columns, n_race=5):\n",
    "        for column in columns:\n",
    "            df = horse_results.groupby(level=0).head(n_race)\n",
    "            df = df.astype(str).groupby(level=0)[column].apply(lambda x: ','.join(x))\n",
    "            df = df.str.split(',', expand=True).add_prefix('{}_'.format(column))\n",
    "            self.shutuba_table = self.shutuba_table.merge(df, left_on='horse_id',\n",
    "                                                          right_index=True, how='left')\n",
    "    "
   ]
  },
  {
   "cell_type": "markdown",
   "id": "eedbe8c3-6d81-48fc-b7ea-a6d3b3fcd34b",
   "metadata": {
    "tags": []
   },
   "source": [
    "# 9 血統データの追加"
   ]
  },
  {
   "cell_type": "code",
   "execution_count": 9,
   "id": "a8d1e07a-e673-4cc8-8227-41309d7bbd05",
   "metadata": {},
   "outputs": [],
   "source": [
    "# pedをスクレイピング\n",
    "def scrape_peds(horse_id_list, pre_peds={}):\n",
    "    peds = pre_peds\n",
    "    for horse_id in tqdm(horse_id_list):\n",
    "        if horse_id in peds.keys():\n",
    "            continue\n",
    "        try:\n",
    "            url = \"https://db.netkeiba.com/horse/ped/\" + horse_id\n",
    "            df = pd.read_html(url)[0]\n",
    "            \n",
    "            generations = {}\n",
    "            #重複を削除して1列のSeries型データに直す\n",
    "            for i in reversed(range(5)):\n",
    "                generations[i] = df[i]\n",
    "                df.drop([i], axis = 1, inplace=True)\n",
    "                df = df.drop_duplicates()\n",
    "                \n",
    "            ped = pd.concat([generations[i] for i in range(5)]).rename(horse_id)\n",
    "            peds[horse_id] = ped.reset_index(drop=True)\n",
    "            time.sleep(1)\n",
    "        except IndexError:\n",
    "            continue\n",
    "        except Exception as e:\n",
    "            print(e)\n",
    "            break\n",
    "    return peds     \n"
   ]
  },
  {
   "cell_type": "code",
   "execution_count": 76,
   "id": "0fdc3bc7-9254-42ea-a793-0a6a2ae5965d",
   "metadata": {},
   "outputs": [],
   "source": [
    "# データの読み込み\n",
    "peds = pd.read_pickle(\"peds.pickle\")"
   ]
  },
  {
   "cell_type": "code",
   "execution_count": 704,
   "id": "214ce203-3b4f-4ec7-a852-517c7687c3a3",
   "metadata": {},
   "outputs": [
    {
     "data": {
      "application/vnd.jupyter.widget-view+json": {
       "model_id": "d818e68b65904a2eb6f9c8f17b3950c1",
       "version_major": 2,
       "version_minor": 0
      },
      "text/plain": [
       "  0%|          | 0/104 [00:00<?, ?it/s]"
      ]
     },
     "metadata": {},
     "output_type": "display_data"
    }
   ],
   "source": [
    "hr = HorseResults(horse_results)\n",
    "results_m = hr.merge_all(results_p, n_samples=5)\n",
    "results_m[\"rank\"] = results_m[\"着順\"].map(lambda x:1 if x<4 else 0)\n",
    "results_m.drop([\"着順\", \"騎手\"], axis = 1, inplace=True)"
   ]
  },
  {
   "cell_type": "code",
   "execution_count": null,
   "id": "ccc25039-ae2d-44ca-871a-6748ee4175da",
   "metadata": {},
   "outputs": [],
   "source": []
  },
  {
   "cell_type": "code",
   "execution_count": 705,
   "id": "118ad0ee-3a45-46bc-a841-d83114d42ce1",
   "metadata": {},
   "outputs": [
    {
     "data": {
      "text/plain": [
       "11344"
      ]
     },
     "execution_count": 705,
     "metadata": {},
     "output_type": "execute_result"
    }
   ],
   "source": [
    "# horse_idが重複を除いて何個あるか表示\n",
    "results_m[\"horse_id\"].nunique()"
   ]
  },
  {
   "cell_type": "code",
   "execution_count": 706,
   "id": "cbd71fa8-75cd-46d4-8ef6-d7b2bb07740c",
   "metadata": {},
   "outputs": [
    {
     "data": {
      "text/plain": [
       "202001010101    2018101626\n",
       "202001010101    2018105193\n",
       "202001010101    2018104800\n",
       "202001010101    2018102410\n",
       "202001010101    2018100828\n",
       "                   ...    \n",
       "202010010412    2016109126\n",
       "202010010412    2015105273\n",
       "202010010412    2016101947\n",
       "202010010412    2016103652\n",
       "202010010412    2012102059\n",
       "Name: horse_id, Length: 43239, dtype: category\n",
       "Categories (11344, object): ['2009100502', '2009102606', '2009103405', '2010100035', ..., '2018110135', '2018110138', '2018110139', '2018110145']"
      ]
     },
     "execution_count": 706,
     "metadata": {},
     "output_type": "execute_result"
    }
   ],
   "source": [
    "results_m[\"horse_id\"].astype(\"category\")"
   ]
  },
  {
   "cell_type": "code",
   "execution_count": 707,
   "id": "efc836fa-4695-41f0-ae1c-180351daa7e0",
   "metadata": {},
   "outputs": [],
   "source": [
    "#horse_idをラベルエンコーディング\n",
    "from sklearn.preprocessing import LabelEncoder\n",
    "\n",
    "results_m['horse_id'] = LabelEncoder().fit_transform(results_m['horse_id'])"
   ]
  },
  {
   "cell_type": "code",
   "execution_count": 708,
   "id": "1ebf66f9-fea3-4ade-9efe-bfeded7100ac",
   "metadata": {},
   "outputs": [],
   "source": [
    "results_d = pd.get_dummies(results_m)"
   ]
  },
  {
   "cell_type": "code",
   "execution_count": 709,
   "id": "1fc25900-ccbe-4683-88f8-b665e421b4a7",
   "metadata": {},
   "outputs": [
    {
     "data": {
      "text/html": [
       "<div>\n",
       "<style scoped>\n",
       "    .dataframe tbody tr th:only-of-type {\n",
       "        vertical-align: middle;\n",
       "    }\n",
       "\n",
       "    .dataframe tbody tr th {\n",
       "        vertical-align: top;\n",
       "    }\n",
       "\n",
       "    .dataframe thead th {\n",
       "        text-align: right;\n",
       "    }\n",
       "</style>\n",
       "<table border=\"1\" class=\"dataframe\">\n",
       "  <thead>\n",
       "    <tr style=\"text-align: right;\">\n",
       "      <th></th>\n",
       "      <th>枠番</th>\n",
       "      <th>馬番</th>\n",
       "      <th>斤量</th>\n",
       "      <th>単勝</th>\n",
       "      <th>人気</th>\n",
       "      <th>horse_id</th>\n",
       "      <th>date</th>\n",
       "      <th>年齢</th>\n",
       "      <th>体重</th>\n",
       "      <th>体重変化</th>\n",
       "      <th>...</th>\n",
       "      <th>weather_雨</th>\n",
       "      <th>weather_雪</th>\n",
       "      <th>race_type_ダート</th>\n",
       "      <th>race_type_芝</th>\n",
       "      <th>race_type_障害</th>\n",
       "      <th>ground_state_稍重</th>\n",
       "      <th>ground_state_良</th>\n",
       "      <th>性_セ</th>\n",
       "      <th>性_牝</th>\n",
       "      <th>性_牡</th>\n",
       "    </tr>\n",
       "  </thead>\n",
       "  <tbody>\n",
       "    <tr>\n",
       "      <th>202001010101</th>\n",
       "      <td>6</td>\n",
       "      <td>6</td>\n",
       "      <td>54.0</td>\n",
       "      <td>16.0</td>\n",
       "      <td>3.0</td>\n",
       "      <td>8763</td>\n",
       "      <td>2020-07-25</td>\n",
       "      <td>2</td>\n",
       "      <td>438</td>\n",
       "      <td>4</td>\n",
       "      <td>...</td>\n",
       "      <td>0</td>\n",
       "      <td>0</td>\n",
       "      <td>0</td>\n",
       "      <td>1</td>\n",
       "      <td>0</td>\n",
       "      <td>0</td>\n",
       "      <td>1</td>\n",
       "      <td>0</td>\n",
       "      <td>1</td>\n",
       "      <td>0</td>\n",
       "    </tr>\n",
       "    <tr>\n",
       "      <th>202001010101</th>\n",
       "      <td>2</td>\n",
       "      <td>2</td>\n",
       "      <td>54.0</td>\n",
       "      <td>1.9</td>\n",
       "      <td>2.0</td>\n",
       "      <td>10421</td>\n",
       "      <td>2020-07-25</td>\n",
       "      <td>2</td>\n",
       "      <td>510</td>\n",
       "      <td>0</td>\n",
       "      <td>...</td>\n",
       "      <td>0</td>\n",
       "      <td>0</td>\n",
       "      <td>0</td>\n",
       "      <td>1</td>\n",
       "      <td>0</td>\n",
       "      <td>0</td>\n",
       "      <td>1</td>\n",
       "      <td>0</td>\n",
       "      <td>0</td>\n",
       "      <td>1</td>\n",
       "    </tr>\n",
       "    <tr>\n",
       "      <th>202001010101</th>\n",
       "      <td>3</td>\n",
       "      <td>3</td>\n",
       "      <td>54.0</td>\n",
       "      <td>1.8</td>\n",
       "      <td>1.0</td>\n",
       "      <td>10170</td>\n",
       "      <td>2020-07-25</td>\n",
       "      <td>2</td>\n",
       "      <td>482</td>\n",
       "      <td>-6</td>\n",
       "      <td>...</td>\n",
       "      <td>0</td>\n",
       "      <td>0</td>\n",
       "      <td>0</td>\n",
       "      <td>1</td>\n",
       "      <td>0</td>\n",
       "      <td>0</td>\n",
       "      <td>1</td>\n",
       "      <td>0</td>\n",
       "      <td>0</td>\n",
       "      <td>1</td>\n",
       "    </tr>\n",
       "    <tr>\n",
       "      <th>202001010101</th>\n",
       "      <td>1</td>\n",
       "      <td>1</td>\n",
       "      <td>52.0</td>\n",
       "      <td>22.2</td>\n",
       "      <td>4.0</td>\n",
       "      <td>9127</td>\n",
       "      <td>2020-07-25</td>\n",
       "      <td>2</td>\n",
       "      <td>442</td>\n",
       "      <td>0</td>\n",
       "      <td>...</td>\n",
       "      <td>0</td>\n",
       "      <td>0</td>\n",
       "      <td>0</td>\n",
       "      <td>1</td>\n",
       "      <td>0</td>\n",
       "      <td>0</td>\n",
       "      <td>1</td>\n",
       "      <td>0</td>\n",
       "      <td>1</td>\n",
       "      <td>0</td>\n",
       "    </tr>\n",
       "    <tr>\n",
       "      <th>202001010101</th>\n",
       "      <td>4</td>\n",
       "      <td>4</td>\n",
       "      <td>54.0</td>\n",
       "      <td>55.7</td>\n",
       "      <td>5.0</td>\n",
       "      <td>8488</td>\n",
       "      <td>2020-07-25</td>\n",
       "      <td>2</td>\n",
       "      <td>426</td>\n",
       "      <td>-8</td>\n",
       "      <td>...</td>\n",
       "      <td>0</td>\n",
       "      <td>0</td>\n",
       "      <td>0</td>\n",
       "      <td>1</td>\n",
       "      <td>0</td>\n",
       "      <td>0</td>\n",
       "      <td>1</td>\n",
       "      <td>0</td>\n",
       "      <td>0</td>\n",
       "      <td>1</td>\n",
       "    </tr>\n",
       "  </tbody>\n",
       "</table>\n",
       "<p>5 rows × 11590 columns</p>\n",
       "</div>"
      ],
      "text/plain": [
       "              枠番  馬番    斤量    単勝   人気  horse_id       date  年齢   体重  体重変化  \\\n",
       "202001010101   6   6  54.0  16.0  3.0      8763 2020-07-25   2  438     4   \n",
       "202001010101   2   2  54.0   1.9  2.0     10421 2020-07-25   2  510     0   \n",
       "202001010101   3   3  54.0   1.8  1.0     10170 2020-07-25   2  482    -6   \n",
       "202001010101   1   1  52.0  22.2  4.0      9127 2020-07-25   2  442     0   \n",
       "202001010101   4   4  54.0  55.7  5.0      8488 2020-07-25   2  426    -8   \n",
       "\n",
       "              ...  weather_雨  weather_雪  race_type_ダート  race_type_芝  \\\n",
       "202001010101  ...          0          0              0            1   \n",
       "202001010101  ...          0          0              0            1   \n",
       "202001010101  ...          0          0              0            1   \n",
       "202001010101  ...          0          0              0            1   \n",
       "202001010101  ...          0          0              0            1   \n",
       "\n",
       "              race_type_障害  ground_state_稍重  ground_state_良  性_セ  性_牝  性_牡  \n",
       "202001010101             0                0               1    0    1    0  \n",
       "202001010101             0                0               1    0    0    1  \n",
       "202001010101             0                0               1    0    0    1  \n",
       "202001010101             0                0               1    0    1    0  \n",
       "202001010101             0                0               1    0    0    1  \n",
       "\n",
       "[5 rows x 11590 columns]"
      ]
     },
     "execution_count": 709,
     "metadata": {},
     "output_type": "execute_result"
    }
   ],
   "source": [
    "results_d.head()"
   ]
  },
  {
   "cell_type": "code",
   "execution_count": 710,
   "id": "82b729fd-d251-485e-adfa-9f6eae9077c4",
   "metadata": {},
   "outputs": [
    {
     "data": {
      "text/plain": [
       "LGBMClassifier(class_weight='balanced', n_estimators=80, num_leaves=4,\n",
       "               random_state=100)"
      ]
     },
     "execution_count": 710,
     "metadata": {},
     "output_type": "execute_result"
    }
   ],
   "source": [
    "# lightGBMで学習\n",
    "train, test = split_data(results_d)\n",
    "X_train = train.drop(['rank'], axis=1)\n",
    "y_train = train['rank']\n",
    "X_test = test.drop(['rank'], axis=1)\n",
    "y_test = test['rank']\n",
    "params = {\n",
    "    \"num_leaves\": 4,\n",
    "    \"n_estimators\": 80,\n",
    "    \"class_weight\": \"balanced\",\n",
    "    \"random_state\": 100,\n",
    "}\n",
    "lgb_clf = lgb.LGBMClassifier(**params)\n",
    "lgb_clf.fit(X_train.values, y_train.values)\n"
   ]
  },
  {
   "cell_type": "code",
   "execution_count": 711,
   "id": "81fafb8a-b082-4f42-9479-73b78c060c98",
   "metadata": {},
   "outputs": [
    {
     "data": {
      "text/html": [
       "<div>\n",
       "<style scoped>\n",
       "    .dataframe tbody tr th:only-of-type {\n",
       "        vertical-align: middle;\n",
       "    }\n",
       "\n",
       "    .dataframe tbody tr th {\n",
       "        vertical-align: top;\n",
       "    }\n",
       "\n",
       "    .dataframe thead th {\n",
       "        text-align: right;\n",
       "    }\n",
       "</style>\n",
       "<table border=\"1\" class=\"dataframe\">\n",
       "  <thead>\n",
       "    <tr style=\"text-align: right;\">\n",
       "      <th></th>\n",
       "      <th>features</th>\n",
       "      <th>importance</th>\n",
       "    </tr>\n",
       "  </thead>\n",
       "  <tbody>\n",
       "    <tr>\n",
       "      <th>3</th>\n",
       "      <td>単勝</td>\n",
       "      <td>126</td>\n",
       "    </tr>\n",
       "    <tr>\n",
       "      <th>7</th>\n",
       "      <td>体重</td>\n",
       "      <td>19</td>\n",
       "    </tr>\n",
       "    <tr>\n",
       "      <th>10</th>\n",
       "      <td>賞金_5R</td>\n",
       "      <td>16</td>\n",
       "    </tr>\n",
       "    <tr>\n",
       "      <th>4</th>\n",
       "      <td>人気</td>\n",
       "      <td>15</td>\n",
       "    </tr>\n",
       "    <tr>\n",
       "      <th>5</th>\n",
       "      <td>horse_id</td>\n",
       "      <td>12</td>\n",
       "    </tr>\n",
       "    <tr>\n",
       "      <th>8</th>\n",
       "      <td>体重変化</td>\n",
       "      <td>8</td>\n",
       "    </tr>\n",
       "    <tr>\n",
       "      <th>2</th>\n",
       "      <td>斤量</td>\n",
       "      <td>6</td>\n",
       "    </tr>\n",
       "    <tr>\n",
       "      <th>11397</th>\n",
       "      <td>jockey_id_01061</td>\n",
       "      <td>5</td>\n",
       "    </tr>\n",
       "    <tr>\n",
       "      <th>11513</th>\n",
       "      <td>jockey_id_05517</td>\n",
       "      <td>5</td>\n",
       "    </tr>\n",
       "    <tr>\n",
       "      <th>11473</th>\n",
       "      <td>jockey_id_01168</td>\n",
       "      <td>4</td>\n",
       "    </tr>\n",
       "    <tr>\n",
       "      <th>0</th>\n",
       "      <td>枠番</td>\n",
       "      <td>3</td>\n",
       "    </tr>\n",
       "    <tr>\n",
       "      <th>9</th>\n",
       "      <td>着順_5R</td>\n",
       "      <td>3</td>\n",
       "    </tr>\n",
       "    <tr>\n",
       "      <th>11459</th>\n",
       "      <td>jockey_id_01153</td>\n",
       "      <td>3</td>\n",
       "    </tr>\n",
       "    <tr>\n",
       "      <th>11481</th>\n",
       "      <td>jockey_id_01177</td>\n",
       "      <td>2</td>\n",
       "    </tr>\n",
       "    <tr>\n",
       "      <th>11530</th>\n",
       "      <td>coures_len_1200</td>\n",
       "      <td>2</td>\n",
       "    </tr>\n",
       "    <tr>\n",
       "      <th>11482</th>\n",
       "      <td>jockey_id_01178</td>\n",
       "      <td>1</td>\n",
       "    </tr>\n",
       "    <tr>\n",
       "      <th>11488</th>\n",
       "      <td>jockey_id_01184</td>\n",
       "      <td>1</td>\n",
       "    </tr>\n",
       "    <tr>\n",
       "      <th>11477</th>\n",
       "      <td>jockey_id_01172</td>\n",
       "      <td>1</td>\n",
       "    </tr>\n",
       "    <tr>\n",
       "      <th>1</th>\n",
       "      <td>馬番</td>\n",
       "      <td>1</td>\n",
       "    </tr>\n",
       "    <tr>\n",
       "      <th>11467</th>\n",
       "      <td>jockey_id_01162</td>\n",
       "      <td>1</td>\n",
       "    </tr>\n",
       "  </tbody>\n",
       "</table>\n",
       "</div>"
      ],
      "text/plain": [
       "              features  importance\n",
       "3                   単勝         126\n",
       "7                   体重          19\n",
       "10               賞金_5R          16\n",
       "4                   人気          15\n",
       "5             horse_id          12\n",
       "8                 体重変化           8\n",
       "2                   斤量           6\n",
       "11397  jockey_id_01061           5\n",
       "11513  jockey_id_05517           5\n",
       "11473  jockey_id_01168           4\n",
       "0                   枠番           3\n",
       "9                着順_5R           3\n",
       "11459  jockey_id_01153           3\n",
       "11481  jockey_id_01177           2\n",
       "11530  coures_len_1200           2\n",
       "11482  jockey_id_01178           1\n",
       "11488  jockey_id_01184           1\n",
       "11477  jockey_id_01172           1\n",
       "1                   馬番           1\n",
       "11467  jockey_id_01162           1"
      ]
     },
     "execution_count": 711,
     "metadata": {},
     "output_type": "execute_result"
    }
   ],
   "source": [
    "#特徴量の重要度を表示\n",
    "me = ModelEvaluator(lgb_clf, return_tables)\n",
    "me.feature_importances(X_test)"
   ]
  },
  {
   "cell_type": "markdown",
   "id": "2bbeb7c7-f5a2-4970-90fb-5f5e188f7986",
   "metadata": {
    "tags": []
   },
   "source": [
    "# 9.1 回収率の計算"
   ]
  },
  {
   "cell_type": "code",
   "execution_count": 712,
   "id": "ccdf5ec6-be6b-4bcd-a140-330c134b93d8",
   "metadata": {},
   "outputs": [
    {
     "data": {
      "application/vnd.jupyter.widget-view+json": {
       "model_id": "ce10a82518844d89b3335f4fd8d1aae9",
       "version_major": 2,
       "version_minor": 0
      },
      "text/plain": [
       "  0%|          | 0/104 [00:00<?, ?it/s]"
      ]
     },
     "metadata": {},
     "output_type": "display_data"
    }
   ],
   "source": [
    "hr = HorseResults(horse_results)\n",
    "results_5R = hr.merge_all(results_p, n_samples=5)\n",
    "results_5R[\"rank\"] = results_5R[\"着順\"].map(lambda x:1 if x<4 else 0)\n",
    "results_5R.drop([\"着順\", \"騎手\"], axis = 1, inplace=True)"
   ]
  },
  {
   "cell_type": "code",
   "execution_count": 713,
   "id": "30811ee5-7e8a-4871-ada2-4ccdb8c99816",
   "metadata": {},
   "outputs": [],
   "source": [
    "results_m = results_5R.merge(peds, left_on=\"horse_id\", right_index=True, how=\"left\")"
   ]
  },
  {
   "cell_type": "code",
   "execution_count": 714,
   "id": "4dce93ec-044c-4aec-808c-9ad21ec37f9e",
   "metadata": {},
   "outputs": [
    {
     "data": {
      "text/plain": [
       "['horse_id',\n",
       " 'preds_0',\n",
       " 'preds_1',\n",
       " 'preds_2',\n",
       " 'preds_3',\n",
       " 'preds_4',\n",
       " 'preds_5',\n",
       " 'preds_6',\n",
       " 'preds_7',\n",
       " 'preds_8',\n",
       " 'preds_9',\n",
       " 'preds_10',\n",
       " 'preds_11',\n",
       " 'preds_12',\n",
       " 'preds_13',\n",
       " 'preds_14',\n",
       " 'preds_15',\n",
       " 'preds_16',\n",
       " 'preds_17',\n",
       " 'preds_18',\n",
       " 'preds_19',\n",
       " 'preds_20',\n",
       " 'preds_21',\n",
       " 'preds_22',\n",
       " 'preds_23',\n",
       " 'preds_24',\n",
       " 'preds_25',\n",
       " 'preds_26',\n",
       " 'preds_27',\n",
       " 'preds_28',\n",
       " 'preds_29',\n",
       " 'preds_30',\n",
       " 'preds_31',\n",
       " 'preds_32',\n",
       " 'preds_33',\n",
       " 'preds_34',\n",
       " 'preds_35',\n",
       " 'preds_36',\n",
       " 'preds_37',\n",
       " 'preds_38',\n",
       " 'preds_39',\n",
       " 'preds_40',\n",
       " 'preds_41',\n",
       " 'preds_42',\n",
       " 'preds_43',\n",
       " 'preds_44',\n",
       " 'preds_45',\n",
       " 'preds_46',\n",
       " 'preds_47',\n",
       " 'preds_48',\n",
       " 'preds_49',\n",
       " 'preds_50',\n",
       " 'preds_51',\n",
       " 'preds_52',\n",
       " 'preds_53',\n",
       " 'preds_54',\n",
       " 'preds_55',\n",
       " 'preds_56',\n",
       " 'preds_57',\n",
       " 'preds_58',\n",
       " 'preds_59',\n",
       " 'preds_60',\n",
       " 'preds_61']"
      ]
     },
     "execution_count": 714,
     "metadata": {},
     "output_type": "execute_result"
    }
   ],
   "source": [
    "categorical_columns = [\"horse_id\"] + list(peds.columns)\n",
    "categorical_columns"
   ]
  },
  {
   "cell_type": "code",
   "execution_count": 715,
   "id": "45d4e0e4-4403-42e7-88d8-193496647095",
   "metadata": {},
   "outputs": [],
   "source": [
    "# カテゴリ型に変換\n",
    "for columns in categorical_columns:\n",
    "    results_m[columns] = LabelEncoder().fit_transform(results_m[columns])"
   ]
  },
  {
   "cell_type": "code",
   "execution_count": 716,
   "id": "4b5f26b4-c970-4a26-a66d-85b3ec4a7f3f",
   "metadata": {},
   "outputs": [
    {
     "data": {
      "text/html": [
       "<div>\n",
       "<style scoped>\n",
       "    .dataframe tbody tr th:only-of-type {\n",
       "        vertical-align: middle;\n",
       "    }\n",
       "\n",
       "    .dataframe tbody tr th {\n",
       "        vertical-align: top;\n",
       "    }\n",
       "\n",
       "    .dataframe thead th {\n",
       "        text-align: right;\n",
       "    }\n",
       "</style>\n",
       "<table border=\"1\" class=\"dataframe\">\n",
       "  <thead>\n",
       "    <tr style=\"text-align: right;\">\n",
       "      <th></th>\n",
       "      <th>horse_id</th>\n",
       "      <th>preds_0</th>\n",
       "      <th>preds_1</th>\n",
       "      <th>preds_2</th>\n",
       "      <th>preds_3</th>\n",
       "      <th>preds_4</th>\n",
       "      <th>preds_5</th>\n",
       "      <th>preds_6</th>\n",
       "      <th>preds_7</th>\n",
       "      <th>preds_8</th>\n",
       "      <th>...</th>\n",
       "      <th>preds_52</th>\n",
       "      <th>preds_53</th>\n",
       "      <th>preds_54</th>\n",
       "      <th>preds_55</th>\n",
       "      <th>preds_56</th>\n",
       "      <th>preds_57</th>\n",
       "      <th>preds_58</th>\n",
       "      <th>preds_59</th>\n",
       "      <th>preds_60</th>\n",
       "      <th>preds_61</th>\n",
       "    </tr>\n",
       "  </thead>\n",
       "  <tbody>\n",
       "    <tr>\n",
       "      <th>202001010101</th>\n",
       "      <td>8763</td>\n",
       "      <td>252</td>\n",
       "      <td>2120</td>\n",
       "      <td>164</td>\n",
       "      <td>368</td>\n",
       "      <td>761</td>\n",
       "      <td>4019</td>\n",
       "      <td>95</td>\n",
       "      <td>167</td>\n",
       "      <td>229</td>\n",
       "      <td>...</td>\n",
       "      <td>56</td>\n",
       "      <td>333</td>\n",
       "      <td>62</td>\n",
       "      <td>370</td>\n",
       "      <td>72</td>\n",
       "      <td>483</td>\n",
       "      <td>87</td>\n",
       "      <td>820</td>\n",
       "      <td>1309</td>\n",
       "      <td>3111</td>\n",
       "    </tr>\n",
       "    <tr>\n",
       "      <th>202001010101</th>\n",
       "      <td>10421</td>\n",
       "      <td>336</td>\n",
       "      <td>4795</td>\n",
       "      <td>153</td>\n",
       "      <td>236</td>\n",
       "      <td>748</td>\n",
       "      <td>4438</td>\n",
       "      <td>35</td>\n",
       "      <td>151</td>\n",
       "      <td>6</td>\n",
       "      <td>...</td>\n",
       "      <td>182</td>\n",
       "      <td>415</td>\n",
       "      <td>77</td>\n",
       "      <td>330</td>\n",
       "      <td>178</td>\n",
       "      <td>615</td>\n",
       "      <td>246</td>\n",
       "      <td>667</td>\n",
       "      <td>925</td>\n",
       "      <td>304</td>\n",
       "    </tr>\n",
       "    <tr>\n",
       "      <th>202001010101</th>\n",
       "      <td>10170</td>\n",
       "      <td>288</td>\n",
       "      <td>5960</td>\n",
       "      <td>144</td>\n",
       "      <td>394</td>\n",
       "      <td>279</td>\n",
       "      <td>488</td>\n",
       "      <td>74</td>\n",
       "      <td>3</td>\n",
       "      <td>197</td>\n",
       "      <td>...</td>\n",
       "      <td>374</td>\n",
       "      <td>162</td>\n",
       "      <td>154</td>\n",
       "      <td>190</td>\n",
       "      <td>88</td>\n",
       "      <td>670</td>\n",
       "      <td>389</td>\n",
       "      <td>538</td>\n",
       "      <td>560</td>\n",
       "      <td>920</td>\n",
       "    </tr>\n",
       "    <tr>\n",
       "      <th>202001010101</th>\n",
       "      <td>9127</td>\n",
       "      <td>223</td>\n",
       "      <td>7311</td>\n",
       "      <td>174</td>\n",
       "      <td>255</td>\n",
       "      <td>346</td>\n",
       "      <td>5448</td>\n",
       "      <td>95</td>\n",
       "      <td>161</td>\n",
       "      <td>155</td>\n",
       "      <td>...</td>\n",
       "      <td>51</td>\n",
       "      <td>645</td>\n",
       "      <td>35</td>\n",
       "      <td>106</td>\n",
       "      <td>9</td>\n",
       "      <td>50</td>\n",
       "      <td>19</td>\n",
       "      <td>89</td>\n",
       "      <td>605</td>\n",
       "      <td>2415</td>\n",
       "    </tr>\n",
       "    <tr>\n",
       "      <th>202001010101</th>\n",
       "      <td>8488</td>\n",
       "      <td>444</td>\n",
       "      <td>3240</td>\n",
       "      <td>140</td>\n",
       "      <td>290</td>\n",
       "      <td>748</td>\n",
       "      <td>3515</td>\n",
       "      <td>45</td>\n",
       "      <td>188</td>\n",
       "      <td>202</td>\n",
       "      <td>...</td>\n",
       "      <td>182</td>\n",
       "      <td>415</td>\n",
       "      <td>108</td>\n",
       "      <td>230</td>\n",
       "      <td>451</td>\n",
       "      <td>415</td>\n",
       "      <td>153</td>\n",
       "      <td>929</td>\n",
       "      <td>204</td>\n",
       "      <td>314</td>\n",
       "    </tr>\n",
       "    <tr>\n",
       "      <th>...</th>\n",
       "      <td>...</td>\n",
       "      <td>...</td>\n",
       "      <td>...</td>\n",
       "      <td>...</td>\n",
       "      <td>...</td>\n",
       "      <td>...</td>\n",
       "      <td>...</td>\n",
       "      <td>...</td>\n",
       "      <td>...</td>\n",
       "      <td>...</td>\n",
       "      <td>...</td>\n",
       "      <td>...</td>\n",
       "      <td>...</td>\n",
       "      <td>...</td>\n",
       "      <td>...</td>\n",
       "      <td>...</td>\n",
       "      <td>...</td>\n",
       "      <td>...</td>\n",
       "      <td>...</td>\n",
       "      <td>...</td>\n",
       "      <td>...</td>\n",
       "    </tr>\n",
       "    <tr>\n",
       "      <th>202010010412</th>\n",
       "      <td>3815</td>\n",
       "      <td>404</td>\n",
       "      <td>2155</td>\n",
       "      <td>87</td>\n",
       "      <td>288</td>\n",
       "      <td>573</td>\n",
       "      <td>4102</td>\n",
       "      <td>57</td>\n",
       "      <td>132</td>\n",
       "      <td>145</td>\n",
       "      <td>...</td>\n",
       "      <td>144</td>\n",
       "      <td>658</td>\n",
       "      <td>61</td>\n",
       "      <td>61</td>\n",
       "      <td>444</td>\n",
       "      <td>524</td>\n",
       "      <td>232</td>\n",
       "      <td>191</td>\n",
       "      <td>630</td>\n",
       "      <td>213</td>\n",
       "    </tr>\n",
       "    <tr>\n",
       "      <th>202010010412</th>\n",
       "      <td>2059</td>\n",
       "      <td>306</td>\n",
       "      <td>1393</td>\n",
       "      <td>146</td>\n",
       "      <td>265</td>\n",
       "      <td>71</td>\n",
       "      <td>568</td>\n",
       "      <td>95</td>\n",
       "      <td>178</td>\n",
       "      <td>227</td>\n",
       "      <td>...</td>\n",
       "      <td>49</td>\n",
       "      <td>509</td>\n",
       "      <td>110</td>\n",
       "      <td>288</td>\n",
       "      <td>208</td>\n",
       "      <td>113</td>\n",
       "      <td>260</td>\n",
       "      <td>395</td>\n",
       "      <td>667</td>\n",
       "      <td>662</td>\n",
       "    </tr>\n",
       "    <tr>\n",
       "      <th>202010010412</th>\n",
       "      <td>2656</td>\n",
       "      <td>176</td>\n",
       "      <td>4998</td>\n",
       "      <td>136</td>\n",
       "      <td>372</td>\n",
       "      <td>359</td>\n",
       "      <td>2735</td>\n",
       "      <td>102</td>\n",
       "      <td>13</td>\n",
       "      <td>197</td>\n",
       "      <td>...</td>\n",
       "      <td>132</td>\n",
       "      <td>385</td>\n",
       "      <td>108</td>\n",
       "      <td>230</td>\n",
       "      <td>53</td>\n",
       "      <td>755</td>\n",
       "      <td>343</td>\n",
       "      <td>265</td>\n",
       "      <td>341</td>\n",
       "      <td>402</td>\n",
       "    </tr>\n",
       "    <tr>\n",
       "      <th>202010010412</th>\n",
       "      <td>3031</td>\n",
       "      <td>232</td>\n",
       "      <td>1982</td>\n",
       "      <td>183</td>\n",
       "      <td>266</td>\n",
       "      <td>349</td>\n",
       "      <td>779</td>\n",
       "      <td>95</td>\n",
       "      <td>189</td>\n",
       "      <td>114</td>\n",
       "      <td>...</td>\n",
       "      <td>284</td>\n",
       "      <td>475</td>\n",
       "      <td>22</td>\n",
       "      <td>335</td>\n",
       "      <td>185</td>\n",
       "      <td>274</td>\n",
       "      <td>172</td>\n",
       "      <td>1038</td>\n",
       "      <td>533</td>\n",
       "      <td>545</td>\n",
       "    </tr>\n",
       "    <tr>\n",
       "      <th>202010010412</th>\n",
       "      <td>82</td>\n",
       "      <td>291</td>\n",
       "      <td>5264</td>\n",
       "      <td>153</td>\n",
       "      <td>406</td>\n",
       "      <td>109</td>\n",
       "      <td>1082</td>\n",
       "      <td>35</td>\n",
       "      <td>151</td>\n",
       "      <td>53</td>\n",
       "      <td>...</td>\n",
       "      <td>248</td>\n",
       "      <td>569</td>\n",
       "      <td>128</td>\n",
       "      <td>119</td>\n",
       "      <td>328</td>\n",
       "      <td>39</td>\n",
       "      <td>328</td>\n",
       "      <td>771</td>\n",
       "      <td>103</td>\n",
       "      <td>1106</td>\n",
       "    </tr>\n",
       "  </tbody>\n",
       "</table>\n",
       "<p>43239 rows × 63 columns</p>\n",
       "</div>"
      ],
      "text/plain": [
       "              horse_id  preds_0  preds_1  preds_2  preds_3  preds_4  preds_5  \\\n",
       "202001010101      8763      252     2120      164      368      761     4019   \n",
       "202001010101     10421      336     4795      153      236      748     4438   \n",
       "202001010101     10170      288     5960      144      394      279      488   \n",
       "202001010101      9127      223     7311      174      255      346     5448   \n",
       "202001010101      8488      444     3240      140      290      748     3515   \n",
       "...                ...      ...      ...      ...      ...      ...      ...   \n",
       "202010010412      3815      404     2155       87      288      573     4102   \n",
       "202010010412      2059      306     1393      146      265       71      568   \n",
       "202010010412      2656      176     4998      136      372      359     2735   \n",
       "202010010412      3031      232     1982      183      266      349      779   \n",
       "202010010412        82      291     5264      153      406      109     1082   \n",
       "\n",
       "              preds_6  preds_7  preds_8  ...  preds_52  preds_53  preds_54  \\\n",
       "202001010101       95      167      229  ...        56       333        62   \n",
       "202001010101       35      151        6  ...       182       415        77   \n",
       "202001010101       74        3      197  ...       374       162       154   \n",
       "202001010101       95      161      155  ...        51       645        35   \n",
       "202001010101       45      188      202  ...       182       415       108   \n",
       "...               ...      ...      ...  ...       ...       ...       ...   \n",
       "202010010412       57      132      145  ...       144       658        61   \n",
       "202010010412       95      178      227  ...        49       509       110   \n",
       "202010010412      102       13      197  ...       132       385       108   \n",
       "202010010412       95      189      114  ...       284       475        22   \n",
       "202010010412       35      151       53  ...       248       569       128   \n",
       "\n",
       "              preds_55  preds_56  preds_57  preds_58  preds_59  preds_60  \\\n",
       "202001010101       370        72       483        87       820      1309   \n",
       "202001010101       330       178       615       246       667       925   \n",
       "202001010101       190        88       670       389       538       560   \n",
       "202001010101       106         9        50        19        89       605   \n",
       "202001010101       230       451       415       153       929       204   \n",
       "...                ...       ...       ...       ...       ...       ...   \n",
       "202010010412        61       444       524       232       191       630   \n",
       "202010010412       288       208       113       260       395       667   \n",
       "202010010412       230        53       755       343       265       341   \n",
       "202010010412       335       185       274       172      1038       533   \n",
       "202010010412       119       328        39       328       771       103   \n",
       "\n",
       "              preds_61  \n",
       "202001010101      3111  \n",
       "202001010101       304  \n",
       "202001010101       920  \n",
       "202001010101      2415  \n",
       "202001010101       314  \n",
       "...                ...  \n",
       "202010010412       213  \n",
       "202010010412       662  \n",
       "202010010412       402  \n",
       "202010010412       545  \n",
       "202010010412      1106  \n",
       "\n",
       "[43239 rows x 63 columns]"
      ]
     },
     "execution_count": 716,
     "metadata": {},
     "output_type": "execute_result"
    }
   ],
   "source": [
    "results_m[categorical_columns]"
   ]
  },
  {
   "cell_type": "code",
   "execution_count": 717,
   "id": "1497e31a-a995-426b-92f9-9b31338082f7",
   "metadata": {},
   "outputs": [],
   "source": [
    "results_d = pd.get_dummies(results_m)"
   ]
  },
  {
   "cell_type": "code",
   "execution_count": 718,
   "id": "7f6f0711-78cc-459e-b262-2add69873050",
   "metadata": {},
   "outputs": [],
   "source": [
    "for columns in categorical_columns:\n",
    "    results_d[columns] = results_d[columns].astype(\"category\")"
   ]
  },
  {
   "cell_type": "code",
   "execution_count": 719,
   "id": "d6f9db0b-5820-4330-8cae-d38c82a03ff8",
   "metadata": {},
   "outputs": [
    {
     "name": "stdout",
     "output_type": "stream",
     "text": [
      "<class 'pandas.core.frame.DataFrame'>\n",
      "Index: 43239 entries, 202001010101 to 202010010412\n",
      "Columns: 11652 entries, 枠番 to 性_牡\n",
      "dtypes: category(63), datetime64[ns](1), float64(5), int64(6), uint8(11577)\n",
      "memory usage: 488.5+ MB\n"
     ]
    }
   ],
   "source": [
    "results_d.info()"
   ]
  },
  {
   "cell_type": "code",
   "execution_count": 720,
   "id": "23c5205a-aac7-4e2b-9ab7-41e5fd3822b7",
   "metadata": {},
   "outputs": [],
   "source": [
    "def process_categorical(df, target_columns):\n",
    "    df2 = df.copy()\n",
    "    for column in target_columns:\n",
    "        df2[column] = LabelEncoder().fit_transform(df2[column].fillna('Na'))\n",
    "    \n",
    "    #target_columns以外にカテゴリ変数があれば、ダミー変数にする\n",
    "    df2 = pd.get_dummies(df2)\n",
    "    \n",
    "    for column in target_columns:\n",
    "        df2[column] = df2[column].astype('category')\n",
    "    \n",
    "    return df2"
   ]
  },
  {
   "cell_type": "code",
   "execution_count": 721,
   "id": "e210e59b-92d8-48ba-af14-b706ca8fc341",
   "metadata": {},
   "outputs": [
    {
     "name": "stdout",
     "output_type": "stream",
     "text": [
      "<class 'pandas.core.frame.DataFrame'>\n",
      "Index: 43239 entries, 202001010101 to 202010010412\n",
      "Columns: 11652 entries, 枠番 to 性_牡\n",
      "dtypes: category(63), datetime64[ns](1), float64(5), int64(6), uint8(11577)\n",
      "memory usage: 488.5+ MB\n"
     ]
    }
   ],
   "source": [
    "results_d = process_categorical(results_m, categorical_columns)\n",
    "results_d.info()"
   ]
  },
  {
   "cell_type": "markdown",
   "id": "8f39446c-d296-4172-ae6c-7fc8eec64b1c",
   "metadata": {
    "jp-MarkdownHeadingCollapsed": true,
    "tags": []
   },
   "source": [
    "# 9.2 実際に予測"
   ]
  },
  {
   "cell_type": "code",
   "execution_count": 722,
   "id": "57324615-f6d3-405d-8911-6c43c9870e51",
   "metadata": {},
   "outputs": [],
   "source": [
    "# 訓練データとテストデータに分ける\n",
    "train, test = split_date(results_d)\n",
    "X_train = train.drop([\"rank\"], axis=1)\n",
    "y_train = train[\"rank\"]\n",
    "X_test = test.drop([\"rank\"], axis = 1)\n",
    "y_test = test[\"rank\"]"
   ]
  },
  {
   "cell_type": "code",
   "execution_count": 590,
   "id": "ca440205-412a-4c4c-8550-f03ee609f3e3",
   "metadata": {},
   "outputs": [
    {
     "data": {
      "text/plain": [
       "LGBMClassifier(class_weight='balanced', n_estimators=80, num_leaves=4,\n",
       "               random_state=100)"
      ]
     },
     "execution_count": 590,
     "metadata": {},
     "output_type": "execute_result"
    }
   ],
   "source": [
    "# モデルの予測\n",
    "params = {\n",
    "    \"num_leaves\": 4,\n",
    "    \"n_estimators\": 80,\n",
    "    #'min_data_in_leaf': 15,\n",
    "    \"class_weight\": \"balanced\",\n",
    "    \"random_state\": 100,\n",
    "}\n",
    "\n",
    "lgb_clf = lgb.LGBMClassifier(**params)\n",
    "lgb_clf.fit(X_train.values, y_train.values)"
   ]
  },
  {
   "cell_type": "code",
   "execution_count": 728,
   "id": "6ad2cb89-01df-4bb4-993d-9cbeb566cd00",
   "metadata": {},
   "outputs": [],
   "source": [
    "# feature_importances\n",
    "me = ModelEvaluator(lgb_clf, return_tables)\n",
    "me.feature_importances(X_test)"
   ]
  },
  {
   "cell_type": "code",
   "execution_count": 725,
   "id": "a8fec389-d39a-4135-ab39-9d5511431ee9",
   "metadata": {},
   "outputs": [],
   "source": [
    "# 回収率 = (かけた額 + money) /かけた額\n",
    "def gain(return_func, X, n_samples=100, lower=50, min_threshold=0.5):\n",
    "    gain = {}\n",
    "    for i in tqdm(range(n_samples)):\n",
    "        threshold = 1 * i / n_samples + min_threshold * (1-(i/n_samples))\n",
    "        n_bets, money = return_func(X, threshold)\n",
    "        if n_bets > lower:\n",
    "            gain[n_bets] = (n_bets*100 + money) / (n_bets*100)\n",
    "    return pd.Series(gain)"
   ]
  },
  {
   "cell_type": "code",
   "execution_count": 628,
   "id": "00b7380b-2248-4c37-8893-8e41b386fc76",
   "metadata": {},
   "outputs": [
    {
     "data": {
      "application/vnd.jupyter.widget-view+json": {
       "model_id": "db03b68e0a6a446e9bb63af703bd282f",
       "version_major": 2,
       "version_minor": 0
      },
      "text/plain": [
       "  0%|          | 0/100 [00:00<?, ?it/s]"
      ]
     },
     "metadata": {},
     "output_type": "display_data"
    }
   ],
   "source": [
    "me = ModelEvaluator(lgb_clf, return_tables)\n",
    "gain_fukusho = gain(me.fukusho_return, X_test)"
   ]
  },
  {
   "cell_type": "code",
   "execution_count": 629,
   "id": "82bd210f-49e3-4e12-9651-f581882810f1",
   "metadata": {},
   "outputs": [
    {
     "data": {
      "text/plain": [
       "<AxesSubplot:>"
      ]
     },
     "execution_count": 629,
     "metadata": {},
     "output_type": "execute_result"
    },
    {
     "data": {
      "image/png": "[encoded data removed]",
      "text/plain": [
       "<Figure size 460.8x403.2 with 1 Axes>"
      ]
     },
     "metadata": {},
     "output_type": "display_data"
    }
   ],
   "source": [
    "gain_fukusho.plot()"
   ]
  },
  {
   "cell_type": "code",
   "execution_count": 630,
   "id": "e9a6ebd6-3667-4932-8c01-c71e20c9557a",
   "metadata": {},
   "outputs": [
    {
     "data": {
      "application/vnd.jupyter.widget-view+json": {
       "model_id": "62da1ff4e0764a4ea53e4196e46a1b58",
       "version_major": 2,
       "version_minor": 0
      },
      "text/plain": [
       "  0%|          | 0/100 [00:00<?, ?it/s]"
      ]
     },
     "metadata": {},
     "output_type": "display_data"
    }
   ],
   "source": [
    "gain_tansho = gain(me.tansho_return, X_test)"
   ]
  },
  {
   "cell_type": "code",
   "execution_count": 633,
   "id": "27baf8cd-e219-4452-a09a-1c7cf2bc01eb",
   "metadata": {},
   "outputs": [
    {
     "data": {
      "text/plain": [
       "<AxesSubplot:>"
      ]
     },
     "execution_count": 633,
     "metadata": {},
     "output_type": "execute_result"
    },
    {
     "data": {
      "image/png": "[encoded data removed]",
      "text/plain": [
       "<Figure size 460.8x403.2 with 1 Axes>"
      ]
     },
     "metadata": {},
     "output_type": "display_data"
    }
   ],
   "source": [
    "gain_fukusho.rename(\"baseline\").plot(legend=True)\n",
    "gain_tansho.rename(\"tansho\").plot(legend=True)"
   ]
  },
  {
   "cell_type": "markdown",
   "id": "21a1c36c-d288-4382-88f5-d1a75e3d3085",
   "metadata": {
    "jp-MarkdownHeadingCollapsed": true,
    "tags": []
   },
   "source": [
    "# 9.3 単勝と人気のカラムを削除して予測"
   ]
  },
  {
   "cell_type": "code",
   "execution_count": 726,
   "id": "514b66b1-edde-49ac-9a40-5d8aecc8ad00",
   "metadata": {},
   "outputs": [],
   "source": [
    "# 単勝と人気のカラムを削除\n",
    "X_train.drop([\"人気\"], axis =1, inplace=True)\n",
    "X_test.drop([\"人気\"], axis = 1, inplace=True)"
   ]
  },
  {
   "cell_type": "code",
   "execution_count": 727,
   "id": "509c9f3f-444b-4e95-bfcc-3c94dad8927d",
   "metadata": {},
   "outputs": [
    {
     "data": {
      "text/plain": [
       "LGBMClassifier(class_weight='balanced', n_estimators=80, num_leaves=4,\n",
       "               random_state=100)"
      ]
     },
     "execution_count": 727,
     "metadata": {},
     "output_type": "execute_result"
    }
   ],
   "source": [
    "# モデルの予測\n",
    "params = {\n",
    "    \"num_leaves\": 4,\n",
    "    \"n_estimators\": 80,\n",
    "    #'min_data_in_leaf': 15,\n",
    "    \"class_weight\": \"balanced\",\n",
    "    \"random_state\": 100,\n",
    "}\n",
    "\n",
    "lgb_clf = lgb.LGBMClassifier(**params)\n",
    "lgb_clf.fit(X_train.values, y_train.values)"
   ]
  },
  {
   "cell_type": "code",
   "execution_count": 729,
   "id": "00967670-2bdb-48b2-b421-b3002698f04e",
   "metadata": {},
   "outputs": [
    {
     "data": {
      "text/plain": [
       "0.7988363231160183"
      ]
     },
     "execution_count": 729,
     "metadata": {},
     "output_type": "execute_result"
    }
   ],
   "source": [
    "me = ModelEvaluator(lgb_clf, return_tables)\n",
    "me.score(y_test, X_test)"
   ]
  },
  {
   "cell_type": "code",
   "execution_count": 730,
   "id": "143f3648-cf4d-4418-810b-4718dbeff958",
   "metadata": {},
   "outputs": [
    {
     "data": {
      "application/vnd.jupyter.widget-view+json": {
       "model_id": "8865fc97d731457a8a23303752fc3010",
       "version_major": 2,
       "version_minor": 0
      },
      "text/plain": [
       "  0%|          | 0/100 [00:00<?, ?it/s]"
      ]
     },
     "metadata": {},
     "output_type": "display_data"
    }
   ],
   "source": [
    "gain_t2 = gain(me.tansho_return, X_test)"
   ]
  },
  {
   "cell_type": "code",
   "execution_count": 731,
   "id": "a690fe22-1d65-40ef-9b5b-a11710e15dd8",
   "metadata": {},
   "outputs": [
    {
     "data": {
      "text/plain": [
       "<AxesSubplot:>"
      ]
     },
     "execution_count": 731,
     "metadata": {},
     "output_type": "execute_result"
    },
    {
     "data": {
      "image/png": "[encoded data removed]",
      "text/plain": [
       "<Figure size 460.8x403.2 with 1 Axes>"
      ]
     },
     "metadata": {},
     "output_type": "display_data"
    }
   ],
   "source": [
    "gain_fukusho.rename(\"baseline\").plot(legend=True)\n",
    "gain_tansho.rename(\"tansho\").plot(legend=True)\n",
    "gain_t2.rename(\"tansho_without_odds\").plot(legend=True)"
   ]
  },
  {
   "cell_type": "code",
   "execution_count": 732,
   "id": "2328ed05-ec4d-4a60-94c6-3f26f9affa42",
   "metadata": {},
   "outputs": [
    {
     "data": {
      "text/html": [
       "<div>\n",
       "<style scoped>\n",
       "    .dataframe tbody tr th:only-of-type {\n",
       "        vertical-align: middle;\n",
       "    }\n",
       "\n",
       "    .dataframe tbody tr th {\n",
       "        vertical-align: top;\n",
       "    }\n",
       "\n",
       "    .dataframe thead th {\n",
       "        text-align: right;\n",
       "    }\n",
       "</style>\n",
       "<table border=\"1\" class=\"dataframe\">\n",
       "  <thead>\n",
       "    <tr style=\"text-align: right;\">\n",
       "      <th></th>\n",
       "      <th>horse_id</th>\n",
       "      <th>proba</th>\n",
       "    </tr>\n",
       "  </thead>\n",
       "  <tbody>\n",
       "    <tr>\n",
       "      <th>202001020703</th>\n",
       "      <td>6788</td>\n",
       "      <td>0.436472</td>\n",
       "    </tr>\n",
       "    <tr>\n",
       "      <th>202001020703</th>\n",
       "      <td>7634</td>\n",
       "      <td>0.726524</td>\n",
       "    </tr>\n",
       "    <tr>\n",
       "      <th>202001020703</th>\n",
       "      <td>7141</td>\n",
       "      <td>0.449380</td>\n",
       "    </tr>\n",
       "    <tr>\n",
       "      <th>202001020703</th>\n",
       "      <td>6728</td>\n",
       "      <td>0.636810</td>\n",
       "    </tr>\n",
       "    <tr>\n",
       "      <th>202001020703</th>\n",
       "      <td>5918</td>\n",
       "      <td>0.362333</td>\n",
       "    </tr>\n",
       "    <tr>\n",
       "      <th>...</th>\n",
       "      <td>...</td>\n",
       "      <td>...</td>\n",
       "    </tr>\n",
       "    <tr>\n",
       "      <th>202006050807</th>\n",
       "      <td>5083</td>\n",
       "      <td>0.515472</td>\n",
       "    </tr>\n",
       "    <tr>\n",
       "      <th>202006050807</th>\n",
       "      <td>3153</td>\n",
       "      <td>0.331562</td>\n",
       "    </tr>\n",
       "    <tr>\n",
       "      <th>202006050807</th>\n",
       "      <td>4927</td>\n",
       "      <td>0.232772</td>\n",
       "    </tr>\n",
       "    <tr>\n",
       "      <th>202006050807</th>\n",
       "      <td>7496</td>\n",
       "      <td>0.303890</td>\n",
       "    </tr>\n",
       "    <tr>\n",
       "      <th>202006050807</th>\n",
       "      <td>3121</td>\n",
       "      <td>0.230995</td>\n",
       "    </tr>\n",
       "  </tbody>\n",
       "</table>\n",
       "<p>12974 rows × 2 columns</p>\n",
       "</div>"
      ],
      "text/plain": [
       "             horse_id     proba\n",
       "202001020703     6788  0.436472\n",
       "202001020703     7634  0.726524\n",
       "202001020703     7141  0.449380\n",
       "202001020703     6728  0.636810\n",
       "202001020703     5918  0.362333\n",
       "...               ...       ...\n",
       "202006050807     5083  0.515472\n",
       "202006050807     3153  0.331562\n",
       "202006050807     4927  0.232772\n",
       "202006050807     7496  0.303890\n",
       "202006050807     3121  0.230995\n",
       "\n",
       "[12974 rows x 2 columns]"
      ]
     },
     "execution_count": 732,
     "metadata": {},
     "output_type": "execute_result"
    }
   ],
   "source": [
    "proba_table = X_test[[\"horse_id\"]].copy()\n",
    "proba_table[\"proba\"] = me.predict_proba(X_test)\n",
    "proba_table"
   ]
  },
  {
   "cell_type": "code",
   "execution_count": 733,
   "id": "1649a61a-819a-40de-be96-f88de7cf8ee4",
   "metadata": {},
   "outputs": [],
   "source": [
    "proba_table[\"R\"] = proba_table.index.map(lambda x: str(x)[-2:])"
   ]
  },
  {
   "cell_type": "code",
   "execution_count": 734,
   "id": "b3ba7c1e-39a0-41a0-8c96-6f6b23f09e43",
   "metadata": {},
   "outputs": [
    {
     "data": {
      "text/html": [
       "<div>\n",
       "<style scoped>\n",
       "    .dataframe tbody tr th:only-of-type {\n",
       "        vertical-align: middle;\n",
       "    }\n",
       "\n",
       "    .dataframe tbody tr th {\n",
       "        vertical-align: top;\n",
       "    }\n",
       "\n",
       "    .dataframe thead th {\n",
       "        text-align: right;\n",
       "    }\n",
       "</style>\n",
       "<table border=\"1\" class=\"dataframe\">\n",
       "  <thead>\n",
       "    <tr style=\"text-align: right;\">\n",
       "      <th></th>\n",
       "      <th>horse_id</th>\n",
       "      <th>proba</th>\n",
       "      <th>R</th>\n",
       "    </tr>\n",
       "  </thead>\n",
       "  <tbody>\n",
       "    <tr>\n",
       "      <th>202001020703</th>\n",
       "      <td>6788</td>\n",
       "      <td>0.436472</td>\n",
       "      <td>03</td>\n",
       "    </tr>\n",
       "    <tr>\n",
       "      <th>202001020703</th>\n",
       "      <td>7634</td>\n",
       "      <td>0.726524</td>\n",
       "      <td>03</td>\n",
       "    </tr>\n",
       "    <tr>\n",
       "      <th>202001020703</th>\n",
       "      <td>7141</td>\n",
       "      <td>0.449380</td>\n",
       "      <td>03</td>\n",
       "    </tr>\n",
       "    <tr>\n",
       "      <th>202001020703</th>\n",
       "      <td>6728</td>\n",
       "      <td>0.636810</td>\n",
       "      <td>03</td>\n",
       "    </tr>\n",
       "    <tr>\n",
       "      <th>202001020703</th>\n",
       "      <td>5918</td>\n",
       "      <td>0.362333</td>\n",
       "      <td>03</td>\n",
       "    </tr>\n",
       "    <tr>\n",
       "      <th>...</th>\n",
       "      <td>...</td>\n",
       "      <td>...</td>\n",
       "      <td>...</td>\n",
       "    </tr>\n",
       "    <tr>\n",
       "      <th>202006050807</th>\n",
       "      <td>5083</td>\n",
       "      <td>0.515472</td>\n",
       "      <td>07</td>\n",
       "    </tr>\n",
       "    <tr>\n",
       "      <th>202006050807</th>\n",
       "      <td>3153</td>\n",
       "      <td>0.331562</td>\n",
       "      <td>07</td>\n",
       "    </tr>\n",
       "    <tr>\n",
       "      <th>202006050807</th>\n",
       "      <td>4927</td>\n",
       "      <td>0.232772</td>\n",
       "      <td>07</td>\n",
       "    </tr>\n",
       "    <tr>\n",
       "      <th>202006050807</th>\n",
       "      <td>7496</td>\n",
       "      <td>0.303890</td>\n",
       "      <td>07</td>\n",
       "    </tr>\n",
       "    <tr>\n",
       "      <th>202006050807</th>\n",
       "      <td>3121</td>\n",
       "      <td>0.230995</td>\n",
       "      <td>07</td>\n",
       "    </tr>\n",
       "  </tbody>\n",
       "</table>\n",
       "<p>12974 rows × 3 columns</p>\n",
       "</div>"
      ],
      "text/plain": [
       "             horse_id     proba   R\n",
       "202001020703     6788  0.436472  03\n",
       "202001020703     7634  0.726524  03\n",
       "202001020703     7141  0.449380  03\n",
       "202001020703     6728  0.636810  03\n",
       "202001020703     5918  0.362333  03\n",
       "...               ...       ...  ..\n",
       "202006050807     5083  0.515472  07\n",
       "202006050807     3153  0.331562  07\n",
       "202006050807     4927  0.232772  07\n",
       "202006050807     7496  0.303890  07\n",
       "202006050807     3121  0.230995  07\n",
       "\n",
       "[12974 rows x 3 columns]"
      ]
     },
     "execution_count": 734,
     "metadata": {},
     "output_type": "execute_result"
    }
   ],
   "source": [
    "proba_table"
   ]
  },
  {
   "cell_type": "code",
   "execution_count": 735,
   "id": "db8bb911-6371-4bf6-89cf-586de099cefd",
   "metadata": {},
   "outputs": [
    {
     "data": {
      "text/plain": [
       "R\n",
       "01    0.43916\n",
       "02    0.43916\n",
       "03    0.43916\n",
       "04    0.43916\n",
       "05    0.43916\n",
       "06    0.43916\n",
       "07    0.43916\n",
       "08    0.43916\n",
       "09    0.43916\n",
       "10    0.43916\n",
       "11    0.43916\n",
       "12    0.43916\n",
       "Name: proba, dtype: float64"
      ]
     },
     "execution_count": 735,
     "metadata": {},
     "output_type": "execute_result"
    }
   ],
   "source": [
    "proba_table.groupby(\"R\")[\"proba\"].mean()"
   ]
  },
  {
   "cell_type": "markdown",
   "id": "621cbf27-f631-4f11-b6b6-d6e6fd8dd0be",
   "metadata": {
    "tags": []
   },
   "source": [
    "# 10 標準化\n",
    "データを『平均を0、分散を1に変換する』こと"
   ]
  },
  {
   "cell_type": "code",
   "execution_count": 655,
   "id": "d8feb16a-1a20-480c-b162-32ad7dfea0e6",
   "metadata": {},
   "outputs": [
    {
     "data": {
      "text/plain": [
       "202001020703    0.628011\n",
       "202001020703    0.665373\n",
       "202001020703    0.618387\n",
       "202001020703    0.661587\n",
       "202001020703    0.564308\n",
       "202001020703    0.592670\n",
       "202001020703    0.631712\n",
       "202001020703    0.764774\n",
       "202001020703    0.556424\n",
       "202001020703    0.488573\n",
       "202001020703    0.703919\n",
       "202001020703    0.472283\n",
       "202001020703    0.570916\n",
       "202001020703    0.437072\n",
       "Name: proba, dtype: float64"
      ]
     },
     "execution_count": 655,
     "metadata": {},
     "output_type": "execute_result"
    }
   ],
   "source": [
    "proba_table.loc[\"202001020703\"][\"proba\"]"
   ]
  },
  {
   "cell_type": "markdown",
   "id": "5a4a6be4-3e74-4bcf-8297-e0ef1ef03d82",
   "metadata": {},
   "source": [
    "レース内偏差値のようなもの求める"
   ]
  },
  {
   "cell_type": "code",
   "execution_count": 657,
   "id": "779b1b49-7838-46b2-8729-4f286877c9d0",
   "metadata": {},
   "outputs": [],
   "source": [
    "X = proba_table.loc[\"202001020703\"][\"proba\"]"
   ]
  },
  {
   "cell_type": "code",
   "execution_count": 658,
   "id": "9020b230-a99d-48ea-be8c-f3f8ab489158",
   "metadata": {},
   "outputs": [
    {
     "data": {
      "text/plain": [
       "14"
      ]
     },
     "execution_count": 658,
     "metadata": {},
     "output_type": "execute_result"
    }
   ],
   "source": [
    "X.count()"
   ]
  },
  {
   "cell_type": "code",
   "execution_count": 661,
   "id": "da233c61-6eb4-4c71-ac65-a4f588e6087f",
   "metadata": {},
   "outputs": [
    {
     "data": {
      "text/plain": [
       "0.5968577303450813"
      ]
     },
     "execution_count": 661,
     "metadata": {},
     "output_type": "execute_result"
    }
   ],
   "source": [
    "# 平均を求める\n",
    "X.mean()"
   ]
  },
  {
   "cell_type": "code",
   "execution_count": 660,
   "id": "7b9ad94f-3897-4f21-a167-822f16074600",
   "metadata": {},
   "outputs": [
    {
     "data": {
      "text/plain": [
       "0.008257829203722086"
      ]
     },
     "execution_count": 660,
     "metadata": {},
     "output_type": "execute_result"
    }
   ],
   "source": [
    "# 分散を求める\n",
    "X.var()"
   ]
  },
  {
   "cell_type": "code",
   "execution_count": 662,
   "id": "53455cc5-fc55-453c-afde-e464795c2d52",
   "metadata": {},
   "outputs": [
    {
     "data": {
      "text/plain": [
       "0.09087259875079003"
      ]
     },
     "execution_count": 662,
     "metadata": {},
     "output_type": "execute_result"
    }
   ],
   "source": [
    "# 標準偏差を求める\n",
    "X.std()"
   ]
  },
  {
   "cell_type": "code",
   "execution_count": 663,
   "id": "a292a340-70e7-44bc-ac9c-b3772599e4b1",
   "metadata": {},
   "outputs": [
    {
     "data": {
      "text/plain": [
       "202001020703    0.342823\n",
       "202001020703    0.753967\n",
       "202001020703    0.236922\n",
       "202001020703    0.712311\n",
       "202001020703   -0.358195\n",
       "202001020703   -0.046085\n",
       "202001020703    0.383556\n",
       "202001020703    1.847819\n",
       "202001020703   -0.444950\n",
       "202001020703   -1.191612\n",
       "202001020703    1.178142\n",
       "202001020703   -1.370871\n",
       "202001020703   -0.285479\n",
       "202001020703   -1.758348\n",
       "Name: proba, dtype: float64"
      ]
     },
     "execution_count": 663,
     "metadata": {},
     "output_type": "execute_result"
    }
   ],
   "source": [
    "X_std = (X - X.mean()) / X.std()\n",
    "X_std"
   ]
  },
  {
   "cell_type": "code",
   "execution_count": 664,
   "id": "da4118de-66dc-4f34-9136-271c63a7e311",
   "metadata": {},
   "outputs": [
    {
     "data": {
      "text/plain": [
       "2.886579864025407e-15"
      ]
     },
     "execution_count": 664,
     "metadata": {},
     "output_type": "execute_result"
    }
   ],
   "source": [
    "X_std.sum()"
   ]
  },
  {
   "cell_type": "code",
   "execution_count": 665,
   "id": "c16925e9-3a3d-4e80-8618-9affd4934b51",
   "metadata": {},
   "outputs": [
    {
     "data": {
      "text/plain": [
       "1.0"
      ]
     },
     "execution_count": 665,
     "metadata": {},
     "output_type": "execute_result"
    }
   ],
   "source": [
    "X_std.var()"
   ]
  },
  {
   "cell_type": "markdown",
   "id": "fa446ae1-e4aa-4275-b672-43032fa12b15",
   "metadata": {
    "tags": []
   },
   "source": [
    "# 10.1 transformとapply"
   ]
  },
  {
   "cell_type": "code",
   "execution_count": 666,
   "id": "738df2fa-4d27-4ae4-aa32-d14b94b0587f",
   "metadata": {},
   "outputs": [
    {
     "data": {
      "text/html": [
       "<div>\n",
       "<style scoped>\n",
       "    .dataframe tbody tr th:only-of-type {\n",
       "        vertical-align: middle;\n",
       "    }\n",
       "\n",
       "    .dataframe tbody tr th {\n",
       "        vertical-align: top;\n",
       "    }\n",
       "\n",
       "    .dataframe thead th {\n",
       "        text-align: right;\n",
       "    }\n",
       "</style>\n",
       "<table border=\"1\" class=\"dataframe\">\n",
       "  <thead>\n",
       "    <tr style=\"text-align: right;\">\n",
       "      <th></th>\n",
       "      <th>horse_id</th>\n",
       "      <th>proba</th>\n",
       "      <th>R</th>\n",
       "    </tr>\n",
       "  </thead>\n",
       "  <tbody>\n",
       "    <tr>\n",
       "      <th>202001020703</th>\n",
       "      <td>6788</td>\n",
       "      <td>0.628011</td>\n",
       "      <td>03</td>\n",
       "    </tr>\n",
       "    <tr>\n",
       "      <th>202001020703</th>\n",
       "      <td>7634</td>\n",
       "      <td>0.665373</td>\n",
       "      <td>03</td>\n",
       "    </tr>\n",
       "    <tr>\n",
       "      <th>202001020703</th>\n",
       "      <td>7141</td>\n",
       "      <td>0.618387</td>\n",
       "      <td>03</td>\n",
       "    </tr>\n",
       "    <tr>\n",
       "      <th>202001020703</th>\n",
       "      <td>6728</td>\n",
       "      <td>0.661587</td>\n",
       "      <td>03</td>\n",
       "    </tr>\n",
       "    <tr>\n",
       "      <th>202001020703</th>\n",
       "      <td>5918</td>\n",
       "      <td>0.564308</td>\n",
       "      <td>03</td>\n",
       "    </tr>\n",
       "    <tr>\n",
       "      <th>...</th>\n",
       "      <td>...</td>\n",
       "      <td>...</td>\n",
       "      <td>...</td>\n",
       "    </tr>\n",
       "    <tr>\n",
       "      <th>202006050807</th>\n",
       "      <td>5083</td>\n",
       "      <td>0.405981</td>\n",
       "      <td>07</td>\n",
       "    </tr>\n",
       "    <tr>\n",
       "      <th>202006050807</th>\n",
       "      <td>3153</td>\n",
       "      <td>0.375597</td>\n",
       "      <td>07</td>\n",
       "    </tr>\n",
       "    <tr>\n",
       "      <th>202006050807</th>\n",
       "      <td>4927</td>\n",
       "      <td>0.395016</td>\n",
       "      <td>07</td>\n",
       "    </tr>\n",
       "    <tr>\n",
       "      <th>202006050807</th>\n",
       "      <td>7496</td>\n",
       "      <td>0.617623</td>\n",
       "      <td>07</td>\n",
       "    </tr>\n",
       "    <tr>\n",
       "      <th>202006050807</th>\n",
       "      <td>3121</td>\n",
       "      <td>0.274096</td>\n",
       "      <td>07</td>\n",
       "    </tr>\n",
       "  </tbody>\n",
       "</table>\n",
       "<p>12974 rows × 3 columns</p>\n",
       "</div>"
      ],
      "text/plain": [
       "             horse_id     proba   R\n",
       "202001020703     6788  0.628011  03\n",
       "202001020703     7634  0.665373  03\n",
       "202001020703     7141  0.618387  03\n",
       "202001020703     6728  0.661587  03\n",
       "202001020703     5918  0.564308  03\n",
       "...               ...       ...  ..\n",
       "202006050807     5083  0.405981  07\n",
       "202006050807     3153  0.375597  07\n",
       "202006050807     4927  0.395016  07\n",
       "202006050807     7496  0.617623  07\n",
       "202006050807     3121  0.274096  07\n",
       "\n",
       "[12974 rows x 3 columns]"
      ]
     },
     "execution_count": 666,
     "metadata": {},
     "output_type": "execute_result"
    }
   ],
   "source": [
    "proba_table"
   ]
  },
  {
   "cell_type": "code",
   "execution_count": 667,
   "id": "17b8f5e6-618d-45bd-9bd3-8b75656118d0",
   "metadata": {},
   "outputs": [
    {
     "data": {
      "text/plain": [
       "202001020701    7.952840\n",
       "202001020703    8.356008\n",
       "202001020704    7.167003\n",
       "202001020711    9.584622\n",
       "202001020712    6.588295\n",
       "                  ...   \n",
       "202010020808    4.774733\n",
       "202010020809    5.356575\n",
       "202010020810    3.896649\n",
       "202010020811    6.731177\n",
       "202010020812    8.549154\n",
       "Name: proba, Length: 936, dtype: float64"
      ]
     },
     "execution_count": 667,
     "metadata": {},
     "output_type": "execute_result"
    }
   ],
   "source": [
    "# apply\n",
    "proba_table.groupby(level=0)[\"proba\"].apply(np.sum)"
   ]
  },
  {
   "cell_type": "code",
   "execution_count": 671,
   "id": "4165efda-4536-4b5d-b587-600987d05940",
   "metadata": {},
   "outputs": [
    {
     "data": {
      "text/plain": [
       "202001020701    7.95284\n",
       "202001020701    7.95284\n",
       "202001020701    7.95284\n",
       "202001020701    7.95284\n",
       "202001020701    7.95284\n",
       "202001020701    7.95284\n",
       "202001020701    7.95284\n",
       "202001020701    7.95284\n",
       "202001020701    7.95284\n",
       "202001020701    7.95284\n",
       "202001020701    7.95284\n",
       "202001020701    7.95284\n",
       "202001020701    7.95284\n",
       "202001020701    7.95284\n",
       "Name: proba, dtype: float64"
      ]
     },
     "execution_count": 671,
     "metadata": {},
     "output_type": "execute_result"
    }
   ],
   "source": [
    "# transform\n",
    "# データの数だけ表示\n",
    "proba_table.groupby(level=0)[\"proba\"].transform(np.sum)[\"202001020701\"]"
   ]
  },
  {
   "cell_type": "code",
   "execution_count": 673,
   "id": "b267f3cc-08ea-424e-886f-cead5664fb82",
   "metadata": {},
   "outputs": [
    {
     "data": {
      "text/plain": [
       "202001020703    0.342823\n",
       "202001020703    0.753967\n",
       "202001020703    0.236922\n",
       "202001020703    0.712311\n",
       "202001020703   -0.358195\n",
       "                  ...   \n",
       "202006050807   -0.813223\n",
       "202006050807   -0.998152\n",
       "202006050807   -0.879959\n",
       "202006050807    0.474916\n",
       "202006050807   -1.615932\n",
       "Name: proba, Length: 12974, dtype: float64"
      ]
     },
     "execution_count": 673,
     "metadata": {},
     "output_type": "execute_result"
    }
   ],
   "source": [
    "standard_scaler = lambda x: (x - x.mean()) / x.std()\n",
    "proba_table.groupby(level=0)[\"proba\"].transform(standard_scaler)"
   ]
  },
  {
   "cell_type": "code",
   "execution_count": 674,
   "id": "e0e827f8-cf3f-464c-b0b3-a6a5a3df5e8f",
   "metadata": {},
   "outputs": [
    {
     "data": {
      "text/plain": [
       "<AxesSubplot:>"
      ]
     },
     "execution_count": 674,
     "metadata": {},
     "output_type": "execute_result"
    },
    {
     "data": {
      "image/png": "[encoded data removed]",
      "text/plain": [
       "<Figure size 460.8x403.2 with 1 Axes>"
      ]
     },
     "metadata": {},
     "output_type": "display_data"
    }
   ],
   "source": [
    "proba_std = proba_table.groupby(level=0)[\"proba\"].transform(standard_scaler)\n",
    "proba_std.hist()"
   ]
  },
  {
   "cell_type": "markdown",
   "id": "92dd4e5c-12fc-465b-be93-a11c815022b4",
   "metadata": {
    "tags": []
   },
   "source": [
    "# 10.2 MinMaxスケーリング\n",
    "データを0から1の値に正規化する"
   ]
  },
  {
   "cell_type": "code",
   "execution_count": 677,
   "id": "07429a98-ccae-4cf5-8d80-ff8dad93eb80",
   "metadata": {},
   "outputs": [],
   "source": [
    "proba_minmax = (proba_std - proba_std.min()) / (proba_std.max() - proba_std.min())"
   ]
  },
  {
   "cell_type": "code",
   "execution_count": 679,
   "id": "3237309c-a22a-4130-90c1-3434783c29cc",
   "metadata": {},
   "outputs": [
    {
     "data": {
      "text/plain": [
       "<AxesSubplot:>"
      ]
     },
     "execution_count": 679,
     "metadata": {},
     "output_type": "execute_result"
    },
    {
     "data": {
      "image/png": "[encoded data removed]",
      "text/plain": [
       "<Figure size 460.8x403.2 with 1 Axes>"
      ]
     },
     "metadata": {},
     "output_type": "display_data"
    }
   ],
   "source": [
    "proba_minmax.hist()"
   ]
  },
  {
   "cell_type": "markdown",
   "id": "43906421-d3e6-451e-8ad5-eafdc64427a5",
   "metadata": {
    "tags": []
   },
   "source": [
    "# 10.3 実装"
   ]
  },
  {
   "cell_type": "code",
   "execution_count": 736,
   "id": "280dcfa2-9150-4550-b25e-be95f2d4b1b1",
   "metadata": {},
   "outputs": [
    {
     "data": {
      "application/vnd.jupyter.widget-view+json": {
       "model_id": "eafa50cbd86b4457a97297e02b6e8dad",
       "version_major": 2,
       "version_minor": 0
      },
      "text/plain": [
       "  0%|          | 0/100 [00:00<?, ?it/s]"
      ]
     },
     "metadata": {},
     "output_type": "display_data"
    }
   ],
   "source": [
    "me = ModelEvaluator(lgb_clf, return_tables, std=True)\n",
    "gain_std = gain(me.tansho_return, X_test)"
   ]
  },
  {
   "cell_type": "code",
   "execution_count": 1,
   "id": "e7217f28-e02c-49e4-b5e1-384732ae7399",
   "metadata": {},
   "outputs": [
    {
     "ename": "NameError",
     "evalue": "name 'gain_std' is not defined",
     "output_type": "error",
     "traceback": [
      "\u001b[0;31m---------------------------------------------------------------------------\u001b[0m",
      "\u001b[0;31mNameError\u001b[0m                                 Traceback (most recent call last)",
      "\u001b[0;32m<ipython-input-1-be6b51d306d6>\u001b[0m in \u001b[0;36m<module>\u001b[0;34m\u001b[0m\n\u001b[0;32m----> 1\u001b[0;31m \u001b[0mgain_std\u001b[0m\u001b[0;34m\u001b[0m\u001b[0;34m\u001b[0m\u001b[0m\n\u001b[0m",
      "\u001b[0;31mNameError\u001b[0m: name 'gain_std' is not defined"
     ]
    }
   ],
   "source": [
    "gain_std"
   ]
  },
  {
   "cell_type": "code",
   "execution_count": 738,
   "id": "5d993a35-ebe1-45ca-b52d-0d814495d193",
   "metadata": {},
   "outputs": [
    {
     "data": {
      "text/plain": [
       "<AxesSubplot:>"
      ]
     },
     "execution_count": 738,
     "metadata": {},
     "output_type": "execute_result"
    },
    {
     "data": {
      "image/png": "[encoded data removed]",
      "text/plain": [
       "<Figure size 460.8x403.2 with 1 Axes>"
      ]
     },
     "metadata": {},
     "output_type": "display_data"
    }
   ],
   "source": [
    "gain_fukusho.rename(\"baseline\").plot(legend=True)\n",
    "gain_std.rename(\"std_tansho\").plot(legend=True)"
   ]
  },
  {
   "cell_type": "code",
   "execution_count": 739,
   "id": "4fefb528-fa09-40f2-9196-0ed64c7aa4bb",
   "metadata": {},
   "outputs": [
    {
     "data": {
      "text/plain": [
       "0.9296875"
      ]
     },
     "execution_count": 739,
     "metadata": {},
     "output_type": "execute_result"
    }
   ],
   "source": [
    "gain_std.max()"
   ]
  },
  {
   "cell_type": "markdown",
   "id": "55be39a9-713f-43ab-bee9-bb55ba8dbf74",
   "metadata": {
    "tags": []
   },
   "source": [
    "# 11 2021年のデータを加える\n",
    "\n",
    "- レース結果データ：scrape_race_results関数 \n",
    "- レース情報データ：scrape_race_info関数\n",
    "- 馬の過去成績データ：scrape_horse_results関数\n",
    "- 血統データ：scrape_peds関数\n",
    "- 払い戻しデータ：scrape_return_tables関数  "
   ]
  },
  {
   "cell_type": "code",
   "execution_count": 32,
   "id": "8f821f95-58b7-4975-80d2-3de4363ae05a",
   "metadata": {},
   "outputs": [],
   "source": [
    "# 2021ver\n",
    "# race_idを取得する\n",
    "race_id_list = []\n",
    "for place in range(1, 11, 1):\n",
    "    for kai in range(1, 6, 1):\n",
    "        for day in range(1, 9, 1):\n",
    "            for r in range(1, 13, 1):\n",
    "                race_id = \"2021\" + str(place).zfill(2) + str(kai).zfill(2) + str(day).zfill(2) + str(r).zfill(2)\n",
    "                \n",
    "                #取得したrace_idをrace_id_listにappendする\n",
    "                race_id_list.append(race_id)"
   ]
  },
  {
   "cell_type": "code",
   "execution_count": 741,
   "id": "d0dbc841-2a16-4229-ad5f-724745462592",
   "metadata": {},
   "outputs": [
    {
     "data": {
      "application/vnd.jupyter.widget-view+json": {
       "model_id": "3893a15a0f1c46f68824bb119358b615",
       "version_major": 2,
       "version_minor": 0
      },
      "text/plain": [
       "  0%|          | 0/4800 [00:00<?, ?it/s]"
      ]
     },
     "metadata": {},
     "output_type": "display_data"
    }
   ],
   "source": [
    "results_2021 = scrape_race_results_hj(race_id_list)"
   ]
  },
  {
   "cell_type": "code",
   "execution_count": 744,
   "id": "86556ba2-ed6b-41c3-bfa9-3d17132bc0d2",
   "metadata": {},
   "outputs": [],
   "source": [
    "for key in results_2021.keys():\n",
    "    results_2021[key].index = [key]*len(results_2021[key])"
   ]
  },
  {
   "cell_type": "code",
   "execution_count": 745,
   "id": "0826ceaf-6e75-4c8b-b71f-b4ae413285a0",
   "metadata": {},
   "outputs": [],
   "source": [
    "results_2021 = pd.concat([results_2021[key] for key in results_2021.keys()])"
   ]
  },
  {
   "cell_type": "code",
   "execution_count": 748,
   "id": "7b7486ed-0aef-4579-b91f-f77048ed420e",
   "metadata": {},
   "outputs": [],
   "source": [
    "results_2021.to_pickle('results_2021.pickle')"
   ]
  },
  {
   "cell_type": "code",
   "execution_count": 56,
   "id": "78dcb0d4-0cdc-49c1-89e6-62771b02b18d",
   "metadata": {},
   "outputs": [
    {
     "data": {
      "application/vnd.jupyter.widget-view+json": {
       "model_id": "f286a3f7f54b410b871c2d1ad95805e4",
       "version_major": 2,
       "version_minor": 0
      },
      "text/plain": [
       "  0%|          | 0/4800 [00:00<?, ?it/s]"
      ]
     },
     "metadata": {},
     "output_type": "display_data"
    },
    {
     "name": "stdout",
     "output_type": "stream",
     "text": [
      "'NoneType' object has no attribute 'find_all'\n"
     ]
    }
   ],
   "source": [
    "race_info_2021 = scrape_race_info(race_id_list)"
   ]
  },
  {
   "cell_type": "code",
   "execution_count": 7,
   "id": "a16f811a-f154-4c06-9239-02508d758a28",
   "metadata": {},
   "outputs": [
    {
     "data": {
      "text/plain": [
       "11170"
      ]
     },
     "execution_count": 7,
     "metadata": {},
     "output_type": "execute_result"
    }
   ],
   "source": [
    "# # horse_id_listの長さを確認\n",
    "horse_id_list = results_2021[\"horse_id\"].unique()\n",
    "len(horse_id_list)"
   ]
  },
  {
   "cell_type": "code",
   "execution_count": 5,
   "id": "3a31c28f-f09a-460e-b5af-764035121ff2",
   "metadata": {},
   "outputs": [],
   "source": [
    "# データの読み込み\n",
    "results_2021 = pd.read_pickle(\"results_2021.pickle\")"
   ]
  },
  {
   "cell_type": "code",
   "execution_count": 34,
   "id": "4ea283ca-97f4-4eff-a2e5-f37822f4663b",
   "metadata": {},
   "outputs": [
    {
     "data": {
      "application/vnd.jupyter.widget-view+json": {
       "model_id": "d80478c5dd0646198491a970364a2b52",
       "version_major": 2,
       "version_minor": 0
      },
      "text/plain": [
       "  0%|          | 0/4800 [00:00<?, ?it/s]"
      ]
     },
     "metadata": {},
     "output_type": "display_data"
    }
   ],
   "source": [
    "return_tables_2021 = scrape_return_tables(race_id_list)"
   ]
  },
  {
   "cell_type": "code",
   "execution_count": 36,
   "id": "ab87e035-205c-478e-b1a4-f994d9e54843",
   "metadata": {},
   "outputs": [],
   "source": [
    "for key in return_tables_2021.keys():\n",
    "    return_tables_2021[key].index = [key]*len(return_tables_2021[key])"
   ]
  },
  {
   "cell_type": "code",
   "execution_count": 38,
   "id": "d1ab7739-475c-4933-be51-a9c54013e2ec",
   "metadata": {},
   "outputs": [],
   "source": [
    "return_tables_2021 = pd.concat([return_tables_2021[key] for key in return_tables_2021.keys()])"
   ]
  },
  {
   "cell_type": "code",
   "execution_count": 39,
   "id": "5a2ca25d-d221-4c4e-906a-97f79d61d568",
   "metadata": {},
   "outputs": [],
   "source": [
    "return_tables_2021.to_pickle(\"return_tables_2021.pickle\")"
   ]
  },
  {
   "cell_type": "code",
   "execution_count": 15,
   "id": "3b8e3929-04a7-45d2-b6e1-b94e5b90803c",
   "metadata": {},
   "outputs": [
    {
     "data": {
      "application/vnd.jupyter.widget-view+json": {
       "model_id": "6728b9d4828e43e28c916b3f5d7ec622",
       "version_major": 2,
       "version_minor": 0
      },
      "text/plain": [
       "  0%|          | 0/11170 [00:00<?, ?it/s]"
      ]
     },
     "metadata": {},
     "output_type": "display_data"
    }
   ],
   "source": [
    "horse_results_2021 = scrape_horse_results(horse_id_list)"
   ]
  },
  {
   "cell_type": "code",
   "execution_count": 16,
   "id": "20cff6d0-8f8a-4d1b-8691-aa90ac006c22",
   "metadata": {},
   "outputs": [],
   "source": [
    "for key in horse_results_2021.keys():\n",
    "    horse_results_2021[key].index = [key]*len(horse_results_2021[key])"
   ]
  },
  {
   "cell_type": "code",
   "execution_count": 17,
   "id": "57c80d22-e483-43ea-9db7-e2c40d5a3d1b",
   "metadata": {},
   "outputs": [],
   "source": [
    "horse_results_2021 = pd.concat([horse_results_2021[key] for key in horse_results_2021.keys()])"
   ]
  },
  {
   "cell_type": "code",
   "execution_count": 18,
   "id": "ad0c6316-d5a1-40ee-94f8-a85f6d9b6a2c",
   "metadata": {},
   "outputs": [],
   "source": [
    "horse_results_2021.to_pickle(\"horse_results_2021.pickle\")"
   ]
  },
  {
   "cell_type": "code",
   "execution_count": 20,
   "id": "b8ae418a-8406-49ac-acd4-5b4393042491",
   "metadata": {},
   "outputs": [
    {
     "data": {
      "application/vnd.jupyter.widget-view+json": {
       "model_id": "beb048428124486097f58560dcc1f2da",
       "version_major": 2,
       "version_minor": 0
      },
      "text/plain": [
       "  0%|          | 0/11170 [00:00<?, ?it/s]"
      ]
     },
     "metadata": {},
     "output_type": "display_data"
    }
   ],
   "source": [
    "peds_2021 = scrape_peds(horse_id_list)"
   ]
  },
  {
   "cell_type": "code",
   "execution_count": 23,
   "id": "cb7afbb8-e65d-465c-b837-0551293068b5",
   "metadata": {},
   "outputs": [],
   "source": [
    "peds_2021.to_pickle(\"peds_2021.pickle\")"
   ]
  },
  {
   "cell_type": "code",
   "execution_count": 58,
   "id": "fcce79a8-38be-4fa6-b6ab-257c7ac8754f",
   "metadata": {},
   "outputs": [],
   "source": [
    "peds = pd.read_pickle(\"peds.pickle\")"
   ]
  },
  {
   "cell_type": "code",
   "execution_count": null,
   "id": "3adbd1bc-4a1d-4774-b5ed-6ca4bd3f913c",
   "metadata": {},
   "outputs": [],
   "source": []
  },
  {
   "cell_type": "code",
   "execution_count": 63,
   "id": "f0e7fd64-603f-4725-8bf1-a65bf41f360f",
   "metadata": {},
   "outputs": [],
   "source": [
    "def scrape_peds(horse_id_list, pre_peds = {}):\n",
    "    peds = pre_peds\n",
    "    for horse_id in tqdm(horse_id_list):\n",
    "        try:\n",
    "            url = \"https://db.netkeiba.com/horse/ped/\" + horse_id\n",
    "            df = pd.read_html(url)[0]\n",
    "\n",
    "            #重複を削除して1列のSeries型データに直す\n",
    "            generations = {}\n",
    "            for i in reversed(range(5)):\n",
    "                generations[i] = df[i]\n",
    "                df.drop([i], axis=1, inplace=True)\n",
    "                df = df.drop_duplicates()\n",
    "            ped = pd.concat([generations[i] for i in range(5)]).rename(horse_id)\n",
    "\n",
    "            peds[horse_id] = ped.reset_index(drop=True)\n",
    "            time.sleep(1)\n",
    "        except IndexError:\n",
    "            continue\n",
    "        except Exception as e:\n",
    "            print(e)\n",
    "            break\n",
    "        except:\n",
    "            break\n",
    "    return peds"
   ]
  },
  {
   "cell_type": "code",
   "execution_count": 70,
   "id": "b39aaa42-e012-411e-9b8e-4ad8bbc78403",
   "metadata": {},
   "outputs": [],
   "source": [
    "import ssl\n",
    "ssl._create_default_https_context = ssl._create_unverified_context"
   ]
  },
  {
   "cell_type": "code",
   "execution_count": 72,
   "id": "94729d09-df77-4398-a7be-fbbf161edf31",
   "metadata": {},
   "outputs": [
    {
     "data": {
      "application/vnd.jupyter.widget-view+json": {
       "model_id": "c4671c75f06043dea0397bba56110570",
       "version_major": 2,
       "version_minor": 0
      },
      "text/plain": [
       "  0%|          | 0/11170 [00:00<?, ?it/s]"
      ]
     },
     "metadata": {},
     "output_type": "display_data"
    }
   ],
   "source": [
    "peds_2021 = scrape_peds(horse_id_list)"
   ]
  },
  {
   "cell_type": "code",
   "execution_count": 75,
   "id": "32c0fbfd-8ae3-41c4-bd27-3bd63faa7974",
   "metadata": {},
   "outputs": [],
   "source": [
    "peds_2021 = pd.concat([peds_2021[horse_id] for horse_id in peds_2021], axis = 1).T"
   ]
  },
  {
   "cell_type": "code",
   "execution_count": 81,
   "id": "7baee47d-a592-4d63-9996-475d8b620cbb",
   "metadata": {},
   "outputs": [],
   "source": [
    "peds_2021 = peds_2021.add_prefix(\"preds_\")"
   ]
  },
  {
   "cell_type": "code",
   "execution_count": 83,
   "id": "2d0048dc-a91c-4cd4-8bbb-b09f7190bc44",
   "metadata": {},
   "outputs": [],
   "source": [
    "peds_2021.to_pickle(\"peds_2021.pickle\")"
   ]
  },
  {
   "cell_type": "code",
   "execution_count": 84,
   "id": "036d0740-2f53-40bf-853f-860a12bad35e",
   "metadata": {},
   "outputs": [
    {
     "data": {
      "text/html": [
       "<div>\n",
       "<style scoped>\n",
       "    .dataframe tbody tr th:only-of-type {\n",
       "        vertical-align: middle;\n",
       "    }\n",
       "\n",
       "    .dataframe tbody tr th {\n",
       "        vertical-align: top;\n",
       "    }\n",
       "\n",
       "    .dataframe thead th {\n",
       "        text-align: right;\n",
       "    }\n",
       "</style>\n",
       "<table border=\"1\" class=\"dataframe\">\n",
       "  <thead>\n",
       "    <tr style=\"text-align: right;\">\n",
       "      <th></th>\n",
       "      <th>preds_0</th>\n",
       "      <th>preds_1</th>\n",
       "      <th>preds_2</th>\n",
       "      <th>preds_3</th>\n",
       "      <th>preds_4</th>\n",
       "      <th>preds_5</th>\n",
       "      <th>preds_6</th>\n",
       "      <th>preds_7</th>\n",
       "      <th>preds_8</th>\n",
       "      <th>preds_9</th>\n",
       "      <th>...</th>\n",
       "      <th>preds_52</th>\n",
       "      <th>preds_53</th>\n",
       "      <th>preds_54</th>\n",
       "      <th>preds_55</th>\n",
       "      <th>preds_56</th>\n",
       "      <th>preds_57</th>\n",
       "      <th>preds_58</th>\n",
       "      <th>preds_59</th>\n",
       "      <th>preds_60</th>\n",
       "      <th>preds_61</th>\n",
       "    </tr>\n",
       "  </thead>\n",
       "  <tbody>\n",
       "    <tr>\n",
       "      <th>2018105875</th>\n",
       "      <td>ダイワメジャー 2001 栗毛 [血統][産駒] Halo系</td>\n",
       "      <td>カシュカシュ 2009 鹿毛 [血統][産駒] FNo.[1-k]</td>\n",
       "      <td>サンデーサイレンス Sunday Silence(米) 1986 青鹿毛 [血統][産駒]</td>\n",
       "      <td>スカーレットブーケ 1988 栗毛 [血統][産駒]</td>\n",
       "      <td>アフリート Afleet(加) 1984 栗毛 [血統][産駒]</td>\n",
       "      <td>スリーソウツ Three Thoughts(米) 1992 鹿毛 [血統][産駒]</td>\n",
       "      <td>Halo 1969 黒鹿毛 [血統][産駒]</td>\n",
       "      <td>Wishing Well 1975 鹿毛 [血統][産駒]</td>\n",
       "      <td>ノーザンテースト Northern Taste(加) 1971 栗毛 [血統][産駒]</td>\n",
       "      <td>スカーレットインク Scarlet Ink(米) 1971 栗毛 [血統][産駒]</td>\n",
       "      <td>...</td>\n",
       "      <td>Green Ticket</td>\n",
       "      <td>Ways to Learn</td>\n",
       "      <td>Turn-to</td>\n",
       "      <td>Nothirdchance</td>\n",
       "      <td>Cosmic Bomb</td>\n",
       "      <td>Almahmoud</td>\n",
       "      <td>Bold Ruler</td>\n",
       "      <td>Somethingroyal</td>\n",
       "      <td>Lyphard</td>\n",
       "      <td>Three Roses</td>\n",
       "    </tr>\n",
       "    <tr>\n",
       "      <th>2018105258</th>\n",
       "      <td>エピファネイア 2010 鹿毛 [血統][産駒] Roberto系</td>\n",
       "      <td>ペルレンケッテ 2008 鹿毛 [血統][産駒] FNo.[4-n]</td>\n",
       "      <td>シンボリクリスエス 1999 黒鹿毛 [血統][産駒]</td>\n",
       "      <td>シーザリオ 2002 青毛 [血統][産駒]</td>\n",
       "      <td>ディープインパクト 2002 鹿毛 [血統][産駒]</td>\n",
       "      <td>プンティラ Puntilla(独) 1997 黒鹿毛 [血統][産駒]</td>\n",
       "      <td>Kris S. 1977 黒鹿毛 [血統][産駒]</td>\n",
       "      <td>Tee Kay 1991 黒鹿毛 [血統][産駒]</td>\n",
       "      <td>スペシャルウィーク 1995 黒鹿毛 [血統][産駒]</td>\n",
       "      <td>キロフプリミエール Kirov Premiere(英) 1990 鹿毛 [血統][産駒]</td>\n",
       "      <td>...</td>\n",
       "      <td>Busted</td>\n",
       "      <td>Highclere</td>\n",
       "      <td>Literat</td>\n",
       "      <td>Surama</td>\n",
       "      <td>Aggressor</td>\n",
       "      <td>Raven Locks</td>\n",
       "      <td>イルドブルボン</td>\n",
       "      <td>Liranga</td>\n",
       "      <td>Abary</td>\n",
       "      <td>Pedra</td>\n",
       "    </tr>\n",
       "    <tr>\n",
       "      <th>2018101134</th>\n",
       "      <td>ミッキーアイル 2011 鹿毛 [血統][産駒] Halo系</td>\n",
       "      <td>ザッハトルテ 2007 芦毛 [血統][産駒] FNo.[7-a]</td>\n",
       "      <td>ディープインパクト 2002 鹿毛 [血統][産駒]</td>\n",
       "      <td>スターアイル 2004 鹿毛 [血統][産駒]</td>\n",
       "      <td>クロフネ 1998 芦毛 [血統][産駒]</td>\n",
       "      <td>パフェ Parfait(米) 1996 鹿毛 [血統][産駒]</td>\n",
       "      <td>サンデーサイレンス Sunday Silence(米) 1986 青鹿毛 [血統][産駒]</td>\n",
       "      <td>ウインドインハーヘア Wind in Her Hair(愛) 1991 鹿毛 [血統][産駒]</td>\n",
       "      <td>ロックオブジブラルタル 1999 鹿毛 [血統][産駒]</td>\n",
       "      <td>アイルドフランス Isle de France(米) 1995 鹿毛 [血統][産駒]</td>\n",
       "      <td>...</td>\n",
       "      <td>Icecapade</td>\n",
       "      <td>コレラ</td>\n",
       "      <td>Raise a Native</td>\n",
       "      <td>Gold Digger</td>\n",
       "      <td>Nureyev</td>\n",
       "      <td>Pasadoble</td>\n",
       "      <td>Prince John</td>\n",
       "      <td>Prayer Bell</td>\n",
       "      <td>Nashua</td>\n",
       "      <td>Cream Pie</td>\n",
       "    </tr>\n",
       "    <tr>\n",
       "      <th>2018102791</th>\n",
       "      <td>Kingman (英) 2011 鹿毛 [血統][産駒] Danzig系</td>\n",
       "      <td>ドゥケシーナ Duchessina(米) 2013 鹿毛 [血統][産駒] FNo.[2-d]</td>\n",
       "      <td>Invincible Spirit (愛) 1997 鹿毛 [血統][産駒]</td>\n",
       "      <td>Zenda 1999 鹿毛 [血統][産駒]</td>\n",
       "      <td>Henrythenavigator 2005 黒鹿毛 [血統][産駒]</td>\n",
       "      <td>Dreamlike 1997 鹿毛 [血統][産駒]</td>\n",
       "      <td>Green Desert 1983 鹿毛 [血統][産駒]</td>\n",
       "      <td>Rafha 1987 鹿毛 [血統][産駒]</td>\n",
       "      <td>Zamindar 1994 鹿毛 [血統][産駒]</td>\n",
       "      <td>Hope 1991 鹿毛 [血統][産駒]</td>\n",
       "      <td>...</td>\n",
       "      <td>Irish River</td>\n",
       "      <td>Luv Luvin'</td>\n",
       "      <td>Northern Dancer</td>\n",
       "      <td>South Ocean</td>\n",
       "      <td>Secretariat</td>\n",
       "      <td>Crimson Saint</td>\n",
       "      <td>Exclusive Native</td>\n",
       "      <td>Won't Tell You</td>\n",
       "      <td>Nijinsky</td>\n",
       "      <td>La Dame Du Lac</td>\n",
       "    </tr>\n",
       "    <tr>\n",
       "      <th>2018101539</th>\n",
       "      <td>カレンブラックヒル 2009 黒鹿毛 [血統][産駒] Halo系</td>\n",
       "      <td>ヒシシャトル 2005 鹿毛 [血統][産駒] FNo.[7-f]</td>\n",
       "      <td>ダイワメジャー 2001 栗毛 [血統][産駒]</td>\n",
       "      <td>チャールストンハーバー Charleston Harbor(米) 1998 鹿毛 [血統][産駒]</td>\n",
       "      <td>ボストンハーバー Boston Harbor(米) 1994 鹿毛 [血統][産駒]</td>\n",
       "      <td>ヒシレイホウ 1995 黒鹿毛 [血統][産駒]</td>\n",
       "      <td>サンデーサイレンス Sunday Silence(米) 1986 青鹿毛 [血統][産駒]</td>\n",
       "      <td>スカーレットブーケ 1988 栗毛 [血統][産駒]</td>\n",
       "      <td>Grindstone 1993 黒鹿毛 [血統][産駒]</td>\n",
       "      <td>Penny's Valentine 1989 栗毛 [血統][産駒]</td>\n",
       "      <td>...</td>\n",
       "      <td>Restless Wind</td>\n",
       "      <td>Dors</td>\n",
       "      <td>Northern Dancer</td>\n",
       "      <td>Pas de Nom</td>\n",
       "      <td>Mr. Prospector</td>\n",
       "      <td>Stick to Beauty</td>\n",
       "      <td>Nearctic</td>\n",
       "      <td>Seximee</td>\n",
       "      <td>ポリック</td>\n",
       "      <td>Brabantia</td>\n",
       "    </tr>\n",
       "    <tr>\n",
       "      <th>...</th>\n",
       "      <td>...</td>\n",
       "      <td>...</td>\n",
       "      <td>...</td>\n",
       "      <td>...</td>\n",
       "      <td>...</td>\n",
       "      <td>...</td>\n",
       "      <td>...</td>\n",
       "      <td>...</td>\n",
       "      <td>...</td>\n",
       "      <td>...</td>\n",
       "      <td>...</td>\n",
       "      <td>...</td>\n",
       "      <td>...</td>\n",
       "      <td>...</td>\n",
       "      <td>...</td>\n",
       "      <td>...</td>\n",
       "      <td>...</td>\n",
       "      <td>...</td>\n",
       "      <td>...</td>\n",
       "      <td>...</td>\n",
       "      <td>...</td>\n",
       "    </tr>\n",
       "    <tr>\n",
       "      <th>2018106080</th>\n",
       "      <td>ダノンレジェンド 2010 黒鹿毛 [血統][産駒] Himyar系</td>\n",
       "      <td>エスペランサナナ 2011 鹿毛 [血統][産駒] FNo.[12-c]</td>\n",
       "      <td>Macho Uno Macho Uno(米) 1998 芦毛 [血統][産駒]</td>\n",
       "      <td>マイグッドネス 2005 黒鹿毛 [血統][産駒]</td>\n",
       "      <td>フジキセキ 1992 青鹿毛 [血統][産駒]</td>\n",
       "      <td>ロングディライト 1994 鹿毛 [血統][産駒]</td>\n",
       "      <td>Holy Bull 1991 芦毛 [血統][産駒]</td>\n",
       "      <td>Primal Force 1987 鹿毛 [血統][産駒]</td>\n",
       "      <td>Storm Cat (米) 1983 黒鹿毛 [血統][産駒]</td>\n",
       "      <td>Caressing 1998 黒鹿毛 [血統][産駒]</td>\n",
       "      <td>...</td>\n",
       "      <td>In Reality</td>\n",
       "      <td>Millicent</td>\n",
       "      <td>Never Bend</td>\n",
       "      <td>Milan Mill</td>\n",
       "      <td>Ragusa</td>\n",
       "      <td>マタテイナ</td>\n",
       "      <td>Northern Dancer</td>\n",
       "      <td>Lady Victoria</td>\n",
       "      <td>ヒッティングアウェー</td>\n",
       "      <td>フォーワードフライト</td>\n",
       "    </tr>\n",
       "    <tr>\n",
       "      <th>2018105848</th>\n",
       "      <td>マジェスティックウォリアー Majestic Warrior(米) 2005 鹿毛 [血統]...</td>\n",
       "      <td>メイショウカエデ 2010 栗毛 [血統][産駒] FNo.[2-e]</td>\n",
       "      <td>A.P. Indy 1989 黒鹿毛 [血統][産駒]</td>\n",
       "      <td>Dream Supreme 1997 黒鹿毛 [血統][産駒]</td>\n",
       "      <td>ダイワメジャー 2001 栗毛 [血統][産駒]</td>\n",
       "      <td>ミーナー Meenaa(豪) 2002 鹿毛 [血統][産駒]</td>\n",
       "      <td>Seattle Slew 1974 黒鹿毛 [血統][産駒]</td>\n",
       "      <td>Weekend Surprise 1980 鹿毛 [血統][産駒]</td>\n",
       "      <td>Seeking the Gold 1985 鹿毛 [血統][産駒]</td>\n",
       "      <td>Spinning Round 1989 鹿毛 [血統][産駒]</td>\n",
       "      <td>...</td>\n",
       "      <td>Crimson Satan</td>\n",
       "      <td>Consentida</td>\n",
       "      <td>Mr. Prospector</td>\n",
       "      <td>File</td>\n",
       "      <td>Dance Spell</td>\n",
       "      <td>Witching Hour</td>\n",
       "      <td>Habitat</td>\n",
       "      <td>Martinova</td>\n",
       "      <td>Knightly Manner</td>\n",
       "      <td>Welcome Back</td>\n",
       "    </tr>\n",
       "    <tr>\n",
       "      <th>2019104476</th>\n",
       "      <td>キタサンブラック 2012 鹿毛 [血統][産駒] Halo系</td>\n",
       "      <td>ナターレ 2008 芦毛 [血統][産駒] FNo.[16-a]</td>\n",
       "      <td>ブラックタイド 2001 黒鹿毛 [血統][産駒]</td>\n",
       "      <td>シュガーハート 2005 鹿毛 [血統][産駒]</td>\n",
       "      <td>クロフネ 1998 芦毛 [血統][産駒]</td>\n",
       "      <td>ロージーチャーム 2001 鹿毛 [血統][産駒]</td>\n",
       "      <td>サンデーサイレンス Sunday Silence(米) 1986 青鹿毛 [血統][産駒]</td>\n",
       "      <td>ウインドインハーヘア Wind in Her Hair(愛) 1991 鹿毛 [血統][産駒]</td>\n",
       "      <td>サクラバクシンオー 1989 鹿毛 [血統][産駒]</td>\n",
       "      <td>オトメゴコロ 1990 栗毛 [血統][産駒]</td>\n",
       "      <td>...</td>\n",
       "      <td>Icecapade</td>\n",
       "      <td>コレラ</td>\n",
       "      <td>Halo</td>\n",
       "      <td>Wishing Well</td>\n",
       "      <td>Nijinsky</td>\n",
       "      <td>Key Partner</td>\n",
       "      <td>Northern Dancer</td>\n",
       "      <td>Lady Victoria</td>\n",
       "      <td>Caro</td>\n",
       "      <td>Jedina</td>\n",
       "    </tr>\n",
       "    <tr>\n",
       "      <th>2019100665</th>\n",
       "      <td>クロフネ 1998 芦毛 [血統][産駒] Deputy Minister系</td>\n",
       "      <td>ラナンキュラス 2007 青毛 [血統][産駒] FNo.[13-a]</td>\n",
       "      <td>フレンチデピュティ French Deputy(米) 1992 栗毛 [血統][産駒]</td>\n",
       "      <td>ブルーアヴェニュー Blue Avenue(米) 1990 芦毛 [血統][産駒]</td>\n",
       "      <td>スペシャルウィーク 1995 黒鹿毛 [血統][産駒]</td>\n",
       "      <td>ファレノプシス 1995 黒鹿毛 [血統][産駒]</td>\n",
       "      <td>Deputy Minister 1979 黒鹿毛 [血統][産駒]</td>\n",
       "      <td>Mitterand 1981 鹿毛 [血統][産駒]</td>\n",
       "      <td>Classic Go Go 1978 黒鹿毛 [血統][産駒]</td>\n",
       "      <td>Eliza Blue 1983 芦毛 [血統][産駒]</td>\n",
       "      <td>...</td>\n",
       "      <td>セントクレスピン</td>\n",
       "      <td>ミスアシヤガワ</td>\n",
       "      <td>Hail to Reason</td>\n",
       "      <td>Bramalea</td>\n",
       "      <td>Graustark</td>\n",
       "      <td>Golden Trail</td>\n",
       "      <td>Storm Bird</td>\n",
       "      <td>Terlingua</td>\n",
       "      <td>Damascus</td>\n",
       "      <td>Fiji</td>\n",
       "    </tr>\n",
       "    <tr>\n",
       "      <th>2018100090</th>\n",
       "      <td>ノヴェリスト Novellist(愛) 2009 黒鹿毛 [血統][産駒] Blandford系</td>\n",
       "      <td>ダノニー 2006 青鹿毛 [血統][産駒] FNo.[7-c]</td>\n",
       "      <td>Monsun 1990 黒鹿毛 [血統][産駒]</td>\n",
       "      <td>Night Lagoon 2001 黒鹿毛 [血統][産駒]</td>\n",
       "      <td>マンハッタンカフェ 1998 青鹿毛 [血統][産駒]</td>\n",
       "      <td>リズミカルシチー 1998 鹿毛 [血統][産駒]</td>\n",
       "      <td>Konigsstuhl 1976 青毛 [血統][産駒]</td>\n",
       "      <td>Mosella 1985 鹿毛 [血統][産駒]</td>\n",
       "      <td>Lagunas 1981 黒鹿毛 [血統][産駒]</td>\n",
       "      <td>Nenuphar 1994 黒鹿毛 [血統][産駒]</td>\n",
       "      <td>...</td>\n",
       "      <td>Luciano</td>\n",
       "      <td>Suleika</td>\n",
       "      <td>Kalamoun</td>\n",
       "      <td>State Pension</td>\n",
       "      <td>Hornbeam</td>\n",
       "      <td>Priddy Fair</td>\n",
       "      <td>Northern Dancer</td>\n",
       "      <td>Lady Victoria</td>\n",
       "      <td>ツイッグ</td>\n",
       "      <td>ホースメンケイ</td>\n",
       "    </tr>\n",
       "  </tbody>\n",
       "</table>\n",
       "<p>11170 rows × 62 columns</p>\n",
       "</div>"
      ],
      "text/plain": [
       "                                                      preds_0  \\\n",
       "2018105875                     ダイワメジャー 2001 栗毛 [血統][産駒] Halo系   \n",
       "2018105258                  エピファネイア 2010 鹿毛 [血統][産駒] Roberto系   \n",
       "2018101134                     ミッキーアイル 2011 鹿毛 [血統][産駒] Halo系   \n",
       "2018102791               Kingman (英) 2011 鹿毛 [血統][産駒] Danzig系   \n",
       "2018101539                  カレンブラックヒル 2009 黒鹿毛 [血統][産駒] Halo系   \n",
       "...                                                       ...   \n",
       "2018106080                 ダノンレジェンド 2010 黒鹿毛 [血統][産駒] Himyar系   \n",
       "2018105848  マジェスティックウォリアー Majestic Warrior(米) 2005 鹿毛 [血統]...   \n",
       "2019104476                    キタサンブラック 2012 鹿毛 [血統][産駒] Halo系   \n",
       "2019100665             クロフネ 1998 芦毛 [血統][産駒] Deputy Minister系   \n",
       "2018100090   ノヴェリスト Novellist(愛) 2009 黒鹿毛 [血統][産駒] Blandford系   \n",
       "\n",
       "                                                    preds_1  \\\n",
       "2018105875                カシュカシュ 2009 鹿毛 [血統][産駒] FNo.[1-k]   \n",
       "2018105258               ペルレンケッテ 2008 鹿毛 [血統][産駒] FNo.[4-n]   \n",
       "2018101134                ザッハトルテ 2007 芦毛 [血統][産駒] FNo.[7-a]   \n",
       "2018102791  ドゥケシーナ Duchessina(米) 2013 鹿毛 [血統][産駒] FNo.[2-d]   \n",
       "2018101539                ヒシシャトル 2005 鹿毛 [血統][産駒] FNo.[7-f]   \n",
       "...                                                     ...   \n",
       "2018106080             エスペランサナナ 2011 鹿毛 [血統][産駒] FNo.[12-c]   \n",
       "2018105848              メイショウカエデ 2010 栗毛 [血統][産駒] FNo.[2-e]   \n",
       "2019104476                 ナターレ 2008 芦毛 [血統][産駒] FNo.[16-a]   \n",
       "2019100665              ラナンキュラス 2007 青毛 [血統][産駒] FNo.[13-a]   \n",
       "2018100090                 ダノニー 2006 青鹿毛 [血統][産駒] FNo.[7-c]   \n",
       "\n",
       "                                                  preds_2  \\\n",
       "2018105875  サンデーサイレンス Sunday Silence(米) 1986 青鹿毛 [血統][産駒]   \n",
       "2018105258                    シンボリクリスエス 1999 黒鹿毛 [血統][産駒]   \n",
       "2018101134                     ディープインパクト 2002 鹿毛 [血統][産駒]   \n",
       "2018102791         Invincible Spirit (愛) 1997 鹿毛 [血統][産駒]   \n",
       "2018101539                       ダイワメジャー 2001 栗毛 [血統][産駒]   \n",
       "...                                                   ...   \n",
       "2018106080        Macho Uno Macho Uno(米) 1998 芦毛 [血統][産駒]   \n",
       "2018105848                    A.P. Indy 1989 黒鹿毛 [血統][産駒]   \n",
       "2019104476                      ブラックタイド 2001 黒鹿毛 [血統][産駒]   \n",
       "2019100665    フレンチデピュティ French Deputy(米) 1992 栗毛 [血統][産駒]   \n",
       "2018100090                       Monsun 1990 黒鹿毛 [血統][産駒]   \n",
       "\n",
       "                                                      preds_3  \\\n",
       "2018105875                         スカーレットブーケ 1988 栗毛 [血統][産駒]   \n",
       "2018105258                             シーザリオ 2002 青毛 [血統][産駒]   \n",
       "2018101134                            スターアイル 2004 鹿毛 [血統][産駒]   \n",
       "2018102791                             Zenda 1999 鹿毛 [血統][産駒]   \n",
       "2018101539  チャールストンハーバー Charleston Harbor(米) 1998 鹿毛 [血統][産駒]   \n",
       "...                                                       ...   \n",
       "2018106080                          マイグッドネス 2005 黒鹿毛 [血統][産駒]   \n",
       "2018105848                    Dream Supreme 1997 黒鹿毛 [血統][産駒]   \n",
       "2019104476                           シュガーハート 2005 鹿毛 [血統][産駒]   \n",
       "2019100665          ブルーアヴェニュー Blue Avenue(米) 1990 芦毛 [血統][産駒]   \n",
       "2018100090                     Night Lagoon 2001 黒鹿毛 [血統][産駒]   \n",
       "\n",
       "                                               preds_4  \\\n",
       "2018105875            アフリート Afleet(加) 1984 栗毛 [血統][産駒]   \n",
       "2018105258                  ディープインパクト 2002 鹿毛 [血統][産駒]   \n",
       "2018101134                       クロフネ 1998 芦毛 [血統][産駒]   \n",
       "2018102791         Henrythenavigator 2005 黒鹿毛 [血統][産駒]   \n",
       "2018101539  ボストンハーバー Boston Harbor(米) 1994 鹿毛 [血統][産駒]   \n",
       "...                                                ...   \n",
       "2018106080                     フジキセキ 1992 青鹿毛 [血統][産駒]   \n",
       "2018105848                    ダイワメジャー 2001 栗毛 [血統][産駒]   \n",
       "2019104476                       クロフネ 1998 芦毛 [血統][産駒]   \n",
       "2019100665                 スペシャルウィーク 1995 黒鹿毛 [血統][産駒]   \n",
       "2018100090                 マンハッタンカフェ 1998 青鹿毛 [血統][産駒]   \n",
       "\n",
       "                                              preds_5  \\\n",
       "2018105875  スリーソウツ Three Thoughts(米) 1992 鹿毛 [血統][産駒]   \n",
       "2018105258        プンティラ Puntilla(独) 1997 黒鹿毛 [血統][産駒]   \n",
       "2018101134            パフェ Parfait(米) 1996 鹿毛 [血統][産駒]   \n",
       "2018102791                 Dreamlike 1997 鹿毛 [血統][産駒]   \n",
       "2018101539                   ヒシレイホウ 1995 黒鹿毛 [血統][産駒]   \n",
       "...                                               ...   \n",
       "2018106080                  ロングディライト 1994 鹿毛 [血統][産駒]   \n",
       "2018105848            ミーナー Meenaa(豪) 2002 鹿毛 [血統][産駒]   \n",
       "2019104476                  ロージーチャーム 2001 鹿毛 [血統][産駒]   \n",
       "2019100665                  ファレノプシス 1995 黒鹿毛 [血統][産駒]   \n",
       "2018100090                  リズミカルシチー 1998 鹿毛 [血統][産駒]   \n",
       "\n",
       "                                                  preds_6  \\\n",
       "2018105875                         Halo 1969 黒鹿毛 [血統][産駒]   \n",
       "2018105258                      Kris S. 1977 黒鹿毛 [血統][産駒]   \n",
       "2018101134  サンデーサイレンス Sunday Silence(米) 1986 青鹿毛 [血統][産駒]   \n",
       "2018102791                  Green Desert 1983 鹿毛 [血統][産駒]   \n",
       "2018101539  サンデーサイレンス Sunday Silence(米) 1986 青鹿毛 [血統][産駒]   \n",
       "...                                                   ...   \n",
       "2018106080                     Holy Bull 1991 芦毛 [血統][産駒]   \n",
       "2018105848                 Seattle Slew 1974 黒鹿毛 [血統][産駒]   \n",
       "2019104476  サンデーサイレンス Sunday Silence(米) 1986 青鹿毛 [血統][産駒]   \n",
       "2019100665              Deputy Minister 1979 黒鹿毛 [血統][産駒]   \n",
       "2018100090                   Konigsstuhl 1976 青毛 [血統][産駒]   \n",
       "\n",
       "                                                    preds_7  \\\n",
       "2018105875                    Wishing Well 1975 鹿毛 [血統][産駒]   \n",
       "2018105258                        Tee Kay 1991 黒鹿毛 [血統][産駒]   \n",
       "2018101134  ウインドインハーヘア Wind in Her Hair(愛) 1991 鹿毛 [血統][産駒]   \n",
       "2018102791                           Rafha 1987 鹿毛 [血統][産駒]   \n",
       "2018101539                       スカーレットブーケ 1988 栗毛 [血統][産駒]   \n",
       "...                                                     ...   \n",
       "2018106080                    Primal Force 1987 鹿毛 [血統][産駒]   \n",
       "2018105848                Weekend Surprise 1980 鹿毛 [血統][産駒]   \n",
       "2019104476  ウインドインハーヘア Wind in Her Hair(愛) 1991 鹿毛 [血統][産駒]   \n",
       "2019100665                       Mitterand 1981 鹿毛 [血統][産駒]   \n",
       "2018100090                         Mosella 1985 鹿毛 [血統][産駒]   \n",
       "\n",
       "                                                preds_8  \\\n",
       "2018105875  ノーザンテースト Northern Taste(加) 1971 栗毛 [血統][産駒]   \n",
       "2018105258                  スペシャルウィーク 1995 黒鹿毛 [血統][産駒]   \n",
       "2018101134                 ロックオブジブラルタル 1999 鹿毛 [血統][産駒]   \n",
       "2018102791                    Zamindar 1994 鹿毛 [血統][産駒]   \n",
       "2018101539                 Grindstone 1993 黒鹿毛 [血統][産駒]   \n",
       "...                                                 ...   \n",
       "2018106080              Storm Cat (米) 1983 黒鹿毛 [血統][産駒]   \n",
       "2018105848            Seeking the Gold 1985 鹿毛 [血統][産駒]   \n",
       "2019104476                   サクラバクシンオー 1989 鹿毛 [血統][産駒]   \n",
       "2019100665              Classic Go Go 1978 黒鹿毛 [血統][産駒]   \n",
       "2018100090                    Lagunas 1981 黒鹿毛 [血統][産駒]   \n",
       "\n",
       "                                                 preds_9  ...       preds_52  \\\n",
       "2018105875     スカーレットインク Scarlet Ink(米) 1971 栗毛 [血統][産駒]  ...   Green Ticket   \n",
       "2018105258  キロフプリミエール Kirov Premiere(英) 1990 鹿毛 [血統][産駒]  ...         Busted   \n",
       "2018101134   アイルドフランス Isle de France(米) 1995 鹿毛 [血統][産駒]  ...      Icecapade   \n",
       "2018102791                         Hope 1991 鹿毛 [血統][産駒]  ...    Irish River   \n",
       "2018101539            Penny's Valentine 1989 栗毛 [血統][産駒]  ...  Restless Wind   \n",
       "...                                                  ...  ...            ...   \n",
       "2018106080                   Caressing 1998 黒鹿毛 [血統][産駒]  ...     In Reality   \n",
       "2018105848               Spinning Round 1989 鹿毛 [血統][産駒]  ...  Crimson Satan   \n",
       "2019104476                       オトメゴコロ 1990 栗毛 [血統][産駒]  ...      Icecapade   \n",
       "2019100665                   Eliza Blue 1983 芦毛 [血統][産駒]  ...       セントクレスピン   \n",
       "2018100090                    Nenuphar 1994 黒鹿毛 [血統][産駒]  ...        Luciano   \n",
       "\n",
       "                 preds_53         preds_54       preds_55        preds_56  \\\n",
       "2018105875  Ways to Learn          Turn-to  Nothirdchance     Cosmic Bomb   \n",
       "2018105258      Highclere          Literat         Surama       Aggressor   \n",
       "2018101134            コレラ   Raise a Native    Gold Digger         Nureyev   \n",
       "2018102791     Luv Luvin'  Northern Dancer    South Ocean     Secretariat   \n",
       "2018101539           Dors  Northern Dancer     Pas de Nom  Mr. Prospector   \n",
       "...                   ...              ...            ...             ...   \n",
       "2018106080      Millicent       Never Bend     Milan Mill          Ragusa   \n",
       "2018105848     Consentida   Mr. Prospector           File     Dance Spell   \n",
       "2019104476            コレラ             Halo   Wishing Well        Nijinsky   \n",
       "2019100665        ミスアシヤガワ   Hail to Reason       Bramalea       Graustark   \n",
       "2018100090        Suleika         Kalamoun  State Pension        Hornbeam   \n",
       "\n",
       "                   preds_57          preds_58        preds_59  \\\n",
       "2018105875        Almahmoud        Bold Ruler  Somethingroyal   \n",
       "2018105258      Raven Locks           イルドブルボン         Liranga   \n",
       "2018101134        Pasadoble       Prince John     Prayer Bell   \n",
       "2018102791    Crimson Saint  Exclusive Native  Won't Tell You   \n",
       "2018101539  Stick to Beauty          Nearctic         Seximee   \n",
       "...                     ...               ...             ...   \n",
       "2018106080            マタテイナ   Northern Dancer   Lady Victoria   \n",
       "2018105848    Witching Hour           Habitat       Martinova   \n",
       "2019104476      Key Partner   Northern Dancer   Lady Victoria   \n",
       "2019100665     Golden Trail        Storm Bird       Terlingua   \n",
       "2018100090      Priddy Fair   Northern Dancer   Lady Victoria   \n",
       "\n",
       "                   preds_60        preds_61  \n",
       "2018105875          Lyphard     Three Roses  \n",
       "2018105258            Abary           Pedra  \n",
       "2018101134           Nashua       Cream Pie  \n",
       "2018102791         Nijinsky  La Dame Du Lac  \n",
       "2018101539             ポリック       Brabantia  \n",
       "...                     ...             ...  \n",
       "2018106080       ヒッティングアウェー      フォーワードフライト  \n",
       "2018105848  Knightly Manner    Welcome Back  \n",
       "2019104476             Caro          Jedina  \n",
       "2019100665         Damascus            Fiji  \n",
       "2018100090             ツイッグ         ホースメンケイ  \n",
       "\n",
       "[11170 rows x 62 columns]"
      ]
     },
     "execution_count": 84,
     "metadata": {},
     "output_type": "execute_result"
    }
   ],
   "source": [
    "peds_2021"
   ]
  },
  {
   "cell_type": "code",
   "execution_count": null,
   "id": "b572b0b8-7c58-438e-bfe4-c4fa7701801e",
   "metadata": {},
   "outputs": [],
   "source": []
  }
 ],
 "metadata": {
  "kernelspec": {
   "display_name": "Python 3",
   "language": "python",
   "name": "python3"
  },
  "language_info": {
   "codemirror_mode": {
    "name": "ipython",
    "version": 3
   },
   "file_extension": ".py",
   "mimetype": "text/x-python",
   "name": "python",
   "nbconvert_exporter": "python",
   "pygments_lexer": "ipython3",
   "version": "3.8.2"
  }
 },
 "nbformat": 4,
 "nbformat_minor": 5
}
