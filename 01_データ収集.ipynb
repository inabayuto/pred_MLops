{
 "cells": [
  {
   "cell_type": "markdown",
   "metadata": {},
   "source": [
    "# 1 モジュールのインポート"
   ]
  },
  {
   "cell_type": "code",
   "execution_count": 1,
   "metadata": {},
   "outputs": [],
   "source": [
    "from modules.prepareData import *\n",
    "import pandas as pd"
   ]
  },
  {
   "cell_type": "markdown",
   "metadata": {},
   "source": [
    "### 1.1 モジュールの更新"
   ]
  },
  {
   "cell_type": "code",
   "execution_count": 102,
   "metadata": {},
   "outputs": [
    {
     "name": "stdout",
     "output_type": "stream",
     "text": [
      "The autoreload extension is already loaded. To reload it, use:\n",
      "  %reload_ext autoreload\n"
     ]
    }
   ],
   "source": [
    "%load_ext autoreload"
   ]
  },
  {
   "cell_type": "code",
   "execution_count": 103,
   "metadata": {},
   "outputs": [],
   "source": [
    "%autoreload #既にインポートされているモジュールを更新してくれる"
   ]
  },
  {
   "cell_type": "code",
   "execution_count": 2,
   "metadata": {
    "tags": []
   },
   "outputs": [
    {
     "ename": "AttributeError",
     "evalue": "'DataFrame' object has no attribute '_data'",
     "output_type": "error",
     "traceback": [
      "\u001b[0;31m---------------------------------------------------------------------------\u001b[0m",
      "\u001b[0;31mAttributeError\u001b[0m                            Traceback (most recent call last)",
      "\u001b[0;32m<ipython-input-2-b1340c511bc7>\u001b[0m in \u001b[0;36m<module>\u001b[0;34m\u001b[0m\n\u001b[0;32m----> 1\u001b[0;31m \u001b[0mhorse_id_list\u001b[0m \u001b[0;34m=\u001b[0m \u001b[0mpd\u001b[0m\u001b[0;34m.\u001b[0m\u001b[0mread_pickle\u001b[0m\u001b[0;34m(\u001b[0m\u001b[0;34m\"data/raw/results/results_sample.pickle\"\u001b[0m\u001b[0;34m)\u001b[0m\u001b[0;34m[\u001b[0m\u001b[0;34m\"horse_id\"\u001b[0m\u001b[0;34m]\u001b[0m\u001b[0;34m.\u001b[0m\u001b[0munique\u001b[0m\u001b[0;34m(\u001b[0m\u001b[0;34m)\u001b[0m\u001b[0;34m\u001b[0m\u001b[0;34m\u001b[0m\u001b[0m\n\u001b[0m\u001b[1;32m      2\u001b[0m \u001b[0mhorse_id_list\u001b[0m\u001b[0;34m\u001b[0m\u001b[0;34m\u001b[0m\u001b[0m\n",
      "\u001b[0;32m~/opt/anaconda3/lib/python3.8/site-packages/pandas/core/frame.py\u001b[0m in \u001b[0;36m__getitem__\u001b[0;34m(self, key)\u001b[0m\n\u001b[1;32m   2771\u001b[0m         \u001b[0;32mif\u001b[0m \u001b[0mis_hashable\u001b[0m\u001b[0;34m(\u001b[0m\u001b[0mkey\u001b[0m\u001b[0;34m)\u001b[0m\u001b[0;34m:\u001b[0m\u001b[0;34m\u001b[0m\u001b[0;34m\u001b[0m\u001b[0m\n\u001b[1;32m   2772\u001b[0m             \u001b[0;31m# shortcut if the key is in columns\u001b[0m\u001b[0;34m\u001b[0m\u001b[0;34m\u001b[0m\u001b[0;34m\u001b[0m\u001b[0m\n\u001b[0;32m-> 2773\u001b[0;31m             \u001b[0;32mif\u001b[0m \u001b[0mself\u001b[0m\u001b[0;34m.\u001b[0m\u001b[0mcolumns\u001b[0m\u001b[0;34m.\u001b[0m\u001b[0mis_unique\u001b[0m \u001b[0;32mand\u001b[0m \u001b[0mkey\u001b[0m \u001b[0;32min\u001b[0m \u001b[0mself\u001b[0m\u001b[0;34m.\u001b[0m\u001b[0mcolumns\u001b[0m\u001b[0;34m:\u001b[0m\u001b[0;34m\u001b[0m\u001b[0;34m\u001b[0m\u001b[0m\n\u001b[0m\u001b[1;32m   2774\u001b[0m                 \u001b[0;32mif\u001b[0m \u001b[0mself\u001b[0m\u001b[0;34m.\u001b[0m\u001b[0mcolumns\u001b[0m\u001b[0;34m.\u001b[0m\u001b[0mnlevels\u001b[0m \u001b[0;34m>\u001b[0m \u001b[0;36m1\u001b[0m\u001b[0;34m:\u001b[0m\u001b[0;34m\u001b[0m\u001b[0;34m\u001b[0m\u001b[0m\n\u001b[1;32m   2775\u001b[0m                     \u001b[0;32mreturn\u001b[0m \u001b[0mself\u001b[0m\u001b[0;34m.\u001b[0m\u001b[0m_getitem_multilevel\u001b[0m\u001b[0;34m(\u001b[0m\u001b[0mkey\u001b[0m\u001b[0;34m)\u001b[0m\u001b[0;34m\u001b[0m\u001b[0;34m\u001b[0m\u001b[0m\n",
      "\u001b[0;32m~/opt/anaconda3/lib/python3.8/site-packages/pandas/core/generic.py\u001b[0m in \u001b[0;36m__getattr__\u001b[0;34m(self, name)\u001b[0m\n\u001b[1;32m   5268\u001b[0m             \u001b[0;32mor\u001b[0m \u001b[0mname\u001b[0m \u001b[0;32min\u001b[0m \u001b[0mself\u001b[0m\u001b[0;34m.\u001b[0m\u001b[0m_accessors\u001b[0m\u001b[0;34m\u001b[0m\u001b[0;34m\u001b[0m\u001b[0m\n\u001b[1;32m   5269\u001b[0m         ):\n\u001b[0;32m-> 5270\u001b[0;31m             \u001b[0;32mreturn\u001b[0m \u001b[0mobject\u001b[0m\u001b[0;34m.\u001b[0m\u001b[0m__getattribute__\u001b[0m\u001b[0;34m(\u001b[0m\u001b[0mself\u001b[0m\u001b[0;34m,\u001b[0m \u001b[0mname\u001b[0m\u001b[0;34m)\u001b[0m\u001b[0;34m\u001b[0m\u001b[0;34m\u001b[0m\u001b[0m\n\u001b[0m\u001b[1;32m   5271\u001b[0m         \u001b[0;32melse\u001b[0m\u001b[0;34m:\u001b[0m\u001b[0;34m\u001b[0m\u001b[0;34m\u001b[0m\u001b[0m\n\u001b[1;32m   5272\u001b[0m             \u001b[0;32mif\u001b[0m \u001b[0mself\u001b[0m\u001b[0;34m.\u001b[0m\u001b[0m_info_axis\u001b[0m\u001b[0;34m.\u001b[0m\u001b[0m_can_hold_identifiers_and_holds_name\u001b[0m\u001b[0;34m(\u001b[0m\u001b[0mname\u001b[0m\u001b[0;34m)\u001b[0m\u001b[0;34m:\u001b[0m\u001b[0;34m\u001b[0m\u001b[0;34m\u001b[0m\u001b[0m\n",
      "\u001b[0;32mpandas/_libs/properties.pyx\u001b[0m in \u001b[0;36mpandas._libs.properties.AxisProperty.__get__\u001b[0;34m()\u001b[0m\n",
      "\u001b[0;32m~/opt/anaconda3/lib/python3.8/site-packages/pandas/core/generic.py\u001b[0m in \u001b[0;36m__getattr__\u001b[0;34m(self, name)\u001b[0m\n\u001b[1;32m   5268\u001b[0m             \u001b[0;32mor\u001b[0m \u001b[0mname\u001b[0m \u001b[0;32min\u001b[0m \u001b[0mself\u001b[0m\u001b[0;34m.\u001b[0m\u001b[0m_accessors\u001b[0m\u001b[0;34m\u001b[0m\u001b[0;34m\u001b[0m\u001b[0m\n\u001b[1;32m   5269\u001b[0m         ):\n\u001b[0;32m-> 5270\u001b[0;31m             \u001b[0;32mreturn\u001b[0m \u001b[0mobject\u001b[0m\u001b[0;34m.\u001b[0m\u001b[0m__getattribute__\u001b[0m\u001b[0;34m(\u001b[0m\u001b[0mself\u001b[0m\u001b[0;34m,\u001b[0m \u001b[0mname\u001b[0m\u001b[0;34m)\u001b[0m\u001b[0;34m\u001b[0m\u001b[0;34m\u001b[0m\u001b[0m\n\u001b[0m\u001b[1;32m   5271\u001b[0m         \u001b[0;32melse\u001b[0m\u001b[0;34m:\u001b[0m\u001b[0;34m\u001b[0m\u001b[0;34m\u001b[0m\u001b[0m\n\u001b[1;32m   5272\u001b[0m             \u001b[0;32mif\u001b[0m \u001b[0mself\u001b[0m\u001b[0;34m.\u001b[0m\u001b[0m_info_axis\u001b[0m\u001b[0;34m.\u001b[0m\u001b[0m_can_hold_identifiers_and_holds_name\u001b[0m\u001b[0;34m(\u001b[0m\u001b[0mname\u001b[0m\u001b[0;34m)\u001b[0m\u001b[0;34m:\u001b[0m\u001b[0;34m\u001b[0m\u001b[0;34m\u001b[0m\u001b[0m\n",
      "\u001b[0;31mAttributeError\u001b[0m: 'DataFrame' object has no attribute '_data'"
     ]
    }
   ],
   "source": [
    "horse_id_list = pd.read_pickle(\"data/raw/results/results_sample.pickle\")[\"horse_id\"].unique()\n",
    "horse_id_list"
   ]
  },
  {
   "cell_type": "code",
   "execution_count": 53,
   "metadata": {},
   "outputs": [
    {
     "data": {
      "application/vnd.jupyter.widget-view+json": {
       "model_id": "ffbff89a396a4c9993b809626a1c5587",
       "version_major": 2,
       "version_minor": 0
      },
      "text/plain": [
       "  0%|          | 0/12 [00:00<?, ?it/s]"
      ]
     },
     "metadata": {},
     "output_type": "display_data"
    },
    {
     "name": "stdout",
     "output_type": "stream",
     "text": [
      "race_id 202101010101 skipped\n",
      "race_id 202101010102 skipped\n",
      "race_id 202101010103 skipped\n",
      "race_id 202101010104 skipped\n",
      "race_id 202101010105 skipped\n",
      "race_id 202101010106 skipped\n",
      "race_id 202101010107 skipped\n",
      "race_id 202101010108 skipped\n",
      "race_id 202101010109 skipped\n",
      "race_id 202101010110 skipped\n",
      "race_id 202101010111 skipped\n",
      "race_id 202101010112 skipped\n"
     ]
    },
    {
     "data": {
      "text/plain": [
       "['data/html/race/202101010101.bin',\n",
       " 'data/html/race/202101010102.bin',\n",
       " 'data/html/race/202101010103.bin',\n",
       " 'data/html/race/202101010104.bin',\n",
       " 'data/html/race/202101010105.bin',\n",
       " 'data/html/race/202101010106.bin',\n",
       " 'data/html/race/202101010107.bin',\n",
       " 'data/html/race/202101010108.bin',\n",
       " 'data/html/race/202101010109.bin',\n",
       " 'data/html/race/202101010110.bin',\n",
       " 'data/html/race/202101010111.bin',\n",
       " 'data/html/race/202101010112.bin']"
      ]
     },
     "execution_count": 53,
     "metadata": {},
     "output_type": "execute_result"
    }
   ],
   "source": [
    "getHTMLRace(race_id_list)"
   ]
  },
  {
   "cell_type": "code",
   "execution_count": 69,
   "metadata": {},
   "outputs": [
    {
     "data": {
      "application/vnd.jupyter.widget-view+json": {
       "model_id": "413a67aaafc24aa7958b8f2d8273dc2d",
       "version_major": 2,
       "version_minor": 0
      },
      "text/plain": [
       "  0%|          | 0/12 [00:00<?, ?it/s]"
      ]
     },
     "metadata": {},
     "output_type": "display_data"
    },
    {
     "data": {
      "text/html": [
       "<div>\n",
       "<style scoped>\n",
       "    .dataframe tbody tr th:only-of-type {\n",
       "        vertical-align: middle;\n",
       "    }\n",
       "\n",
       "    .dataframe tbody tr th {\n",
       "        vertical-align: top;\n",
       "    }\n",
       "\n",
       "    .dataframe thead th {\n",
       "        text-align: right;\n",
       "    }\n",
       "</style>\n",
       "<table border=\"1\" class=\"dataframe\">\n",
       "  <thead>\n",
       "    <tr style=\"text-align: right;\">\n",
       "      <th></th>\n",
       "      <th>0</th>\n",
       "      <th>1</th>\n",
       "      <th>2</th>\n",
       "      <th>3</th>\n",
       "    </tr>\n",
       "  </thead>\n",
       "  <tbody>\n",
       "    <tr>\n",
       "      <th>202101010101</th>\n",
       "      <td>単勝</td>\n",
       "      <td>9</td>\n",
       "      <td>1350</td>\n",
       "      <td>7</td>\n",
       "    </tr>\n",
       "    <tr>\n",
       "      <th>202101010101</th>\n",
       "      <td>複勝</td>\n",
       "      <td>9614</td>\n",
       "      <td>3401702190</td>\n",
       "      <td>7114</td>\n",
       "    </tr>\n",
       "    <tr>\n",
       "      <th>202101010101</th>\n",
       "      <td>枠連</td>\n",
       "      <td>3 - 5</td>\n",
       "      <td>660</td>\n",
       "      <td>2</td>\n",
       "    </tr>\n",
       "    <tr>\n",
       "      <th>202101010101</th>\n",
       "      <td>馬連</td>\n",
       "      <td>6 - 9</td>\n",
       "      <td>2580</td>\n",
       "      <td>13</td>\n",
       "    </tr>\n",
       "    <tr>\n",
       "      <th>202101010101</th>\n",
       "      <td>ワイド</td>\n",
       "      <td>6 - 99 - 146 - 14</td>\n",
       "      <td>1040145606440</td>\n",
       "      <td>147747</td>\n",
       "    </tr>\n",
       "    <tr>\n",
       "      <th>...</th>\n",
       "      <td>...</td>\n",
       "      <td>...</td>\n",
       "      <td>...</td>\n",
       "      <td>...</td>\n",
       "    </tr>\n",
       "    <tr>\n",
       "      <th>202101010112</th>\n",
       "      <td>馬連</td>\n",
       "      <td>1 - 6</td>\n",
       "      <td>11680</td>\n",
       "      <td>35</td>\n",
       "    </tr>\n",
       "    <tr>\n",
       "      <th>202101010112</th>\n",
       "      <td>ワイド</td>\n",
       "      <td>1 - 61 - 44 - 6</td>\n",
       "      <td>405097502080</td>\n",
       "      <td>425427</td>\n",
       "    </tr>\n",
       "    <tr>\n",
       "      <th>202101010112</th>\n",
       "      <td>馬単</td>\n",
       "      <td>1 → 6</td>\n",
       "      <td>27410</td>\n",
       "      <td>79</td>\n",
       "    </tr>\n",
       "    <tr>\n",
       "      <th>202101010112</th>\n",
       "      <td>三連複</td>\n",
       "      <td>1 - 4 - 6</td>\n",
       "      <td>66740</td>\n",
       "      <td>144</td>\n",
       "    </tr>\n",
       "    <tr>\n",
       "      <th>202101010112</th>\n",
       "      <td>三連単</td>\n",
       "      <td>1 → 6 → 4</td>\n",
       "      <td>488790</td>\n",
       "      <td>870</td>\n",
       "    </tr>\n",
       "  </tbody>\n",
       "</table>\n",
       "<p>95 rows × 4 columns</p>\n",
       "</div>"
      ],
      "text/plain": [
       "                0                  1              2       3\n",
       "202101010101   単勝                  9           1350       7\n",
       "202101010101   複勝               9614     3401702190    7114\n",
       "202101010101   枠連              3 - 5            660       2\n",
       "202101010101   馬連              6 - 9           2580      13\n",
       "202101010101  ワイド  6 - 99 - 146 - 14  1040145606440  147747\n",
       "...           ...                ...            ...     ...\n",
       "202101010112   馬連              1 - 6          11680      35\n",
       "202101010112  ワイド    1 - 61 - 44 - 6   405097502080  425427\n",
       "202101010112   馬単              1 → 6          27410      79\n",
       "202101010112  三連複          1 - 4 - 6          66740     144\n",
       "202101010112  三連単          1 → 6 → 4         488790     870\n",
       "\n",
       "[95 rows x 4 columns]"
      ]
     },
     "execution_count": 69,
     "metadata": {},
     "output_type": "execute_result"
    }
   ],
   "source": [
    "getRowDataReturn(html_path_list)"
   ]
  },
  {
   "cell_type": "code",
   "execution_count": 133,
   "metadata": {
    "tags": []
   },
   "outputs": [
    {
     "data": {
      "application/vnd.jupyter.widget-view+json": {
       "model_id": "bc00a7d2fd194e4b9029c9dcf2561f6f",
       "version_major": 2,
       "version_minor": 0
      },
      "text/plain": [
       "  0%|          | 0/155 [00:00<?, ?it/s]"
      ]
     },
     "metadata": {},
     "output_type": "display_data"
    }
   ],
   "source": [
    "html_path_list_horse = getHTMLHorse(horse_id_list)"
   ]
  },
  {
   "cell_type": "code",
   "execution_count": 152,
   "metadata": {},
   "outputs": [
    {
     "data": {
      "application/vnd.jupyter.widget-view+json": {
       "model_id": "100d28dc24494feebccb268b58871b48",
       "version_major": 2,
       "version_minor": 0
      },
      "text/plain": [
       "  0%|          | 0/155 [00:00<?, ?it/s]"
      ]
     },
     "metadata": {},
     "output_type": "display_data"
    }
   ],
   "source": [
    "horse_results = getRawDataHorseResults(html_path_list_horse)"
   ]
  },
  {
   "cell_type": "code",
   "execution_count": 153,
   "metadata": {},
   "outputs": [],
   "source": [
    "horse_results.to_pickle(\"data/raw/horse/horse_results_sample.pcikle\")"
   ]
  },
  {
   "cell_type": "code",
   "execution_count": 156,
   "metadata": {
    "collapsed": true,
    "jupyter": {
     "outputs_hidden": true
    },
    "tags": []
   },
   "outputs": [
    {
     "data": {
      "application/vnd.jupyter.widget-view+json": {
       "model_id": "ced23584300d41b59250e496c0f22b47",
       "version_major": 2,
       "version_minor": 0
      },
      "text/plain": [
       "  0%|          | 0/155 [00:00<?, ?it/s]"
      ]
     },
     "metadata": {},
     "output_type": "display_data"
    },
    {
     "name": "stdout",
     "output_type": "stream",
     "text": [
      "horse_id 2018105875 skipped\n",
      "horse_id 2018105258 skipped\n",
      "horse_id 2018101134 skipped\n",
      "horse_id 2018102791 skipped\n",
      "horse_id 2018101539 skipped\n",
      "horse_id 2018100570 skipped\n",
      "horse_id 2018102192 skipped\n",
      "horse_id 2018102626 skipped\n",
      "horse_id 2018103582 skipped\n",
      "horse_id 2018101518 skipped\n",
      "horse_id 2018106100 skipped\n",
      "horse_id 2018101447 skipped\n",
      "horse_id 2018109106 skipped\n",
      "horse_id 2018106896 skipped\n",
      "horse_id 2018104780 skipped\n",
      "horse_id 2018100737 skipped\n",
      "horse_id 2018105205 skipped\n",
      "horse_id 2018100974 skipped\n",
      "horse_id 2018104870 skipped\n",
      "horse_id 2018106453 skipped\n",
      "horse_id 2018100926 skipped\n",
      "horse_id 2018102052 skipped\n",
      "horse_id 2018103196 skipped\n",
      "horse_id 2018101898 skipped\n",
      "horse_id 2018102542 skipped\n",
      "horse_id 2018103594 skipped\n",
      "horse_id 2018106609 skipped\n",
      "horse_id 2018100435 skipped\n",
      "horse_id 2018105770 skipped\n"
     ]
    },
    {
     "data": {
      "text/plain": [
       "['data/html/ped/2018105875.bin',\n",
       " 'data/html/ped/2018105258.bin',\n",
       " 'data/html/ped/2018101134.bin',\n",
       " 'data/html/ped/2018102791.bin',\n",
       " 'data/html/ped/2018101539.bin',\n",
       " 'data/html/ped/2018100570.bin',\n",
       " 'data/html/ped/2018102192.bin',\n",
       " 'data/html/ped/2018102626.bin',\n",
       " 'data/html/ped/2018103582.bin',\n",
       " 'data/html/ped/2018101518.bin',\n",
       " 'data/html/ped/2018106100.bin',\n",
       " 'data/html/ped/2018101447.bin',\n",
       " 'data/html/ped/2018109106.bin',\n",
       " 'data/html/ped/2018106896.bin',\n",
       " 'data/html/ped/2018104780.bin',\n",
       " 'data/html/ped/2018100737.bin',\n",
       " 'data/html/ped/2018105205.bin',\n",
       " 'data/html/ped/2018100974.bin',\n",
       " 'data/html/ped/2018104870.bin',\n",
       " 'data/html/ped/2018106453.bin',\n",
       " 'data/html/ped/2018100926.bin',\n",
       " 'data/html/ped/2018102052.bin',\n",
       " 'data/html/ped/2018103196.bin',\n",
       " 'data/html/ped/2018101898.bin',\n",
       " 'data/html/ped/2018102542.bin',\n",
       " 'data/html/ped/2018103594.bin',\n",
       " 'data/html/ped/2018106609.bin',\n",
       " 'data/html/ped/2018100435.bin',\n",
       " 'data/html/ped/2018105770.bin',\n",
       " 'data/html/ped/2018100706.bin',\n",
       " 'data/html/ped/2018100403.bin',\n",
       " 'data/html/ped/2018105166.bin',\n",
       " 'data/html/ped/2018102691.bin',\n",
       " 'data/html/ped/2018100708.bin',\n",
       " 'data/html/ped/2018104849.bin',\n",
       " 'data/html/ped/2018100066.bin',\n",
       " 'data/html/ped/2018103698.bin',\n",
       " 'data/html/ped/2018102187.bin',\n",
       " 'data/html/ped/2018106086.bin',\n",
       " 'data/html/ped/2018101887.bin',\n",
       " 'data/html/ped/2018102272.bin',\n",
       " 'data/html/ped/2018103483.bin',\n",
       " 'data/html/ped/2018100537.bin',\n",
       " 'data/html/ped/2018103489.bin',\n",
       " 'data/html/ped/2018103004.bin',\n",
       " 'data/html/ped/2018102954.bin',\n",
       " 'data/html/ped/2018104804.bin',\n",
       " 'data/html/ped/2018105800.bin',\n",
       " 'data/html/ped/2018110026.bin',\n",
       " 'data/html/ped/2018103204.bin',\n",
       " 'data/html/ped/2018103059.bin',\n",
       " 'data/html/ped/2018110105.bin',\n",
       " 'data/html/ped/2018106334.bin',\n",
       " 'data/html/ped/2018104676.bin',\n",
       " 'data/html/ped/2018102444.bin',\n",
       " 'data/html/ped/2018101597.bin',\n",
       " 'data/html/ped/2018104222.bin',\n",
       " 'data/html/ped/2019104536.bin',\n",
       " 'data/html/ped/2019103120.bin',\n",
       " 'data/html/ped/2019109094.bin',\n",
       " 'data/html/ped/2019105476.bin',\n",
       " 'data/html/ped/2019103815.bin',\n",
       " 'data/html/ped/2019105130.bin',\n",
       " 'data/html/ped/2019102456.bin',\n",
       " 'data/html/ped/2019100985.bin',\n",
       " 'data/html/ped/2019103276.bin',\n",
       " 'data/html/ped/2019106490.bin',\n",
       " 'data/html/ped/2019102467.bin',\n",
       " 'data/html/ped/2019106524.bin',\n",
       " 'data/html/ped/2019105105.bin',\n",
       " 'data/html/ped/2018103266.bin',\n",
       " 'data/html/ped/2018105036.bin',\n",
       " 'data/html/ped/2018106496.bin',\n",
       " 'data/html/ped/2018103702.bin',\n",
       " 'data/html/ped/2018104311.bin',\n",
       " 'data/html/ped/2018105010.bin',\n",
       " 'data/html/ped/2018104211.bin',\n",
       " 'data/html/ped/2018100857.bin',\n",
       " 'data/html/ped/2018104274.bin',\n",
       " 'data/html/ped/2018101449.bin',\n",
       " 'data/html/ped/2018105591.bin',\n",
       " 'data/html/ped/2018103492.bin',\n",
       " 'data/html/ped/2018101101.bin',\n",
       " 'data/html/ped/2018100955.bin',\n",
       " 'data/html/ped/2018106580.bin',\n",
       " 'data/html/ped/2017101162.bin',\n",
       " 'data/html/ped/2018102229.bin',\n",
       " 'data/html/ped/2018105495.bin',\n",
       " 'data/html/ped/2017105400.bin',\n",
       " 'data/html/ped/2017100050.bin',\n",
       " 'data/html/ped/2018103529.bin',\n",
       " 'data/html/ped/2018101608.bin',\n",
       " 'data/html/ped/2016105005.bin',\n",
       " 'data/html/ped/2018105247.bin',\n",
       " 'data/html/ped/2017103469.bin',\n",
       " 'data/html/ped/2017101561.bin',\n",
       " 'data/html/ped/2017104478.bin',\n",
       " 'data/html/ped/2016101241.bin',\n",
       " 'data/html/ped/2017105571.bin',\n",
       " 'data/html/ped/2017105117.bin',\n",
       " 'data/html/ped/2016104238.bin',\n",
       " 'data/html/ped/2017102945.bin',\n",
       " 'data/html/ped/2017105368.bin',\n",
       " 'data/html/ped/2018105157.bin',\n",
       " 'data/html/ped/2017105874.bin',\n",
       " 'data/html/ped/2018104151.bin',\n",
       " 'data/html/ped/2018103736.bin',\n",
       " 'data/html/ped/2018101075.bin',\n",
       " 'data/html/ped/2018105202.bin',\n",
       " 'data/html/ped/2018101722.bin',\n",
       " 'data/html/ped/2017105454.bin',\n",
       " 'data/html/ped/2018104860.bin',\n",
       " 'data/html/ped/2018105316.bin',\n",
       " 'data/html/ped/2018100600.bin',\n",
       " 'data/html/ped/2018103993.bin',\n",
       " 'data/html/ped/2017106020.bin',\n",
       " 'data/html/ped/2017106232.bin',\n",
       " 'data/html/ped/2018106653.bin',\n",
       " 'data/html/ped/2017110168.bin',\n",
       " 'data/html/ped/2018100399.bin',\n",
       " 'data/html/ped/2018105521.bin',\n",
       " 'data/html/ped/2017105655.bin',\n",
       " 'data/html/ped/2017105402.bin',\n",
       " 'data/html/ped/2018104716.bin',\n",
       " 'data/html/ped/2014103521.bin',\n",
       " 'data/html/ped/2016103067.bin',\n",
       " 'data/html/ped/2018101729.bin',\n",
       " 'data/html/ped/2017101523.bin',\n",
       " 'data/html/ped/2016104751.bin',\n",
       " 'data/html/ped/2017104059.bin',\n",
       " 'data/html/ped/2017110103.bin',\n",
       " 'data/html/ped/2017102105.bin',\n",
       " 'data/html/ped/2016110058.bin',\n",
       " 'data/html/ped/2015101239.bin',\n",
       " 'data/html/ped/2017101248.bin',\n",
       " 'data/html/ped/2017102946.bin',\n",
       " 'data/html/ped/2017101943.bin',\n",
       " 'data/html/ped/2018101559.bin',\n",
       " 'data/html/ped/2017105060.bin',\n",
       " 'data/html/ped/2015104546.bin',\n",
       " 'data/html/ped/2017106131.bin',\n",
       " 'data/html/ped/2016110126.bin',\n",
       " 'data/html/ped/2017103895.bin',\n",
       " 'data/html/ped/2018105595.bin',\n",
       " 'data/html/ped/2016104410.bin',\n",
       " 'data/html/ped/2017105198.bin',\n",
       " 'data/html/ped/2013100731.bin',\n",
       " 'data/html/ped/2015105451.bin',\n",
       " 'data/html/ped/2017105137.bin',\n",
       " 'data/html/ped/2015104299.bin',\n",
       " 'data/html/ped/2015105960.bin',\n",
       " 'data/html/ped/2016104819.bin',\n",
       " 'data/html/ped/2017103020.bin',\n",
       " 'data/html/ped/2016103323.bin',\n",
       " 'data/html/ped/2015106499.bin']"
      ]
     },
     "execution_count": 156,
     "metadata": {},
     "output_type": "execute_result"
    }
   ],
   "source": [
    "getHTMLPed(horse_id_list)"
   ]
  },
  {
   "cell_type": "code",
   "execution_count": 161,
   "metadata": {},
   "outputs": [],
   "source": [
    "import glob\n",
    "html_path_list_peds = glob.glob(\"data/html/ped/*.bin\")"
   ]
  },
  {
   "cell_type": "code",
   "execution_count": 171,
   "metadata": {},
   "outputs": [
    {
     "data": {
      "application/vnd.jupyter.widget-view+json": {
       "model_id": "ed3ffa21e7e44c07945201b948ae3b73",
       "version_major": 2,
       "version_minor": 0
      },
      "text/plain": [
       "  0%|          | 0/155 [00:00<?, ?it/s]"
      ]
     },
     "metadata": {},
     "output_type": "display_data"
    }
   ],
   "source": [
    "peds = getRawDataPeds(html_path_list_peds)"
   ]
  },
  {
   "cell_type": "code",
   "execution_count": 173,
   "metadata": {},
   "outputs": [],
   "source": [
    "peds.to_pickle(\"data/raw/peds/peds_sample.pickle\")"
   ]
  }
 ],
 "metadata": {
  "kernelspec": {
   "display_name": "Python 3",
   "language": "python",
   "name": "python3"
  },
  "language_info": {
   "codemirror_mode": {
    "name": "ipython",
    "version": 3
   },
   "file_extension": ".py",
   "mimetype": "text/x-python",
   "name": "python",
   "nbconvert_exporter": "python",
   "pygments_lexer": "ipython3",
   "version": "3.8.3"
  }
 },
 "nbformat": 4,
 "nbformat_minor": 5
}
