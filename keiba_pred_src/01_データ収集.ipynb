{
 "cells": [
  {
   "cell_type": "markdown",
   "metadata": {},
   "source": [
    "# フォルダ構成\n",
    "- フォルダ構成を整えて、ファイルの整理\n",
    "- tree コマンド"
   ]
  },
  {
   "cell_type": "markdown",
   "id": "801d73b9",
   "metadata": {},
   "source": [
    "# 1 モジュールのインポート"
   ]
  },
  {
   "cell_type": "code",
   "execution_count": 19,
   "metadata": {},
   "outputs": [],
   "source": [
    "from modules.prepareData import *\n",
    "import pandas as pd\n",
    "import glob\n"
   ]
  },
  {
   "cell_type": "markdown",
   "metadata": {},
   "source": [
    "### 1.1 モジュールの更新"
   ]
  },
  {
   "cell_type": "code",
   "execution_count": 3,
   "metadata": {},
   "outputs": [],
   "source": [
    "%load_ext autoreload"
   ]
  },
  {
   "cell_type": "code",
   "execution_count": 4,
   "metadata": {},
   "outputs": [],
   "source": [
    "%autoreload #既にインポートされているモジュールを更新してくれる"
   ]
  },
  {
   "cell_type": "code",
   "execution_count": 5,
   "metadata": {
    "tags": []
   },
   "outputs": [
    {
     "data": {
      "text/plain": [
       "array(['2018105875', '2018105258', '2018101134', '2018102791',\n",
       "       '2018101539', '2018100570', '2018102192', '2018102626',\n",
       "       '2018103582', '2018101518', '2018106100', '2018101447',\n",
       "       '2018109106', '2018106896', '2018104780', '2018100737',\n",
       "       '2018105205', '2018100974', '2018104870', '2018106453',\n",
       "       '2018100926', '2018102052', '2018103196', '2018101898',\n",
       "       '2018102542', '2018103594', '2018106609', '2018100435',\n",
       "       '2018105770', '2018100706', '2018100403', '2018105166',\n",
       "       '2018102691', '2018100708', '2018104849', '2018100066',\n",
       "       '2018103698', '2018102187', '2018106086', '2018101887',\n",
       "       '2018102272', '2018103483', '2018100537', '2018103489',\n",
       "       '2018103004', '2018102954', '2018104804', '2018105800',\n",
       "       '2018110026', '2018103204', '2018103059', '2018110105',\n",
       "       '2018106334', '2018104676', '2018102444', '2018101597',\n",
       "       '2018104222', '2019104536', '2019103120', '2019109094',\n",
       "       '2019105476', '2019103815', '2019105130', '2019102456',\n",
       "       '2019100985', '2019103276', '2019106490', '2019102467',\n",
       "       '2019106524', '2019105105', '2018103266', '2018105036',\n",
       "       '2018106496', '2018103702', '2018104311', '2018105010',\n",
       "       '2018104211', '2018100857', '2018104274', '2018101449',\n",
       "       '2018105591', '2018103492', '2018101101', '2018100955',\n",
       "       '2018106580', '2017101162', '2018102229', '2018105495',\n",
       "       '2017105400', '2017100050', '2018103529', '2018101608',\n",
       "       '2016105005', '2018105247', '2017103469', '2017101561',\n",
       "       '2017104478', '2016101241', '2017105571', '2017105117',\n",
       "       '2016104238', '2017102945', '2017105368', '2018105157',\n",
       "       '2017105874', '2018104151', '2018103736', '2018101075',\n",
       "       '2018105202', '2018101722', '2017105454', '2018104860',\n",
       "       '2018105316', '2018100600', '2018103993', '2017106020',\n",
       "       '2017106232', '2018106653', '2017110168', '2018100399',\n",
       "       '2018105521', '2017105655', '2017105402', '2018104716',\n",
       "       '2014103521', '2016103067', '2018101729', '2017101523',\n",
       "       '2016104751', '2017104059', '2017110103', '2017102105',\n",
       "       '2016110058', '2015101239', '2017101248', '2017102946',\n",
       "       '2017101943', '2018101559', '2017105060', '2015104546',\n",
       "       '2017106131', '2016110126', '2017103895', '2018105595',\n",
       "       '2016104410', '2017105198', '2013100731', '2015105451',\n",
       "       '2017105137', '2015104299', '2015105960', '2016104819',\n",
       "       '2017103020', '2016103323', '2015106499'], dtype=object)"
      ]
     },
     "execution_count": 5,
     "metadata": {},
     "output_type": "execute_result"
    }
   ],
   "source": [
    "horse_id_list = pd.read_pickle(\"data/raw/results/results_sample.pickle\")[\"horse_id\"].unique()\n",
    "horse_id_list"
   ]
  },
  {
   "cell_type": "code",
   "execution_count": 16,
   "id": "cee58283",
   "metadata": {},
   "outputs": [
    {
     "data": {
      "text/plain": [
       "Index(['202101010101', '202101010102', '202101010103', '202101010104',\n",
       "       '202101010105', '202101010106', '202101010107', '202101010108',\n",
       "       '202101010109', '202101010110', '202101010111', '202101010112'],\n",
       "      dtype='object')"
      ]
     },
     "execution_count": 16,
     "metadata": {},
     "output_type": "execute_result"
    }
   ],
   "source": [
    "race_id_list = pd.read_pickle(\"data/raw/results/results_sample.pickle\").index.unique()\n",
    "race_id_list"
   ]
  },
  {
   "cell_type": "code",
   "execution_count": 17,
   "metadata": {},
   "outputs": [
    {
     "data": {
      "application/vnd.jupyter.widget-view+json": {
       "model_id": "878895c6d30241188ebf66b03a5a6818",
       "version_major": 2,
       "version_minor": 0
      },
      "text/plain": [
       "  0%|          | 0/12 [00:00<?, ?it/s]"
      ]
     },
     "metadata": {},
     "output_type": "display_data"
    },
    {
     "name": "stdout",
     "output_type": "stream",
     "text": [
      "race_id 202101010101 skipped\n",
      "race_id 202101010102 skipped\n",
      "race_id 202101010103 skipped\n",
      "race_id 202101010104 skipped\n",
      "race_id 202101010105 skipped\n",
      "race_id 202101010106 skipped\n",
      "race_id 202101010107 skipped\n",
      "race_id 202101010108 skipped\n",
      "race_id 202101010109 skipped\n",
      "race_id 202101010110 skipped\n",
      "race_id 202101010111 skipped\n",
      "race_id 202101010112 skipped\n"
     ]
    },
    {
     "data": {
      "text/plain": [
       "['data/html/race/202101010101.bin',\n",
       " 'data/html/race/202101010102.bin',\n",
       " 'data/html/race/202101010103.bin',\n",
       " 'data/html/race/202101010104.bin',\n",
       " 'data/html/race/202101010105.bin',\n",
       " 'data/html/race/202101010106.bin',\n",
       " 'data/html/race/202101010107.bin',\n",
       " 'data/html/race/202101010108.bin',\n",
       " 'data/html/race/202101010109.bin',\n",
       " 'data/html/race/202101010110.bin',\n",
       " 'data/html/race/202101010111.bin',\n",
       " 'data/html/race/202101010112.bin']"
      ]
     },
     "execution_count": 17,
     "metadata": {},
     "output_type": "execute_result"
    }
   ],
   "source": [
    "getHTMLRace(race_id_list)"
   ]
  },
  {
   "cell_type": "code",
   "execution_count": 21,
   "metadata": {},
   "outputs": [
    {
     "data": {
      "application/vnd.jupyter.widget-view+json": {
       "model_id": "d2f80c04be54488ab244b02349263cf7",
       "version_major": 2,
       "version_minor": 0
      },
      "text/plain": [
       "  0%|          | 0/12 [00:00<?, ?it/s]"
      ]
     },
     "metadata": {},
     "output_type": "display_data"
    },
    {
     "data": {
      "text/html": [
       "<div>\n",
       "<style scoped>\n",
       "    .dataframe tbody tr th:only-of-type {\n",
       "        vertical-align: middle;\n",
       "    }\n",
       "\n",
       "    .dataframe tbody tr th {\n",
       "        vertical-align: top;\n",
       "    }\n",
       "\n",
       "    .dataframe thead th {\n",
       "        text-align: right;\n",
       "    }\n",
       "</style>\n",
       "<table border=\"1\" class=\"dataframe\">\n",
       "  <thead>\n",
       "    <tr style=\"text-align: right;\">\n",
       "      <th></th>\n",
       "      <th>0</th>\n",
       "      <th>1</th>\n",
       "      <th>2</th>\n",
       "      <th>3</th>\n",
       "    </tr>\n",
       "  </thead>\n",
       "  <tbody>\n",
       "    <tr>\n",
       "      <th>202101010101</th>\n",
       "      <td>単勝</td>\n",
       "      <td>9</td>\n",
       "      <td>1350</td>\n",
       "      <td>7</td>\n",
       "    </tr>\n",
       "    <tr>\n",
       "      <th>202101010101</th>\n",
       "      <td>複勝</td>\n",
       "      <td>9614</td>\n",
       "      <td>3401702190</td>\n",
       "      <td>7114</td>\n",
       "    </tr>\n",
       "    <tr>\n",
       "      <th>202101010101</th>\n",
       "      <td>枠連</td>\n",
       "      <td>3 - 5</td>\n",
       "      <td>660</td>\n",
       "      <td>2</td>\n",
       "    </tr>\n",
       "    <tr>\n",
       "      <th>202101010101</th>\n",
       "      <td>馬連</td>\n",
       "      <td>6 - 9</td>\n",
       "      <td>2580</td>\n",
       "      <td>13</td>\n",
       "    </tr>\n",
       "    <tr>\n",
       "      <th>202101010101</th>\n",
       "      <td>ワイド</td>\n",
       "      <td>6 - 99 - 146 - 14</td>\n",
       "      <td>1040145606440</td>\n",
       "      <td>147747</td>\n",
       "    </tr>\n",
       "    <tr>\n",
       "      <th>...</th>\n",
       "      <td>...</td>\n",
       "      <td>...</td>\n",
       "      <td>...</td>\n",
       "      <td>...</td>\n",
       "    </tr>\n",
       "    <tr>\n",
       "      <th>202101010108</th>\n",
       "      <td>馬連</td>\n",
       "      <td>3 - 10</td>\n",
       "      <td>1230</td>\n",
       "      <td>4</td>\n",
       "    </tr>\n",
       "    <tr>\n",
       "      <th>202101010108</th>\n",
       "      <td>ワイド</td>\n",
       "      <td>3 - 104 - 103 - 4</td>\n",
       "      <td>490510350</td>\n",
       "      <td>361</td>\n",
       "    </tr>\n",
       "    <tr>\n",
       "      <th>202101010108</th>\n",
       "      <td>馬単</td>\n",
       "      <td>10 → 3</td>\n",
       "      <td>2270</td>\n",
       "      <td>3</td>\n",
       "    </tr>\n",
       "    <tr>\n",
       "      <th>202101010108</th>\n",
       "      <td>三連複</td>\n",
       "      <td>3 - 4 - 10</td>\n",
       "      <td>2070</td>\n",
       "      <td>4</td>\n",
       "    </tr>\n",
       "    <tr>\n",
       "      <th>202101010108</th>\n",
       "      <td>三連単</td>\n",
       "      <td>10 → 3 → 4</td>\n",
       "      <td>9590</td>\n",
       "      <td>7</td>\n",
       "    </tr>\n",
       "  </tbody>\n",
       "</table>\n",
       "<p>95 rows × 4 columns</p>\n",
       "</div>"
      ],
      "text/plain": [
       "                0                  1              2       3\n",
       "202101010101   単勝                  9           1350       7\n",
       "202101010101   複勝               9614     3401702190    7114\n",
       "202101010101   枠連              3 - 5            660       2\n",
       "202101010101   馬連              6 - 9           2580      13\n",
       "202101010101  ワイド  6 - 99 - 146 - 14  1040145606440  147747\n",
       "...           ...                ...            ...     ...\n",
       "202101010108   馬連             3 - 10           1230       4\n",
       "202101010108  ワイド  3 - 104 - 103 - 4      490510350     361\n",
       "202101010108   馬単             10 → 3           2270       3\n",
       "202101010108  三連複         3 - 4 - 10           2070       4\n",
       "202101010108  三連単         10 → 3 → 4           9590       7\n",
       "\n",
       "[95 rows x 4 columns]"
      ]
     },
     "execution_count": 21,
     "metadata": {},
     "output_type": "execute_result"
    }
   ],
   "source": [
    "html_path_list = glob.glob(\"data/html/race/*.bin\")\n",
    "getRowDataReturn(html_path_list)"
   ]
  },
  {
   "cell_type": "code",
   "execution_count": 7,
   "metadata": {
    "tags": []
   },
   "outputs": [
    {
     "data": {
      "application/vnd.jupyter.widget-view+json": {
       "model_id": "650387fb51f84f12884e44d9bf35bdcb",
       "version_major": 2,
       "version_minor": 0
      },
      "text/plain": [
       "  0%|          | 0/155 [00:00<?, ?it/s]"
      ]
     },
     "metadata": {},
     "output_type": "display_data"
    },
    {
     "name": "stdout",
     "output_type": "stream",
     "text": [
      "horse_id 2018105875 skipped\n",
      "horse_id 2018105258 skipped\n",
      "horse_id 2018101134 skipped\n",
      "horse_id 2018102791 skipped\n",
      "horse_id 2018101539 skipped\n",
      "horse_id 2018100570 skipped\n",
      "horse_id 2018102192 skipped\n",
      "horse_id 2018102626 skipped\n",
      "horse_id 2018103582 skipped\n",
      "horse_id 2018101518 skipped\n",
      "horse_id 2018106100 skipped\n",
      "horse_id 2018101447 skipped\n",
      "horse_id 2018109106 skipped\n",
      "horse_id 2018106896 skipped\n",
      "horse_id 2018104780 skipped\n",
      "horse_id 2018100737 skipped\n",
      "horse_id 2018105205 skipped\n",
      "horse_id 2018100974 skipped\n",
      "horse_id 2018104870 skipped\n",
      "horse_id 2018106453 skipped\n",
      "horse_id 2018100926 skipped\n",
      "horse_id 2018102052 skipped\n",
      "horse_id 2018103196 skipped\n",
      "horse_id 2018101898 skipped\n",
      "horse_id 2018102542 skipped\n",
      "horse_id 2018103594 skipped\n",
      "horse_id 2018106609 skipped\n",
      "horse_id 2018100435 skipped\n",
      "horse_id 2018105770 skipped\n",
      "horse_id 2018100706 skipped\n",
      "horse_id 2018100403 skipped\n",
      "horse_id 2018105166 skipped\n",
      "horse_id 2018102691 skipped\n",
      "horse_id 2018100708 skipped\n",
      "horse_id 2018104849 skipped\n",
      "horse_id 2018100066 skipped\n",
      "horse_id 2018103698 skipped\n",
      "horse_id 2018102187 skipped\n",
      "horse_id 2018106086 skipped\n",
      "horse_id 2018101887 skipped\n",
      "horse_id 2018102272 skipped\n",
      "horse_id 2018103483 skipped\n",
      "horse_id 2018100537 skipped\n",
      "horse_id 2018103489 skipped\n",
      "horse_id 2018103004 skipped\n",
      "horse_id 2018102954 skipped\n",
      "horse_id 2018104804 skipped\n",
      "horse_id 2018105800 skipped\n",
      "horse_id 2018110026 skipped\n",
      "horse_id 2018103204 skipped\n",
      "horse_id 2018103059 skipped\n",
      "horse_id 2018110105 skipped\n",
      "horse_id 2018106334 skipped\n",
      "horse_id 2018104676 skipped\n",
      "horse_id 2018102444 skipped\n",
      "horse_id 2018101597 skipped\n",
      "horse_id 2018104222 skipped\n",
      "horse_id 2019104536 skipped\n",
      "horse_id 2019103120 skipped\n",
      "horse_id 2019109094 skipped\n",
      "horse_id 2019105476 skipped\n",
      "horse_id 2019103815 skipped\n",
      "horse_id 2019105130 skipped\n",
      "horse_id 2019102456 skipped\n",
      "horse_id 2019100985 skipped\n",
      "horse_id 2019103276 skipped\n",
      "horse_id 2019106490 skipped\n",
      "horse_id 2019102467 skipped\n",
      "horse_id 2019106524 skipped\n",
      "horse_id 2019105105 skipped\n",
      "horse_id 2018103266 skipped\n",
      "horse_id 2018105036 skipped\n",
      "horse_id 2018106496 skipped\n",
      "horse_id 2018103702 skipped\n",
      "horse_id 2018104311 skipped\n",
      "horse_id 2018105010 skipped\n",
      "horse_id 2018104211 skipped\n",
      "horse_id 2018100857 skipped\n",
      "horse_id 2018104274 skipped\n",
      "horse_id 2018101449 skipped\n",
      "horse_id 2018105591 skipped\n",
      "horse_id 2018103492 skipped\n",
      "horse_id 2018101101 skipped\n",
      "horse_id 2018100955 skipped\n",
      "horse_id 2018106580 skipped\n",
      "horse_id 2017101162 skipped\n",
      "horse_id 2018102229 skipped\n",
      "horse_id 2018105495 skipped\n",
      "horse_id 2017105400 skipped\n",
      "horse_id 2017100050 skipped\n",
      "horse_id 2018103529 skipped\n",
      "horse_id 2018101608 skipped\n",
      "horse_id 2016105005 skipped\n",
      "horse_id 2018105247 skipped\n",
      "horse_id 2017103469 skipped\n",
      "horse_id 2017101561 skipped\n",
      "horse_id 2017104478 skipped\n",
      "horse_id 2016101241 skipped\n",
      "horse_id 2017105571 skipped\n",
      "horse_id 2017105117 skipped\n",
      "horse_id 2016104238 skipped\n",
      "horse_id 2017102945 skipped\n",
      "horse_id 2017105368 skipped\n",
      "horse_id 2018105157 skipped\n",
      "horse_id 2017105874 skipped\n",
      "horse_id 2018104151 skipped\n",
      "horse_id 2018103736 skipped\n",
      "horse_id 2018101075 skipped\n",
      "horse_id 2018105202 skipped\n",
      "horse_id 2018101722 skipped\n",
      "horse_id 2017105454 skipped\n",
      "horse_id 2018104860 skipped\n",
      "horse_id 2018105316 skipped\n",
      "horse_id 2018100600 skipped\n",
      "horse_id 2018103993 skipped\n",
      "horse_id 2017106020 skipped\n",
      "horse_id 2017106232 skipped\n",
      "horse_id 2018106653 skipped\n",
      "horse_id 2017110168 skipped\n",
      "horse_id 2018100399 skipped\n",
      "horse_id 2018105521 skipped\n",
      "horse_id 2017105655 skipped\n",
      "horse_id 2017105402 skipped\n",
      "horse_id 2018104716 skipped\n",
      "horse_id 2014103521 skipped\n",
      "horse_id 2016103067 skipped\n",
      "horse_id 2018101729 skipped\n",
      "horse_id 2017101523 skipped\n",
      "horse_id 2016104751 skipped\n",
      "horse_id 2017104059 skipped\n",
      "horse_id 2017110103 skipped\n",
      "horse_id 2017102105 skipped\n",
      "horse_id 2016110058 skipped\n",
      "horse_id 2015101239 skipped\n",
      "horse_id 2017101248 skipped\n",
      "horse_id 2017102946 skipped\n",
      "horse_id 2017101943 skipped\n",
      "horse_id 2018101559 skipped\n",
      "horse_id 2017105060 skipped\n",
      "horse_id 2015104546 skipped\n",
      "horse_id 2017106131 skipped\n",
      "horse_id 2016110126 skipped\n",
      "horse_id 2017103895 skipped\n",
      "horse_id 2018105595 skipped\n",
      "horse_id 2016104410 skipped\n",
      "horse_id 2017105198 skipped\n",
      "horse_id 2013100731 skipped\n",
      "horse_id 2015105451 skipped\n",
      "horse_id 2017105137 skipped\n",
      "horse_id 2015104299 skipped\n",
      "horse_id 2015105960 skipped\n",
      "horse_id 2016104819 skipped\n",
      "horse_id 2017103020 skipped\n",
      "horse_id 2016103323 skipped\n",
      "horse_id 2015106499 skipped\n"
     ]
    }
   ],
   "source": [
    "html_path_list_horse = getHTMLHorse(horse_id_list)"
   ]
  },
  {
   "cell_type": "code",
   "execution_count": 8,
   "metadata": {},
   "outputs": [
    {
     "data": {
      "application/vnd.jupyter.widget-view+json": {
       "model_id": "7335e9b7ffa74e9ead126cf4504df186",
       "version_major": 2,
       "version_minor": 0
      },
      "text/plain": [
       "  0%|          | 0/155 [00:00<?, ?it/s]"
      ]
     },
     "metadata": {},
     "output_type": "display_data"
    }
   ],
   "source": [
    "horse_results = getRawDataHorseResults(html_path_list_horse)"
   ]
  },
  {
   "cell_type": "code",
   "execution_count": 9,
   "metadata": {},
   "outputs": [],
   "source": [
    "horse_results.to_pickle(\"data/raw/horse/horse_results_sample.pcikle\")"
   ]
  },
  {
   "cell_type": "code",
   "execution_count": 10,
   "metadata": {
    "collapsed": true,
    "jupyter": {
     "outputs_hidden": true
    },
    "tags": []
   },
   "outputs": [
    {
     "data": {
      "application/vnd.jupyter.widget-view+json": {
       "model_id": "dd2134a536e541649a8f76b04b10dac5",
       "version_major": 2,
       "version_minor": 0
      },
      "text/plain": [
       "  0%|          | 0/155 [00:00<?, ?it/s]"
      ]
     },
     "metadata": {},
     "output_type": "display_data"
    },
    {
     "name": "stdout",
     "output_type": "stream",
     "text": [
      "horse_id 2018105875 skipped\n",
      "horse_id 2018105258 skipped\n",
      "horse_id 2018101134 skipped\n",
      "horse_id 2018102791 skipped\n",
      "horse_id 2018101539 skipped\n",
      "horse_id 2018100570 skipped\n",
      "horse_id 2018102192 skipped\n",
      "horse_id 2018102626 skipped\n",
      "horse_id 2018103582 skipped\n",
      "horse_id 2018101518 skipped\n",
      "horse_id 2018106100 skipped\n",
      "horse_id 2018101447 skipped\n",
      "horse_id 2018109106 skipped\n",
      "horse_id 2018106896 skipped\n",
      "horse_id 2018104780 skipped\n",
      "horse_id 2018100737 skipped\n",
      "horse_id 2018105205 skipped\n",
      "horse_id 2018100974 skipped\n",
      "horse_id 2018104870 skipped\n",
      "horse_id 2018106453 skipped\n",
      "horse_id 2018100926 skipped\n",
      "horse_id 2018102052 skipped\n",
      "horse_id 2018103196 skipped\n",
      "horse_id 2018101898 skipped\n",
      "horse_id 2018102542 skipped\n",
      "horse_id 2018103594 skipped\n",
      "horse_id 2018106609 skipped\n",
      "horse_id 2018100435 skipped\n",
      "horse_id 2018105770 skipped\n",
      "horse_id 2018100706 skipped\n",
      "horse_id 2018100403 skipped\n",
      "horse_id 2018105166 skipped\n",
      "horse_id 2018102691 skipped\n",
      "horse_id 2018100708 skipped\n",
      "horse_id 2018104849 skipped\n",
      "horse_id 2018100066 skipped\n",
      "horse_id 2018103698 skipped\n",
      "horse_id 2018102187 skipped\n",
      "horse_id 2018106086 skipped\n",
      "horse_id 2018101887 skipped\n",
      "horse_id 2018102272 skipped\n",
      "horse_id 2018103483 skipped\n",
      "horse_id 2018100537 skipped\n",
      "horse_id 2018103489 skipped\n",
      "horse_id 2018103004 skipped\n",
      "horse_id 2018102954 skipped\n",
      "horse_id 2018104804 skipped\n",
      "horse_id 2018105800 skipped\n",
      "horse_id 2018110026 skipped\n",
      "horse_id 2018103204 skipped\n",
      "horse_id 2018103059 skipped\n",
      "horse_id 2018110105 skipped\n",
      "horse_id 2018106334 skipped\n",
      "horse_id 2018104676 skipped\n",
      "horse_id 2018102444 skipped\n",
      "horse_id 2018101597 skipped\n",
      "horse_id 2018104222 skipped\n",
      "horse_id 2019104536 skipped\n",
      "horse_id 2019103120 skipped\n",
      "horse_id 2019109094 skipped\n",
      "horse_id 2019105476 skipped\n",
      "horse_id 2019103815 skipped\n",
      "horse_id 2019105130 skipped\n",
      "horse_id 2019102456 skipped\n",
      "horse_id 2019100985 skipped\n",
      "horse_id 2019103276 skipped\n",
      "horse_id 2019106490 skipped\n",
      "horse_id 2019102467 skipped\n",
      "horse_id 2019106524 skipped\n",
      "horse_id 2019105105 skipped\n",
      "horse_id 2018103266 skipped\n",
      "horse_id 2018105036 skipped\n",
      "horse_id 2018106496 skipped\n",
      "horse_id 2018103702 skipped\n",
      "horse_id 2018104311 skipped\n",
      "horse_id 2018105010 skipped\n",
      "horse_id 2018104211 skipped\n",
      "horse_id 2018100857 skipped\n",
      "horse_id 2018104274 skipped\n",
      "horse_id 2018101449 skipped\n",
      "horse_id 2018105591 skipped\n",
      "horse_id 2018103492 skipped\n",
      "horse_id 2018101101 skipped\n",
      "horse_id 2018100955 skipped\n",
      "horse_id 2018106580 skipped\n",
      "horse_id 2017101162 skipped\n",
      "horse_id 2018102229 skipped\n",
      "horse_id 2018105495 skipped\n",
      "horse_id 2017105400 skipped\n",
      "horse_id 2017100050 skipped\n",
      "horse_id 2018103529 skipped\n",
      "horse_id 2018101608 skipped\n",
      "horse_id 2016105005 skipped\n",
      "horse_id 2018105247 skipped\n",
      "horse_id 2017103469 skipped\n",
      "horse_id 2017101561 skipped\n",
      "horse_id 2017104478 skipped\n",
      "horse_id 2016101241 skipped\n",
      "horse_id 2017105571 skipped\n",
      "horse_id 2017105117 skipped\n",
      "horse_id 2016104238 skipped\n",
      "horse_id 2017102945 skipped\n",
      "horse_id 2017105368 skipped\n",
      "horse_id 2018105157 skipped\n",
      "horse_id 2017105874 skipped\n",
      "horse_id 2018104151 skipped\n",
      "horse_id 2018103736 skipped\n",
      "horse_id 2018101075 skipped\n",
      "horse_id 2018105202 skipped\n",
      "horse_id 2018101722 skipped\n",
      "horse_id 2017105454 skipped\n",
      "horse_id 2018104860 skipped\n",
      "horse_id 2018105316 skipped\n",
      "horse_id 2018100600 skipped\n",
      "horse_id 2018103993 skipped\n",
      "horse_id 2017106020 skipped\n",
      "horse_id 2017106232 skipped\n",
      "horse_id 2018106653 skipped\n",
      "horse_id 2017110168 skipped\n",
      "horse_id 2018100399 skipped\n",
      "horse_id 2018105521 skipped\n",
      "horse_id 2017105655 skipped\n",
      "horse_id 2017105402 skipped\n",
      "horse_id 2018104716 skipped\n",
      "horse_id 2014103521 skipped\n",
      "horse_id 2016103067 skipped\n",
      "horse_id 2018101729 skipped\n",
      "horse_id 2017101523 skipped\n",
      "horse_id 2016104751 skipped\n",
      "horse_id 2017104059 skipped\n",
      "horse_id 2017110103 skipped\n",
      "horse_id 2017102105 skipped\n",
      "horse_id 2016110058 skipped\n",
      "horse_id 2015101239 skipped\n",
      "horse_id 2017101248 skipped\n",
      "horse_id 2017102946 skipped\n",
      "horse_id 2017101943 skipped\n",
      "horse_id 2018101559 skipped\n",
      "horse_id 2017105060 skipped\n",
      "horse_id 2015104546 skipped\n",
      "horse_id 2017106131 skipped\n",
      "horse_id 2016110126 skipped\n",
      "horse_id 2017103895 skipped\n",
      "horse_id 2018105595 skipped\n",
      "horse_id 2016104410 skipped\n",
      "horse_id 2017105198 skipped\n",
      "horse_id 2013100731 skipped\n",
      "horse_id 2015105451 skipped\n",
      "horse_id 2017105137 skipped\n",
      "horse_id 2015104299 skipped\n",
      "horse_id 2015105960 skipped\n",
      "horse_id 2016104819 skipped\n",
      "horse_id 2017103020 skipped\n",
      "horse_id 2016103323 skipped\n",
      "horse_id 2015106499 skipped\n"
     ]
    },
    {
     "data": {
      "text/plain": [
       "['data/html/ped/2018105875.bin',\n",
       " 'data/html/ped/2018105258.bin',\n",
       " 'data/html/ped/2018101134.bin',\n",
       " 'data/html/ped/2018102791.bin',\n",
       " 'data/html/ped/2018101539.bin',\n",
       " 'data/html/ped/2018100570.bin',\n",
       " 'data/html/ped/2018102192.bin',\n",
       " 'data/html/ped/2018102626.bin',\n",
       " 'data/html/ped/2018103582.bin',\n",
       " 'data/html/ped/2018101518.bin',\n",
       " 'data/html/ped/2018106100.bin',\n",
       " 'data/html/ped/2018101447.bin',\n",
       " 'data/html/ped/2018109106.bin',\n",
       " 'data/html/ped/2018106896.bin',\n",
       " 'data/html/ped/2018104780.bin',\n",
       " 'data/html/ped/2018100737.bin',\n",
       " 'data/html/ped/2018105205.bin',\n",
       " 'data/html/ped/2018100974.bin',\n",
       " 'data/html/ped/2018104870.bin',\n",
       " 'data/html/ped/2018106453.bin',\n",
       " 'data/html/ped/2018100926.bin',\n",
       " 'data/html/ped/2018102052.bin',\n",
       " 'data/html/ped/2018103196.bin',\n",
       " 'data/html/ped/2018101898.bin',\n",
       " 'data/html/ped/2018102542.bin',\n",
       " 'data/html/ped/2018103594.bin',\n",
       " 'data/html/ped/2018106609.bin',\n",
       " 'data/html/ped/2018100435.bin',\n",
       " 'data/html/ped/2018105770.bin',\n",
       " 'data/html/ped/2018100706.bin',\n",
       " 'data/html/ped/2018100403.bin',\n",
       " 'data/html/ped/2018105166.bin',\n",
       " 'data/html/ped/2018102691.bin',\n",
       " 'data/html/ped/2018100708.bin',\n",
       " 'data/html/ped/2018104849.bin',\n",
       " 'data/html/ped/2018100066.bin',\n",
       " 'data/html/ped/2018103698.bin',\n",
       " 'data/html/ped/2018102187.bin',\n",
       " 'data/html/ped/2018106086.bin',\n",
       " 'data/html/ped/2018101887.bin',\n",
       " 'data/html/ped/2018102272.bin',\n",
       " 'data/html/ped/2018103483.bin',\n",
       " 'data/html/ped/2018100537.bin',\n",
       " 'data/html/ped/2018103489.bin',\n",
       " 'data/html/ped/2018103004.bin',\n",
       " 'data/html/ped/2018102954.bin',\n",
       " 'data/html/ped/2018104804.bin',\n",
       " 'data/html/ped/2018105800.bin',\n",
       " 'data/html/ped/2018110026.bin',\n",
       " 'data/html/ped/2018103204.bin',\n",
       " 'data/html/ped/2018103059.bin',\n",
       " 'data/html/ped/2018110105.bin',\n",
       " 'data/html/ped/2018106334.bin',\n",
       " 'data/html/ped/2018104676.bin',\n",
       " 'data/html/ped/2018102444.bin',\n",
       " 'data/html/ped/2018101597.bin',\n",
       " 'data/html/ped/2018104222.bin',\n",
       " 'data/html/ped/2019104536.bin',\n",
       " 'data/html/ped/2019103120.bin',\n",
       " 'data/html/ped/2019109094.bin',\n",
       " 'data/html/ped/2019105476.bin',\n",
       " 'data/html/ped/2019103815.bin',\n",
       " 'data/html/ped/2019105130.bin',\n",
       " 'data/html/ped/2019102456.bin',\n",
       " 'data/html/ped/2019100985.bin',\n",
       " 'data/html/ped/2019103276.bin',\n",
       " 'data/html/ped/2019106490.bin',\n",
       " 'data/html/ped/2019102467.bin',\n",
       " 'data/html/ped/2019106524.bin',\n",
       " 'data/html/ped/2019105105.bin',\n",
       " 'data/html/ped/2018103266.bin',\n",
       " 'data/html/ped/2018105036.bin',\n",
       " 'data/html/ped/2018106496.bin',\n",
       " 'data/html/ped/2018103702.bin',\n",
       " 'data/html/ped/2018104311.bin',\n",
       " 'data/html/ped/2018105010.bin',\n",
       " 'data/html/ped/2018104211.bin',\n",
       " 'data/html/ped/2018100857.bin',\n",
       " 'data/html/ped/2018104274.bin',\n",
       " 'data/html/ped/2018101449.bin',\n",
       " 'data/html/ped/2018105591.bin',\n",
       " 'data/html/ped/2018103492.bin',\n",
       " 'data/html/ped/2018101101.bin',\n",
       " 'data/html/ped/2018100955.bin',\n",
       " 'data/html/ped/2018106580.bin',\n",
       " 'data/html/ped/2017101162.bin',\n",
       " 'data/html/ped/2018102229.bin',\n",
       " 'data/html/ped/2018105495.bin',\n",
       " 'data/html/ped/2017105400.bin',\n",
       " 'data/html/ped/2017100050.bin',\n",
       " 'data/html/ped/2018103529.bin',\n",
       " 'data/html/ped/2018101608.bin',\n",
       " 'data/html/ped/2016105005.bin',\n",
       " 'data/html/ped/2018105247.bin',\n",
       " 'data/html/ped/2017103469.bin',\n",
       " 'data/html/ped/2017101561.bin',\n",
       " 'data/html/ped/2017104478.bin',\n",
       " 'data/html/ped/2016101241.bin',\n",
       " 'data/html/ped/2017105571.bin',\n",
       " 'data/html/ped/2017105117.bin',\n",
       " 'data/html/ped/2016104238.bin',\n",
       " 'data/html/ped/2017102945.bin',\n",
       " 'data/html/ped/2017105368.bin',\n",
       " 'data/html/ped/2018105157.bin',\n",
       " 'data/html/ped/2017105874.bin',\n",
       " 'data/html/ped/2018104151.bin',\n",
       " 'data/html/ped/2018103736.bin',\n",
       " 'data/html/ped/2018101075.bin',\n",
       " 'data/html/ped/2018105202.bin',\n",
       " 'data/html/ped/2018101722.bin',\n",
       " 'data/html/ped/2017105454.bin',\n",
       " 'data/html/ped/2018104860.bin',\n",
       " 'data/html/ped/2018105316.bin',\n",
       " 'data/html/ped/2018100600.bin',\n",
       " 'data/html/ped/2018103993.bin',\n",
       " 'data/html/ped/2017106020.bin',\n",
       " 'data/html/ped/2017106232.bin',\n",
       " 'data/html/ped/2018106653.bin',\n",
       " 'data/html/ped/2017110168.bin',\n",
       " 'data/html/ped/2018100399.bin',\n",
       " 'data/html/ped/2018105521.bin',\n",
       " 'data/html/ped/2017105655.bin',\n",
       " 'data/html/ped/2017105402.bin',\n",
       " 'data/html/ped/2018104716.bin',\n",
       " 'data/html/ped/2014103521.bin',\n",
       " 'data/html/ped/2016103067.bin',\n",
       " 'data/html/ped/2018101729.bin',\n",
       " 'data/html/ped/2017101523.bin',\n",
       " 'data/html/ped/2016104751.bin',\n",
       " 'data/html/ped/2017104059.bin',\n",
       " 'data/html/ped/2017110103.bin',\n",
       " 'data/html/ped/2017102105.bin',\n",
       " 'data/html/ped/2016110058.bin',\n",
       " 'data/html/ped/2015101239.bin',\n",
       " 'data/html/ped/2017101248.bin',\n",
       " 'data/html/ped/2017102946.bin',\n",
       " 'data/html/ped/2017101943.bin',\n",
       " 'data/html/ped/2018101559.bin',\n",
       " 'data/html/ped/2017105060.bin',\n",
       " 'data/html/ped/2015104546.bin',\n",
       " 'data/html/ped/2017106131.bin',\n",
       " 'data/html/ped/2016110126.bin',\n",
       " 'data/html/ped/2017103895.bin',\n",
       " 'data/html/ped/2018105595.bin',\n",
       " 'data/html/ped/2016104410.bin',\n",
       " 'data/html/ped/2017105198.bin',\n",
       " 'data/html/ped/2013100731.bin',\n",
       " 'data/html/ped/2015105451.bin',\n",
       " 'data/html/ped/2017105137.bin',\n",
       " 'data/html/ped/2015104299.bin',\n",
       " 'data/html/ped/2015105960.bin',\n",
       " 'data/html/ped/2016104819.bin',\n",
       " 'data/html/ped/2017103020.bin',\n",
       " 'data/html/ped/2016103323.bin',\n",
       " 'data/html/ped/2015106499.bin']"
      ]
     },
     "execution_count": 10,
     "metadata": {},
     "output_type": "execute_result"
    }
   ],
   "source": [
    "getHTMLPed(horse_id_list)"
   ]
  },
  {
   "cell_type": "code",
   "execution_count": 20,
   "metadata": {},
   "outputs": [],
   "source": [
    "html_path_list_peds = glob.glob(\"data/html/ped/*.bin\")"
   ]
  },
  {
   "cell_type": "code",
   "execution_count": 22,
   "metadata": {},
   "outputs": [
    {
     "data": {
      "application/vnd.jupyter.widget-view+json": {
       "model_id": "b4cc7a24e66247a79d6299a68e173832",
       "version_major": 2,
       "version_minor": 0
      },
      "text/plain": [
       "  0%|          | 0/155 [00:00<?, ?it/s]"
      ]
     },
     "metadata": {},
     "output_type": "display_data"
    }
   ],
   "source": [
    "peds = getRawDataPeds(html_path_list_peds)"
   ]
  },
  {
   "cell_type": "code",
   "execution_count": 23,
   "metadata": {},
   "outputs": [],
   "source": [
    "peds.to_pickle(\"data/raw/peds/peds_sample.pickle\")"
   ]
  },
  {
   "cell_type": "code",
   "execution_count": null,
   "id": "044c3ae3",
   "metadata": {},
   "outputs": [],
   "source": []
  }
 ],
 "metadata": {
  "kernelspec": {
   "display_name": "Python 3.8.10",
   "language": "python",
   "name": "python3"
  },
  "language_info": {
   "codemirror_mode": {
    "name": "ipython",
    "version": 3
   },
   "file_extension": ".py",
   "mimetype": "text/x-python",
   "name": "python",
   "nbconvert_exporter": "python",
   "pygments_lexer": "ipython3",
   "version": "3.8.10"
  },
  "vscode": {
   "interpreter": {
    "hash": "bd076ef1a75271821e699ef09bfea1c70f357a92ae877206d442a203076f813b"
   }
  }
 },
 "nbformat": 4,
 "nbformat_minor": 5
}
